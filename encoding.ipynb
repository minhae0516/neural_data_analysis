{
 "cells": [
  {
   "cell_type": "code",
   "execution_count": 1,
   "metadata": {},
   "outputs": [],
   "source": [
    "\"\"\"\n",
    "updated 2019-08-06 \n",
    "written by Minhae Kwon\n",
    "Linear regression for \"Encoding\" Process\n",
    "This code works very well!\n",
    "\n",
    "ref: https://chrisalbon.com/machine_learning/linear_regression/linear_regression_using_scikit-learn/\n",
    "     https://datatofish.com/multiple-linear-regression-python/\n",
    "\n",
    "cross validate score: Coefficient of determination\n",
    "https://en.wikipedia.org/wiki/Coefficient_of_determination\n",
    "\"\"\"\n",
    "\n",
    "from pandas import DataFrame, read_csv\n",
    "#from sklearn.preprocessing import StandardScaler\n",
    "from sklearn.linear_model import LinearRegression\n",
    "from sklearn.model_selection import train_test_split\n",
    "from sklearn.model_selection import cross_val_score, StratifiedKFold\n",
    "from sklearn.model_selection import StratifiedKFold\n",
    "from sklearn.metrics import r2_score\n",
    "#from sklearn.pipeline import Pipeline\n",
    "import numpy as np\n",
    "import matplotlib.pyplot as plt\n",
    "\n",
    "# hyperparameters\n",
    "TEST_SIZE = 0.2  # ratio of test data set \n",
    "N_SPLITS = 10 # \"K\" in K-fold cross validation "
   ]
  },
  {
   "cell_type": "code",
   "execution_count": 2,
   "metadata": {},
   "outputs": [],
   "source": [
    "# read data\n",
    "bb_df = read_csv('./data/bb_df.csv') #behavior belief =[belief for box1, beleif for box2]\n",
    "r_df = read_csv('./data/r_df.csv') # 300 neuron response"
   ]
  },
  {
   "cell_type": "markdown",
   "metadata": {},
   "source": [
    "### there are 3 types of data: test data, train data, validation data"
   ]
  },
  {
   "cell_type": "code",
   "execution_count": 3,
   "metadata": {},
   "outputs": [],
   "source": [
    "# separate test data set\n",
    "r_df_train, r_df_test, bb_df_train, bb_df_test = train_test_split(r_df, bb_df, test_size=TEST_SIZE, random_state = 1)"
   ]
  },
  {
   "cell_type": "code",
   "execution_count": 4,
   "metadata": {},
   "outputs": [],
   "source": [
    "# linear regression is used for encoding process\n",
    "regr = LinearRegression(n_jobs = -1) # n_jobs = -1: parallelize taks to use all cpu cores in your machine"
   ]
  },
  {
   "cell_type": "code",
   "execution_count": 5,
   "metadata": {},
   "outputs": [],
   "source": [
    "# now we use only train data \n",
    "# why use StratifiedKFold?: The folds are made by preserving the percentage of samples for each class.\n",
    "X = r_df_train.to_numpy()\n",
    "y = bb_df_train.to_numpy()\n",
    "k_fold = StratifiedKFold(n_splits=N_SPLITS) # seperate train data and validation data"
   ]
  },
  {
   "cell_type": "code",
   "execution_count": 6,
   "metadata": {},
   "outputs": [
    {
     "name": "stdout",
     "output_type": "stream",
     "text": [
      "score [1. 1.]\n",
      "score [1. 1.]\n",
      "score [1. 1.]\n",
      "score [1. 1.]\n",
      "score [1. 1.]\n",
      "score [1. 1.]\n",
      "score [1. 1.]\n",
      "score [1. 1.]\n",
      "score [1. 1.]\n",
      "score [1. 1.]\n"
     ]
    }
   ],
   "source": [
    "# why argmax(1)? split cannot simply handle multidimension y. \n",
    "# ref: https://stackoverflow.com/questions/48508036/sklearn-stratifiedkfold-valueerror-supported-target-types-are-binary-mul\n",
    "for i, (train_index, val_index) in enumerate(k_fold.split(X, y.argmax(1))):\n",
    "    x_train_kf, x_val_kf = X[train_index], X[val_index]\n",
    "    y_train_kf, y_val_kf = y[train_index], y[val_index]\n",
    "    regr.fit(x_train_kf, y_train_kf) # fit the model\n",
    "    nb_val = regr.predict(x_val_kf) # predict based on current model -> use validation data for evaluation\n",
    "    print('score', r2_score(y_val_kf, nb_val, multioutput='raw_values')) # get r^2 score"
   ]
  },
  {
   "cell_type": "markdown",
   "metadata": {},
   "source": [
    "### Linear regression model: B = W * r + c "
   ]
  },
  {
   "cell_type": "code",
   "execution_count": 7,
   "metadata": {},
   "outputs": [
    {
     "name": "stdout",
     "output_type": "stream",
     "text": [
      "Intercept:  [0.08159064 0.14304911]\n",
      "Coef:  [[ 5.85800195e-03  9.35839215e-03 -1.59702473e-02  4.51308006e-02\n",
      "  -4.63073439e-02 -3.47645620e-03  1.24541666e-02  6.33006724e-02\n",
      "  -9.39338266e-04  2.08965339e-02  1.57204478e-03 -4.11398487e-02\n",
      "   1.09673460e-02 -1.34580738e-02 -2.42116669e-02 -3.45607243e-02\n",
      "  -4.85230732e-02  2.24570353e-02 -4.53351651e-02 -1.64634420e-02\n",
      "   6.74018733e-02  2.22742258e-02  3.33780736e-02  1.50869316e-02\n",
      "  -2.91419261e-02  1.25681429e-03  4.43079080e-02  3.22126077e-02\n",
      "  -4.24613441e-02 -1.54733791e-02 -2.27100900e-02 -4.67519694e-02\n",
      "   1.87230712e-02  2.88124550e-02  2.31528205e-02  1.20701441e-03\n",
      "  -2.26490616e-02  1.96624058e-02  5.60522286e-02 -2.12998220e-02\n",
      "   1.86211432e-02  2.71459369e-02  4.93019048e-02 -2.99019221e-02\n",
      "  -3.00769998e-02 -2.43045497e-03 -7.98703115e-04 -3.38791468e-02\n",
      "   1.56938161e-02  1.65410320e-02 -3.46245354e-02 -3.98487391e-02\n",
      "   1.40451891e-02  2.52954410e-02  1.12389268e-02 -3.77528906e-02\n",
      "   4.14221844e-03 -2.15916190e-01 -2.24868085e-03 -1.69877438e-02\n",
      "  -5.06940422e-02 -1.61875919e-02 -2.03195840e-02 -4.09079380e-03\n",
      "  -2.11444453e-02 -5.61380365e-02 -1.50691730e-02  2.13611763e-02\n",
      "  -6.98858801e-02  6.69197584e-02 -6.77413465e-03 -3.96424642e-02\n",
      "  -4.69450932e-02 -1.09574669e-02  1.09787060e-02  2.32144750e-03\n",
      "   3.10223287e-02  1.23614151e-01 -6.79889796e-03  1.65693628e-02\n",
      "  -1.45183624e-02 -2.10100786e-02 -4.62187452e-05  4.73606721e-02\n",
      "  -1.72942447e-02 -3.43559096e-02  5.28535461e-02 -2.23302095e-02\n",
      "  -4.79966001e-02 -1.68118254e-03 -1.92035363e-02 -4.83913757e-03\n",
      "   2.54059865e-02  4.10431978e-02  1.35631701e-02  9.06641358e-02\n",
      "   2.88062040e-03  7.23209548e-03 -1.38945637e-02 -3.47155252e-03\n",
      "   3.30141741e-03 -9.44941627e-04  5.60656614e-03 -1.55036025e-02\n",
      "  -1.03124892e-02  2.21458535e-02 -3.57368670e-02 -6.54455472e-02\n",
      "   4.19049631e-02  1.41282657e-02  1.41599917e-02 -1.08491004e-03\n",
      "  -1.38644652e-02 -1.62595165e-02  5.68689792e-03 -1.02392266e-03\n",
      "  -6.50051670e-03 -6.50347419e-02  6.41226644e-03  5.33065775e-02\n",
      "   1.73522347e-02  1.61795357e-02  2.20942050e-02 -3.85912527e-02\n",
      "   4.74649097e-02 -2.92962970e-02 -3.93884196e-02 -1.64086744e-02\n",
      "  -2.75043227e-02  1.06189322e-02 -2.03147734e-02 -3.22174093e-02\n",
      "  -2.47383137e-03 -2.77046835e-02  1.47649920e-02  7.61007114e-03\n",
      "   6.90038473e-02  1.77416259e-02 -3.54184868e-02 -1.16695205e-02\n",
      "  -1.34892684e-02  1.37330708e-02 -9.78845927e-03  2.86703249e-02\n",
      "  -4.99442901e-02 -3.65176038e-03 -1.14415399e-02  3.42806007e-03\n",
      "  -2.80132190e-02  1.66226184e-02  7.42415739e-03 -3.43104392e-02\n",
      "   2.22637479e-03  3.22281955e-03  3.79053532e-03 -5.05123064e-02\n",
      "   1.95047060e-03 -6.49064901e-03  2.65477755e-02  1.67367523e-02\n",
      "   1.67257508e-02  2.78909590e-02 -8.39136025e-03  6.69556930e-03\n",
      "   2.14795973e-03  1.56880545e-02  1.97253612e-02  1.62614865e-02\n",
      "   7.49242752e-02 -2.18417962e-02 -1.25517916e-02 -1.80171436e-02\n",
      "  -1.01178573e-02  1.58912226e-02  5.00072308e-02 -7.03475492e-02\n",
      "   3.42211961e-02  1.62640381e-02  1.55157705e-02 -1.82952019e-02\n",
      "  -1.82584569e-02  2.00334123e-02 -2.30992656e-02  1.08748848e-02\n",
      "   2.77819616e-02  2.40103485e-02 -3.19135188e-02 -1.24897267e-02\n",
      "  -1.48754985e-02  5.88000975e-02 -6.21231166e-03 -6.27945684e-05\n",
      "  -4.97427906e-02 -1.73921047e-02  6.36667433e-02 -2.68393907e-02\n",
      "   2.07310803e-02  1.14310310e-02 -8.77124583e-03 -2.53874766e-02\n",
      "   1.25372211e-01  1.51900224e-02  3.88732728e-02  1.18767428e-03\n",
      "   2.30984999e-02  2.18441973e-02  2.94214783e-02 -3.16947087e-02\n",
      "   2.32444048e-02  6.21660257e-02  1.55589834e-02 -2.68898778e-03\n",
      "   8.65201035e-03 -5.59820029e-03  3.25508679e-02 -6.50286997e-02\n",
      "  -2.64702393e-02 -4.81871982e-02 -3.80199431e-02 -1.26113631e-02\n",
      "   2.35801787e-02 -2.94941426e-02 -1.69015978e-02 -5.40125063e-03\n",
      "   5.26235363e-02 -1.90057501e-02  3.12529196e-02 -2.92923456e-03\n",
      "  -4.05501283e-02  3.89649992e-02  4.97617201e-02 -1.17390840e-02\n",
      "   3.34779328e-02 -4.00652628e-02  2.20771561e-02  8.86583620e-03\n",
      "  -1.70654988e-02  4.92056239e-02  2.66800611e-02  1.33129959e-02\n",
      "  -1.67380459e-02  5.28678784e-02 -2.82871133e-02 -2.08703064e-02\n",
      "  -2.21072566e-03 -5.86978721e-02  3.05535986e-02  1.48191241e-02\n",
      "  -5.54052255e-03  2.15934619e-02 -2.75230421e-02 -2.48862379e-02\n",
      "   4.50880223e-02  1.56788072e-02 -1.17951572e-02 -4.50243298e-02\n",
      "   1.45571039e-02 -1.32398180e-03 -6.20782483e-04  5.96394855e-03\n",
      "   6.75956631e-03  2.59245129e-01 -1.86823353e-02  2.30741794e-02\n",
      "   2.18478275e-02  1.98678612e-02 -1.80539900e-03  3.71432814e-02\n",
      "   1.16733092e-01  2.91877742e-02 -1.47803595e-02 -2.77623191e-02\n",
      "   2.63785566e-02  1.88278437e-02 -5.84296019e-02 -2.41821655e-02\n",
      "   2.49394447e-02  3.31854958e-02  1.59375968e-02 -4.93273937e-02\n",
      "  -2.87269804e-03  2.43868496e-02 -2.01866607e-02  2.48882403e-02\n",
      "   3.50918559e-02 -3.53076770e-02  6.60696051e-03 -3.17376886e-02\n",
      "   4.74358932e-02  5.71419302e-02  5.91376974e-02  6.62936657e-02\n",
      "   1.01401908e-02 -2.52886684e-02 -4.19004310e-02  2.10870586e-02\n",
      "  -8.34100540e-03 -4.66513506e-02  1.60989890e-02  5.24237611e-02]\n",
      " [-2.27311690e-02 -7.39656635e-03  1.67664186e-02 -4.35278784e-02\n",
      "  -2.98032010e-02  2.48647281e-03 -2.73094806e-02  7.08594812e-03\n",
      "  -3.56503064e-02  4.66519214e-02 -3.31929522e-02  1.23728351e-02\n",
      "   3.10911549e-02 -1.24880245e-02 -3.13930901e-02 -1.65021110e-02\n",
      "   7.90102509e-03 -2.93998109e-02 -6.21810305e-02 -2.42363351e-02\n",
      "   3.41591692e-02  1.87291439e-03 -2.12256285e-02  4.14493262e-02\n",
      "  -3.29161452e-02 -9.90879503e-03  1.70431652e-02 -4.66078232e-02\n",
      "  -1.32726390e-02  1.45328443e-02  3.44839111e-02  2.42062349e-02\n",
      "  -4.63196631e-02  9.73383560e-04  5.00472173e-02  3.22268277e-02\n",
      "  -2.03725670e-02 -1.26529258e-01  3.88395248e-04 -1.82331067e-02\n",
      "  -1.78025739e-03  5.79185122e-02  8.14425227e-04 -3.00096886e-02\n",
      "  -2.97515338e-03 -1.08075231e-02  5.26897442e-03  1.35594174e-03\n",
      "   4.55531463e-03 -1.45648598e-02  3.24701947e-02  4.22096164e-02\n",
      "  -2.89726851e-02 -1.86678008e-02 -1.03496241e-02 -1.51499829e-02\n",
      "   2.24963951e-02 -2.73846933e-02 -1.47413435e-02 -3.56608269e-02\n",
      "   1.78394576e-02 -1.41741584e-02  2.01471777e-02  3.38701954e-02\n",
      "  -1.98592339e-02  2.26501397e-02 -4.48425006e-03  2.29368656e-02\n",
      "   5.86271039e-02 -1.21767172e-01  6.39816778e-02  5.09372433e-02\n",
      "  -9.92896127e-03 -2.53370076e-02 -1.18464010e-02  4.67932264e-02\n",
      "   2.41835252e-04 -5.28577953e-02  3.78306456e-03 -7.24604917e-03\n",
      "   1.39529889e-02  1.46047316e-02 -8.73891028e-04  5.55566975e-03\n",
      "   4.70612128e-02  1.31050665e-02 -1.42246999e-02 -1.31637436e-02\n",
      "   1.99026148e-02 -4.97173242e-02 -2.63599861e-02  7.31339743e-02\n",
      "   8.68015346e-03 -4.70205145e-03  9.33774877e-02  9.21517283e-02\n",
      "  -3.42097192e-02  1.26989807e-02  2.72435392e-02  2.29308273e-02\n",
      "   2.10518349e-02  5.63709069e-03  1.20425832e-01 -1.43961155e-02\n",
      "   1.94128564e-02  1.93855826e-02  1.21653764e-02  2.28170206e-02\n",
      "  -1.65476571e-02 -2.50731527e-02  1.30539659e-02 -2.97587898e-02\n",
      "  -4.32829546e-02 -7.20219962e-03  4.93298414e-03 -2.71423029e-01\n",
      "   7.00095281e-03  4.71126001e-03  2.69430521e-02  2.33909316e-02\n",
      "  -2.19591851e-02 -2.43952478e-02 -1.42844790e-02  5.59400755e-02\n",
      "   5.41300704e-02 -8.87296841e-03 -1.09611455e-02  4.47424515e-02\n",
      "   2.51903866e-02  1.55278799e-02  2.14399133e-02  1.45704158e-03\n",
      "  -1.36224164e-02 -5.21439697e-03  7.20941496e-03  3.48282304e-02\n",
      "   3.71498618e-02  1.58559698e-02 -3.77805946e-02  2.20824646e-03\n",
      "  -2.02864766e-02 -2.30022068e-01  1.62624724e-02 -2.32052027e-03\n",
      "  -4.02622261e-02  6.07517803e-02  3.91869978e-02 -8.89574570e-04\n",
      "   4.77678636e-02  4.15924212e-02 -2.27751268e-02  3.56221473e-02\n",
      "  -8.47890781e-03 -1.30573900e-02 -1.63739107e-01 -4.25335175e-03\n",
      "   5.43965030e-02 -1.19927771e-03 -1.62774937e-02  2.54211078e-02\n",
      "  -1.07152302e-03  3.16900762e-02 -1.19647243e-02  1.83313643e-03\n",
      "  -1.96564503e-02  4.65945055e-02 -2.76818400e-03 -6.34623627e-03\n",
      "   4.83297643e-02  1.69309777e-02 -4.05319594e-03 -7.62013133e-03\n",
      "  -4.72924976e-02  2.54396708e-02  1.61553938e-02  1.46605191e-03\n",
      "   4.76469463e-02 -1.00071109e-02 -2.19717986e-02 -3.75767576e-03\n",
      "   2.58116758e-03 -4.42877127e-02  5.68066985e-03 -2.04943503e-02\n",
      "   3.81137418e-02 -5.55309206e-02 -9.48765866e-03 -4.67547906e-02\n",
      "  -1.94467927e-02 -1.70221774e-02 -8.36255151e-04  3.64020730e-02\n",
      "  -8.17635135e-03 -1.08693949e-02 -2.48933030e-02 -3.92379350e-04\n",
      "  -1.55651347e-02  8.79342619e-03 -1.50464158e-03  1.88352336e-02\n",
      "   2.22056944e-02 -7.13801311e-03  1.76207225e-02 -2.13206308e-02\n",
      "   1.17837982e-02 -2.11807932e-02  2.04514161e-02 -8.65962811e-03\n",
      "   1.57441535e-02 -4.09924010e-02 -4.90169919e-02 -1.15732994e-02\n",
      "  -1.16793850e-02  3.75849908e-03  2.59920176e-02 -1.33393138e-02\n",
      "   3.53049723e-02 -3.96694125e-02 -3.68316174e-03 -3.67855876e-02\n",
      "   9.50314041e-03  5.09520031e-03 -1.26720449e-02 -1.15432413e-02\n",
      "   7.29234216e-02 -1.16321849e-02  8.79488786e-03 -4.04197904e-03\n",
      "   2.97630903e-02 -1.54672739e-02  4.07566875e-02  2.21796373e-02\n",
      "  -1.60799296e-02 -2.72702196e-02 -1.14321808e-02 -2.83685409e-02\n",
      "  -2.20414856e-02 -3.33019555e-02  4.35931699e-02 -2.43814946e-02\n",
      "   6.96266650e-03  8.03144142e-03  1.70342297e-02 -3.51561377e-02\n",
      "   6.19225091e-03 -2.02073789e-02  5.02405536e-02  7.37177237e-03\n",
      "  -3.01934671e-02  3.01067223e-02 -3.27917280e-02 -6.03665550e-02\n",
      "  -2.04206185e-02  3.28577591e-03 -9.05093622e-02  1.18225890e-02\n",
      "   2.37408906e-02 -5.76259308e-02 -9.21821003e-03  3.27017287e-02\n",
      "   1.34457513e-02 -1.53078868e-02 -6.51617661e-03  1.17732911e-02\n",
      "   1.02192370e-03 -9.55822486e-04 -4.03489255e-02  4.10041918e-02\n",
      "  -8.64059322e-03 -3.24438991e-02  9.98761585e-03 -3.43177055e-02\n",
      "  -2.06993840e-04  1.45900977e-03 -1.98204530e-02 -3.89169529e-02\n",
      "   3.90188011e-02 -6.00964705e-03  9.41779655e-03  1.14082245e-02\n",
      "   2.13313526e-02  4.25517230e-02 -5.18166593e-02  1.52555280e-02\n",
      "  -2.82351222e-02 -1.59192039e-02 -1.28128827e-02 -7.67805770e-03\n",
      "  -5.68623458e-02  9.14803725e-03  3.19535144e-02 -1.52706542e-02\n",
      "   1.62761991e-02 -3.22331714e-02  1.94124752e-02 -2.51804984e-02\n",
      "   1.09767440e-02 -4.17076888e-02 -1.31564221e-01 -5.15194775e-03]]\n"
     ]
    }
   ],
   "source": [
    "\"\"\"\n",
    "c = Intercept\n",
    "B (behavior belief) N x 2 dimension (N: # of data)\n",
    "W (Coef): 2 x 300 dimension\n",
    "r(neural response - 300 neurons) N x 300 dimension\n",
    "\"\"\"\n",
    "\n",
    "print('Intercept: ', regr.intercept_)\n",
    "print('Coef: ', regr.coef_)\n"
   ]
  },
  {
   "cell_type": "markdown",
   "metadata": {},
   "source": [
    "### evaluate model with test data"
   ]
  },
  {
   "cell_type": "code",
   "execution_count": 8,
   "metadata": {},
   "outputs": [
    {
     "name": "stdout",
     "output_type": "stream",
     "text": [
      "encoding mean squared error: \n",
      " behavior_belief1    9.554392e-13\n",
      "behavior_belief2    1.396729e-12\n",
      "dtype: float64\n",
      "encoding error std:\n",
      " behavior_belief1    9.770811e-07\n",
      "behavior_belief2    1.181502e-06\n",
      "dtype: float64\n",
      "score [1. 1.]\n"
     ]
    }
   ],
   "source": [
    "nb_test = regr.predict(r_df_test)\n",
    "\n",
    "encoding_error = bb_df_test - nb_test # true - estimate\n",
    "print('encoding mean squared error: \\n', np.mean(encoding_error**2, axis=0))\n",
    "print('encoding error std:\\n', np.std(encoding_error, axis=0))\n",
    "print('score', r2_score(bb_df_test, nb_test, multioutput='raw_values'))"
   ]
  },
  {
   "cell_type": "code",
   "execution_count": 9,
   "metadata": {},
   "outputs": [],
   "source": [
    "nb_df_test = DataFrame(nb_test, columns = bb_df.columns) "
   ]
  },
  {
   "cell_type": "code",
   "execution_count": 10,
   "metadata": {},
   "outputs": [
    {
     "data": {
      "image/png": "[encoded data removed]",
      "text/plain": [
       "<Figure size 432x288 with 1 Axes>"
      ]
     },
     "metadata": {
      "needs_background": "light"
     },
     "output_type": "display_data"
    },
    {
     "data": {
      "image/png": "[encoded data removed]",
      "text/plain": [
       "<Figure size 432x288 with 1 Axes>"
      ]
     },
     "metadata": {
      "needs_background": "light"
     },
     "output_type": "display_data"
    }
   ],
   "source": [
    "\n",
    "# plot: compare raw data vs prediction\n",
    "S = 5 # dot size for scatter plot\n",
    "plt.scatter(bb_df_test['behavior_belief1'], nb_df_test['behavior_belief1'], s=S, c='blue', marker='o')\n",
    "plt.xlabel('Beliefs from behavior model (true)')\n",
    "plt.ylabel('Beliefs from neural code (estimated)')\n",
    "plt.title('Encoding: Box 1 (test data)')\n",
    "plt.show()\n",
    "\n",
    "plt.scatter(bb_df_test['behavior_belief2'], nb_df_test['behavior_belief2'], s=S, c='red', marker='x')\n",
    "plt.xlabel('Beliefs from behavior model (true)')\n",
    "plt.ylabel('Beliefs from neural code (estimated)')\n",
    "plt.title('Encoding: Box 2 (test data)')\n",
    "plt.show()"
   ]
  },
  {
   "cell_type": "markdown",
   "metadata": {},
   "source": [
    "### build neural belief data using the learned model"
   ]
  },
  {
   "cell_type": "code",
   "execution_count": 11,
   "metadata": {},
   "outputs": [],
   "source": [
    "#neural estimate of belief using current linear regression model\n",
    "nb= regr.predict(r_df)  # input is ALL data\n",
    "nb_df = DataFrame(nb, columns = bb_df.columns)\n",
    "#save neural estimate belief\n",
    "nb_df.to_csv(path_or_buf='./data/nb_df.csv',index=False)"
   ]
  },
  {
   "cell_type": "code",
   "execution_count": 12,
   "metadata": {},
   "outputs": [
    {
     "data": {
      "image/png": "[encoded data removed]",
      "text/plain": [
       "<Figure size 432x288 with 1 Axes>"
      ]
     },
     "metadata": {
      "needs_background": "light"
     },
     "output_type": "display_data"
    },
    {
     "data": {
      "image/png": "[encoded data removed]",
      "text/plain": [
       "<Figure size 432x288 with 1 Axes>"
      ]
     },
     "metadata": {
      "needs_background": "light"
     },
     "output_type": "display_data"
    }
   ],
   "source": [
    "# plot: compare raw data vs prediction\n",
    "S = 5 # dot size for scatter plot\n",
    "plt.scatter(bb_df['behavior_belief1'], nb_df['behavior_belief1'], s=S, c='blue', marker='o')\n",
    "plt.xlabel('Beliefs from behavior model (true)')\n",
    "plt.ylabel('Beliefs from neural code (estimated)')\n",
    "plt.title('Encoding: Box 1 (ALL data)')\n",
    "plt.show()\n",
    "\n",
    "plt.scatter(bb_df['behavior_belief2'], nb_df['behavior_belief2'], s=S, c='red', marker='x')\n",
    "plt.xlabel('Beliefs from behavior model (true)')\n",
    "plt.ylabel('Beliefs from neural code (estimated)')\n",
    "plt.title('Encoding: Box 2 (ALL data)')\n",
    "plt.show()\n"
   ]
  },
  {
   "cell_type": "code",
   "execution_count": null,
   "metadata": {},
   "outputs": [],
   "source": []
  },
  {
   "cell_type": "code",
   "execution_count": null,
   "metadata": {},
   "outputs": [],
   "source": []
  }
 ],
 "metadata": {
  "kernelspec": {
   "display_name": "Python 3",
   "language": "python",
   "name": "python3"
  },
  "language_info": {
   "codemirror_mode": {
    "name": "ipython",
    "version": 3
   },
   "file_extension": ".py",
   "mimetype": "text/x-python",
   "name": "python",
   "nbconvert_exporter": "python",
   "pygments_lexer": "ipython3",
   "version": "3.7.1"
  }
 },
 "nbformat": 4,
 "nbformat_minor": 1
}
