{
 "cells": [
  {
   "cell_type": "code",
   "execution_count": 280,
   "metadata": {},
   "outputs": [],
   "source": [
    "\"\"\"\n",
    "updated 2019-08-05 \n",
    "written by Minhae Kwon\n",
    "Multinomial logistic regression for \"Decoding\" process\n",
    "ref: https://chrisalbon.com/machine_learning/naive_bayes/multinomial_logistic_regression/\n",
    "\"\"\"\n",
    "from pandas import DataFrame, read_csv\n",
    "from sklearn.preprocessing import StandardScaler\n",
    "from sklearn.linear_model import LogisticRegression\n",
    "from sklearn.model_selection import train_test_split\n",
    "from sklearn.model_selection import cross_val_score, StratifiedKFold\n",
    "from sklearn.metrics import r2_score\n",
    "import numpy as np\n",
    "import matplotlib.pyplot as plt"
   ]
  },
  {
   "cell_type": "markdown",
   "metadata": {},
   "source": [
    "# Since the code does not work with current data set, I tried using IRIS data"
   ]
  },
  {
   "cell_type": "code",
   "execution_count": 281,
   "metadata": {},
   "outputs": [],
   "source": [
    "USE_IRIS_DATA = False #if false use our data\n",
    "\n",
    "# in order to confirm my code, use well-known iris data\n",
    "if USE_IRIS_DATA: \n",
    "    from sklearn import datasets\n",
    "\n",
    "    # Load data\n",
    "    iris = datasets.load_iris()\n",
    "    nb_df = iris.data\n",
    "    a_df = iris.target\n",
    "else: \n",
    "    nb_df = read_csv('./data/bb_df.csv').to_numpy() #nueral estimate (from encoding) for belief =[belief for box1, beleif for box2]\n",
    "    a_df = read_csv('./data/a_df.csv').to_numpy().reshape(-1) # action\n"
   ]
  },
  {
   "cell_type": "code",
   "execution_count": 282,
   "metadata": {},
   "outputs": [],
   "source": [
    "TEST_SIZE = 0.3  # ratio of test data set \n",
    "N_SPLITS = 5 # \"K\" in K-fold cross validation \n",
    "\n",
    "# separate test data set\n",
    "nb_df_train, nb_df_test, a_df_train, a_df_test = train_test_split(nb_df, a_df, test_size=TEST_SIZE, random_state = 1)"
   ]
  },
  {
   "cell_type": "code",
   "execution_count": 283,
   "metadata": {},
   "outputs": [],
   "source": [
    "# now we use only train data \n",
    "# why use StratifiedKFold?: The folds are made by preserving the percentage of samples for each class.\n",
    "X = nb_df_train#.to_numpy()\n",
    "#print(X)\n",
    "y = a_df_train#.to_numpy()"
   ]
  },
  {
   "cell_type": "code",
   "execution_count": 284,
   "metadata": {},
   "outputs": [],
   "source": [
    "k_fold = StratifiedKFold(n_splits=N_SPLITS) # seperate train data and validation data"
   ]
  },
  {
   "cell_type": "code",
   "execution_count": 285,
   "metadata": {},
   "outputs": [],
   "source": [
    "# Standarize features\n",
    "scaler = StandardScaler()\n",
    "# Create multinomial logistic regression object\n",
    "regr = LogisticRegression(random_state=0, multi_class='multinomial', solver='newton-cg')"
   ]
  },
  {
   "cell_type": "code",
   "execution_count": 286,
   "metadata": {},
   "outputs": [
    {
     "name": "stdout",
     "output_type": "stream",
     "text": [
      "[0 0 0 ... 0 0 0]\n",
      "[1 2 2 ... 2 2 4]\n",
      "score -1.3603634009319818\n",
      "[0 0 0 ... 0 0 0]\n",
      "[3 3 3 ... 3 0 3]\n",
      "score -1.3589086860363504\n",
      "[0 0 0 ... 0 0 0]\n",
      "[4 2 2 ... 4 4 4]\n",
      "score -1.3571677593258675\n",
      "[0 0 0 ... 0 0 0]\n",
      "[2 2 2 ... 4 4 4]\n",
      "score -1.3595773472124533\n",
      "[0 0 0 ... 0 0 0]\n",
      "[2 2 2 ... 3 3 1]\n",
      "score -1.3586482181112407\n"
     ]
    }
   ],
   "source": [
    "for train_index, val_index in k_fold.split(X, y):\n",
    "    #print(\"TRAIN:\", train_index, \"TEST:\", val_index)\n",
    "    x_train_kf, x_val_kf = X[train_index], X[val_index]\n",
    "    y_train_kf, y_val_kf = y[train_index], y[val_index]\n",
    "    #print('x_train_kf:', x_train_kf)\n",
    "    #print('y_train_kf:',y_train_kf)\n",
    "    x_train_kf_std = scaler.fit_transform(x_train_kf)\n",
    "    regr = regr.fit(x_train_kf_std, y_train_kf.ravel()) # fit the model\n",
    "    #print(y_train_kf)\n",
    "    #regr.fit(x_train_kf, y_train_kf.ravel()) # fit the model\n",
    "    # validation\n",
    "    x_val_kf_std = scaler.fit_transform(x_val_kf)\n",
    "    a_val = regr.predict(x_val_kf_std) # predict based on current model -> use validation data for evaluation\n",
    "    #a_val = regr.predict(x_val_kf) # predict based on current model -> use validation data for evaluation\n",
    "    # View predicted probabilities\n",
    "    #print(regr.predict_proba(x_val_kf))\n",
    "    print(a_val)\n",
    "    print(y_val_kf)\n",
    "    \n",
    "    #print('score', regr.score(x_val_kf, a_val))\n",
    "    print('score', r2_score(y_val_kf, a_val, multioutput='uniform_average'))#, multioutput='raw_values')) # get r2 score"
   ]
  },
  {
   "cell_type": "code",
   "execution_count": 287,
   "metadata": {},
   "outputs": [
    {
     "name": "stdout",
     "output_type": "stream",
     "text": [
      "[0 0 0 ... 0 0 0]\n",
      "[0 2 0 ... 1 0 1]\n"
     ]
    }
   ],
   "source": [
    "### evaluate model with test data\n",
    "nb_df_test_std = scaler.fit_transform(nb_df_test)\n",
    "a_dec_test = regr.predict(nb_df_test_std)\n",
    "\n",
    "print(a_dec_test)\n",
    "print(a_df_test)"
   ]
  },
  {
   "cell_type": "code",
   "execution_count": 288,
   "metadata": {},
   "outputs": [
    {
     "name": "stdout",
     "output_type": "stream",
     "text": [
      "mean decoding error mean: \n",
      " 1.6171929824561404\n",
      "mean decoding error std:\n",
      " 1.377177069971765\n",
      "score [-1.37893606]\n"
     ]
    }
   ],
   "source": [
    "decoding_error = a_df_test - a_dec_test.reshape(-1,1) # true - estimate\n",
    "print('mean decoding error mean: \\n', np.mean(decoding_error))\n",
    "print('mean decoding error std:\\n', np.std(decoding_error))\n",
    "print('score', r2_score(a_df_test, a_dec_test, multioutput='raw_values'))\n",
    "\n",
    "\n",
    "\n",
    "#a_dec_df_test = DataFrame(a_dec_test, columns =a_df.columns) "
   ]
  },
  {
   "cell_type": "code",
   "execution_count": 289,
   "metadata": {},
   "outputs": [
    {
     "data": {
      "image/png": "[encoded data removed]",
      "text/plain": [
       "<Figure size 432x288 with 1 Axes>"
      ]
     },
     "metadata": {
      "needs_background": "light"
     },
     "output_type": "display_data"
    }
   ],
   "source": [
    "# plot: compare raw data vs prediction\n",
    "plt.scatter(a_df_test, a_dec_test, s=10, c='blue', marker='o')\n",
    "plt.xlabel('true action')\n",
    "plt.ylabel('estimated action')\n",
    "plt.title('Decoding: test data')\n",
    "plt.show()"
   ]
  },
  {
   "cell_type": "code",
   "execution_count": 279,
   "metadata": {},
   "outputs": [
    {
     "data": {
      "text/plain": [
       "\"\\n# plot: compare raw data vs prediction\\nplt.scatter(a_df_test['action'], a_dec_df_test['action'], s=10, c='blue', marker='o')\\nplt.xlabel('true action')\\nplt.ylabel('estimated action')\\nplt.title('Decoding: test data')\\nplt.show()\\n\""
      ]
     },
     "execution_count": 279,
     "metadata": {},
     "output_type": "execute_result"
    }
   ],
   "source": [
    "\"\"\"\n",
    "# plot: compare raw data vs prediction\n",
    "plt.scatter(a_df_test['action'], a_dec_df_test['action'], s=10, c='blue', marker='o')\n",
    "plt.xlabel('true action')\n",
    "plt.ylabel('estimated action')\n",
    "plt.title('Decoding: test data')\n",
    "plt.show()\n",
    "\"\"\""
   ]
  },
  {
   "cell_type": "code",
   "execution_count": null,
   "metadata": {
    "collapsed": true
   },
   "outputs": [],
   "source": [
    "\"\"\"\n",
    "\n",
    "######\n",
    "\n",
    "X_std = scaler.fit_transform(X)\n",
    "\n",
    "policy = regr.fit(X_std, Y) # Train model\n",
    "\n",
    "# Create new belief\n",
    "new_belief = [[.5, .5, .5, .5]]\n",
    "# Predict class\n",
    "policy.predict(new_belief)\n",
    "\n",
    "# View predicted probabilities\n",
    "model.predict_proba(new_belief)\n",
    "\n",
    "\n",
    "# holdout one at a time.\n",
    "kf = KFold(len(gamedf), n_folds=50, shuffle=False)\n",
    "print(\"Average CV accuracy:\", cross_val_score(logreg, X, y, cv=kf).mean())\n",
    "\"\"\""
   ]
  }
 ],
 "metadata": {
  "kernelspec": {
   "display_name": "Python 3",
   "language": "python",
   "name": "python3"
  },
  "language_info": {
   "codemirror_mode": {
    "name": "ipython",
    "version": 3
   },
   "file_extension": ".py",
   "mimetype": "text/x-python",
   "name": "python",
   "nbconvert_exporter": "python",
   "pygments_lexer": "ipython3",
   "version": "3.7.1"
  }
 },
 "nbformat": 4,
 "nbformat_minor": 1
}
