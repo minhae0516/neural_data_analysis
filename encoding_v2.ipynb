{
 "cells": [
  {
   "cell_type": "code",
   "execution_count": 260,
   "metadata": {},
   "outputs": [],
   "source": [
    "\"\"\"\n",
    "updated 2019-08-06 \n",
    "written by Minhae Kwon\n",
    "Linear regression for \"Encoding\" Process\n",
    "ref: https://chrisalbon.com/machine_learning/linear_regression/linear_regression_using_scikit-learn/\n",
    "     https://datatofish.com/multiple-linear-regression-python/\n",
    "\n",
    "cross validate score: Coefficient of determination\n",
    "https://en.wikipedia.org/wiki/Coefficient_of_determination\n",
    "\"\"\"\n",
    "\n",
    "from pandas import DataFrame, read_csv\n",
    "#from sklearn.preprocessing import StandardScaler\n",
    "from sklearn.linear_model import LinearRegression\n",
    "from sklearn.model_selection import train_test_split\n",
    "from sklearn.model_selection import cross_val_score\n",
    "from sklearn.metrics import r2_score\n",
    "from sklearn.pipeline import Pipeline\n",
    "import numpy as np\n",
    "import matplotlib.pyplot as plt\n",
    "\n",
    "bb_df = read_csv('./data/bb_df.csv') #behavior belief =[belief for box1, beleif for box2]\n",
    "r_df = read_csv('./data/r_df.csv') # 300 neuron response\n",
    "\n",
    "TEST_SIZE = 0.2  # ratio of test data set \n",
    "N_SPLITS = 10 # \"K\" in K-fold cross validation "
   ]
  },
  {
   "cell_type": "markdown",
   "metadata": {},
   "source": [
    "### there are 3 types of data: test data, train data, validation data"
   ]
  },
  {
   "cell_type": "code",
   "execution_count": 261,
   "metadata": {},
   "outputs": [],
   "source": [
    "# separate test data set\n",
    "r_df_train, r_df_test, bb_df_train, bb_df_test = train_test_split(r_df, bb_df, test_size=TEST_SIZE, random_state = 1)"
   ]
  },
  {
   "cell_type": "code",
   "execution_count": 262,
   "metadata": {},
   "outputs": [],
   "source": [
    "regr = LinearRegression() # linear regression is used for encoding process"
   ]
  },
  {
   "cell_type": "code",
   "execution_count": 263,
   "metadata": {},
   "outputs": [],
   "source": [
    "# now we use only train data \n",
    "# why use StratifiedKFold?: The folds are made by preserving the percentage of samples for each class.\n",
    "X = r_df_train.to_numpy()\n",
    "y = bb_df_train.to_numpy()\n",
    "k_fold = StratifiedKFold(n_splits=N_SPLITS) # seperate train data and validation data"
   ]
  },
  {
   "cell_type": "code",
   "execution_count": 265,
   "metadata": {},
   "outputs": [
    {
     "name": "stdout",
     "output_type": "stream",
     "text": [
      "score [1. 1.]\n",
      "score [1. 1.]\n",
      "score [1. 1.]\n",
      "score [1. 1.]\n",
      "score [1. 1.]\n",
      "score [1. 1.]\n",
      "score [1. 1.]\n",
      "score [1. 1.]\n",
      "score [1. 1.]\n",
      "score [1. 1.]\n"
     ]
    }
   ],
   "source": [
    "# why argmax(1)? split cannot simply handle multidimension y. \n",
    "# ref: https://stackoverflow.com/questions/48508036/sklearn-stratifiedkfold-valueerror-supported-target-types-are-binary-mul\n",
    "for i, (train_index, val_index) in enumerate(k_fold.split(X, y.argmax(1))):\n",
    "    #print(\"TRAIN:\", train_index, \"TEST:\", val_index)\n",
    "    x_train_kf, x_val_kf = X[train_index], X[val_index]\n",
    "    y_train_kf, y_val_kf = y[train_index], y[val_index]\n",
    "    #print(x_train_kf)\n",
    "    #print(y_train_kf)\n",
    "    regr.fit(x_train_kf, y_train_kf) # fit the model\n",
    "    nb_val = regr.predict(x_val_kf) # predict based on current model -> use validation data for evaluation\n",
    "    print('score', r2_score(y_val_kf, nb_val, multioutput='raw_values')) # get r2 score"
   ]
  },
  {
   "cell_type": "markdown",
   "metadata": {},
   "source": [
    "### Linear regression model: B = W * r + c "
   ]
  },
  {
   "cell_type": "code",
   "execution_count": 266,
   "metadata": {},
   "outputs": [
    {
     "name": "stdout",
     "output_type": "stream",
     "text": [
      "Intercept:  [0.08159064 0.14304911]\n",
      "Coef:  [[ 5.85800195e-03  9.35839215e-03 -1.59702473e-02  4.51308006e-02\n",
      "  -4.63073439e-02 -3.47645620e-03  1.24541666e-02  6.33006724e-02\n",
      "  -9.39338266e-04  2.08965339e-02  1.57204478e-03 -4.11398487e-02\n",
      "   1.09673460e-02 -1.34580738e-02 -2.42116669e-02 -3.45607243e-02\n",
      "  -4.85230732e-02  2.24570353e-02 -4.53351651e-02 -1.64634420e-02\n",
      "   6.74018733e-02  2.22742258e-02  3.33780736e-02  1.50869316e-02\n",
      "  -2.91419261e-02  1.25681429e-03  4.43079080e-02  3.22126077e-02\n",
      "  -4.24613441e-02 -1.54733791e-02 -2.27100900e-02 -4.67519694e-02\n",
      "   1.87230712e-02  2.88124550e-02  2.31528205e-02  1.20701441e-03\n",
      "  -2.26490616e-02  1.96624058e-02  5.60522286e-02 -2.12998220e-02\n",
      "   1.86211432e-02  2.71459369e-02  4.93019048e-02 -2.99019221e-02\n",
      "  -3.00769998e-02 -2.43045497e-03 -7.98703115e-04 -3.38791468e-02\n",
      "   1.56938161e-02  1.65410320e-02 -3.46245354e-02 -3.98487391e-02\n",
      "   1.40451891e-02  2.52954410e-02  1.12389268e-02 -3.77528906e-02\n",
      "   4.14221844e-03 -2.15916190e-01 -2.24868085e-03 -1.69877438e-02\n",
      "  -5.06940422e-02 -1.61875919e-02 -2.03195840e-02 -4.09079380e-03\n",
      "  -2.11444453e-02 -5.61380365e-02 -1.50691730e-02  2.13611763e-02\n",
      "  -6.98858801e-02  6.69197584e-02 -6.77413465e-03 -3.96424642e-02\n",
      "  -4.69450932e-02 -1.09574669e-02  1.09787060e-02  2.32144750e-03\n",
      "   3.10223287e-02  1.23614151e-01 -6.79889796e-03  1.65693628e-02\n",
      "  -1.45183624e-02 -2.10100786e-02 -4.62187452e-05  4.73606721e-02\n",
      "  -1.72942447e-02 -3.43559096e-02  5.28535461e-02 -2.23302095e-02\n",
      "  -4.79966001e-02 -1.68118254e-03 -1.92035363e-02 -4.83913757e-03\n",
      "   2.54059865e-02  4.10431978e-02  1.35631701e-02  9.06641358e-02\n",
      "   2.88062040e-03  7.23209548e-03 -1.38945637e-02 -3.47155252e-03\n",
      "   3.30141741e-03 -9.44941627e-04  5.60656614e-03 -1.55036025e-02\n",
      "  -1.03124892e-02  2.21458535e-02 -3.57368670e-02 -6.54455472e-02\n",
      "   4.19049631e-02  1.41282657e-02  1.41599917e-02 -1.08491004e-03\n",
      "  -1.38644652e-02 -1.62595165e-02  5.68689792e-03 -1.02392266e-03\n",
      "  -6.50051670e-03 -6.50347419e-02  6.41226644e-03  5.33065775e-02\n",
      "   1.73522347e-02  1.61795357e-02  2.20942050e-02 -3.85912527e-02\n",
      "   4.74649097e-02 -2.92962970e-02 -3.93884196e-02 -1.64086744e-02\n",
      "  -2.75043227e-02  1.06189322e-02 -2.03147734e-02 -3.22174093e-02\n",
      "  -2.47383137e-03 -2.77046835e-02  1.47649920e-02  7.61007114e-03\n",
      "   6.90038473e-02  1.77416259e-02 -3.54184868e-02 -1.16695205e-02\n",
      "  -1.34892684e-02  1.37330708e-02 -9.78845927e-03  2.86703249e-02\n",
      "  -4.99442901e-02 -3.65176038e-03 -1.14415399e-02  3.42806007e-03\n",
      "  -2.80132190e-02  1.66226184e-02  7.42415739e-03 -3.43104392e-02\n",
      "   2.22637479e-03  3.22281955e-03  3.79053532e-03 -5.05123064e-02\n",
      "   1.95047060e-03 -6.49064901e-03  2.65477755e-02  1.67367523e-02\n",
      "   1.67257508e-02  2.78909590e-02 -8.39136025e-03  6.69556930e-03\n",
      "   2.14795973e-03  1.56880545e-02  1.97253612e-02  1.62614865e-02\n",
      "   7.49242752e-02 -2.18417962e-02 -1.25517916e-02 -1.80171436e-02\n",
      "  -1.01178573e-02  1.58912226e-02  5.00072308e-02 -7.03475492e-02\n",
      "   3.42211961e-02  1.62640381e-02  1.55157705e-02 -1.82952019e-02\n",
      "  -1.82584569e-02  2.00334123e-02 -2.30992656e-02  1.08748848e-02\n",
      "   2.77819616e-02  2.40103485e-02 -3.19135188e-02 -1.24897267e-02\n",
      "  -1.48754985e-02  5.88000975e-02 -6.21231166e-03 -6.27945684e-05\n",
      "  -4.97427906e-02 -1.73921047e-02  6.36667433e-02 -2.68393907e-02\n",
      "   2.07310803e-02  1.14310310e-02 -8.77124583e-03 -2.53874766e-02\n",
      "   1.25372211e-01  1.51900224e-02  3.88732728e-02  1.18767428e-03\n",
      "   2.30984999e-02  2.18441973e-02  2.94214783e-02 -3.16947087e-02\n",
      "   2.32444048e-02  6.21660257e-02  1.55589834e-02 -2.68898778e-03\n",
      "   8.65201035e-03 -5.59820029e-03  3.25508679e-02 -6.50286997e-02\n",
      "  -2.64702393e-02 -4.81871982e-02 -3.80199431e-02 -1.26113631e-02\n",
      "   2.35801787e-02 -2.94941426e-02 -1.69015978e-02 -5.40125063e-03\n",
      "   5.26235363e-02 -1.90057501e-02  3.12529196e-02 -2.92923456e-03\n",
      "  -4.05501283e-02  3.89649992e-02  4.97617201e-02 -1.17390840e-02\n",
      "   3.34779328e-02 -4.00652628e-02  2.20771561e-02  8.86583620e-03\n",
      "  -1.70654988e-02  4.92056239e-02  2.66800611e-02  1.33129959e-02\n",
      "  -1.67380459e-02  5.28678784e-02 -2.82871133e-02 -2.08703064e-02\n",
      "  -2.21072566e-03 -5.86978721e-02  3.05535986e-02  1.48191241e-02\n",
      "  -5.54052255e-03  2.15934619e-02 -2.75230421e-02 -2.48862379e-02\n",
      "   4.50880223e-02  1.56788072e-02 -1.17951572e-02 -4.50243298e-02\n",
      "   1.45571039e-02 -1.32398180e-03 -6.20782483e-04  5.96394855e-03\n",
      "   6.75956631e-03  2.59245129e-01 -1.86823353e-02  2.30741794e-02\n",
      "   2.18478275e-02  1.98678612e-02 -1.80539900e-03  3.71432814e-02\n",
      "   1.16733092e-01  2.91877742e-02 -1.47803595e-02 -2.77623191e-02\n",
      "   2.63785566e-02  1.88278437e-02 -5.84296019e-02 -2.41821655e-02\n",
      "   2.49394447e-02  3.31854958e-02  1.59375968e-02 -4.93273937e-02\n",
      "  -2.87269804e-03  2.43868496e-02 -2.01866607e-02  2.48882403e-02\n",
      "   3.50918559e-02 -3.53076770e-02  6.60696051e-03 -3.17376886e-02\n",
      "   4.74358932e-02  5.71419302e-02  5.91376974e-02  6.62936657e-02\n",
      "   1.01401908e-02 -2.52886684e-02 -4.19004310e-02  2.10870586e-02\n",
      "  -8.34100540e-03 -4.66513506e-02  1.60989890e-02  5.24237611e-02]\n",
      " [-2.27311690e-02 -7.39656635e-03  1.67664186e-02 -4.35278784e-02\n",
      "  -2.98032010e-02  2.48647281e-03 -2.73094806e-02  7.08594812e-03\n",
      "  -3.56503064e-02  4.66519214e-02 -3.31929522e-02  1.23728351e-02\n",
      "   3.10911549e-02 -1.24880245e-02 -3.13930901e-02 -1.65021110e-02\n",
      "   7.90102509e-03 -2.93998109e-02 -6.21810305e-02 -2.42363351e-02\n",
      "   3.41591692e-02  1.87291439e-03 -2.12256285e-02  4.14493262e-02\n",
      "  -3.29161452e-02 -9.90879503e-03  1.70431652e-02 -4.66078232e-02\n",
      "  -1.32726390e-02  1.45328443e-02  3.44839111e-02  2.42062349e-02\n",
      "  -4.63196631e-02  9.73383560e-04  5.00472173e-02  3.22268277e-02\n",
      "  -2.03725670e-02 -1.26529258e-01  3.88395248e-04 -1.82331067e-02\n",
      "  -1.78025739e-03  5.79185122e-02  8.14425227e-04 -3.00096886e-02\n",
      "  -2.97515338e-03 -1.08075231e-02  5.26897442e-03  1.35594174e-03\n",
      "   4.55531463e-03 -1.45648598e-02  3.24701947e-02  4.22096164e-02\n",
      "  -2.89726851e-02 -1.86678008e-02 -1.03496241e-02 -1.51499829e-02\n",
      "   2.24963951e-02 -2.73846933e-02 -1.47413435e-02 -3.56608269e-02\n",
      "   1.78394576e-02 -1.41741584e-02  2.01471777e-02  3.38701954e-02\n",
      "  -1.98592339e-02  2.26501397e-02 -4.48425006e-03  2.29368656e-02\n",
      "   5.86271039e-02 -1.21767172e-01  6.39816778e-02  5.09372433e-02\n",
      "  -9.92896127e-03 -2.53370076e-02 -1.18464010e-02  4.67932264e-02\n",
      "   2.41835252e-04 -5.28577953e-02  3.78306456e-03 -7.24604917e-03\n",
      "   1.39529889e-02  1.46047316e-02 -8.73891028e-04  5.55566975e-03\n",
      "   4.70612128e-02  1.31050665e-02 -1.42246999e-02 -1.31637436e-02\n",
      "   1.99026148e-02 -4.97173242e-02 -2.63599861e-02  7.31339743e-02\n",
      "   8.68015346e-03 -4.70205145e-03  9.33774877e-02  9.21517283e-02\n",
      "  -3.42097192e-02  1.26989807e-02  2.72435392e-02  2.29308273e-02\n",
      "   2.10518349e-02  5.63709069e-03  1.20425832e-01 -1.43961155e-02\n",
      "   1.94128564e-02  1.93855826e-02  1.21653764e-02  2.28170206e-02\n",
      "  -1.65476571e-02 -2.50731527e-02  1.30539659e-02 -2.97587898e-02\n",
      "  -4.32829546e-02 -7.20219962e-03  4.93298414e-03 -2.71423029e-01\n",
      "   7.00095281e-03  4.71126001e-03  2.69430521e-02  2.33909316e-02\n",
      "  -2.19591851e-02 -2.43952478e-02 -1.42844790e-02  5.59400755e-02\n",
      "   5.41300704e-02 -8.87296841e-03 -1.09611455e-02  4.47424515e-02\n",
      "   2.51903866e-02  1.55278799e-02  2.14399133e-02  1.45704158e-03\n",
      "  -1.36224164e-02 -5.21439697e-03  7.20941496e-03  3.48282304e-02\n",
      "   3.71498618e-02  1.58559698e-02 -3.77805946e-02  2.20824646e-03\n",
      "  -2.02864766e-02 -2.30022068e-01  1.62624724e-02 -2.32052027e-03\n",
      "  -4.02622261e-02  6.07517803e-02  3.91869978e-02 -8.89574570e-04\n",
      "   4.77678636e-02  4.15924212e-02 -2.27751268e-02  3.56221473e-02\n",
      "  -8.47890781e-03 -1.30573900e-02 -1.63739107e-01 -4.25335175e-03\n",
      "   5.43965030e-02 -1.19927771e-03 -1.62774937e-02  2.54211078e-02\n",
      "  -1.07152302e-03  3.16900762e-02 -1.19647243e-02  1.83313643e-03\n",
      "  -1.96564503e-02  4.65945055e-02 -2.76818400e-03 -6.34623627e-03\n",
      "   4.83297643e-02  1.69309777e-02 -4.05319594e-03 -7.62013133e-03\n",
      "  -4.72924976e-02  2.54396708e-02  1.61553938e-02  1.46605191e-03\n",
      "   4.76469463e-02 -1.00071109e-02 -2.19717986e-02 -3.75767576e-03\n",
      "   2.58116758e-03 -4.42877127e-02  5.68066985e-03 -2.04943503e-02\n",
      "   3.81137418e-02 -5.55309206e-02 -9.48765866e-03 -4.67547906e-02\n",
      "  -1.94467927e-02 -1.70221774e-02 -8.36255151e-04  3.64020730e-02\n",
      "  -8.17635135e-03 -1.08693949e-02 -2.48933030e-02 -3.92379350e-04\n",
      "  -1.55651347e-02  8.79342619e-03 -1.50464158e-03  1.88352336e-02\n",
      "   2.22056944e-02 -7.13801311e-03  1.76207225e-02 -2.13206308e-02\n",
      "   1.17837982e-02 -2.11807932e-02  2.04514161e-02 -8.65962811e-03\n",
      "   1.57441535e-02 -4.09924010e-02 -4.90169919e-02 -1.15732994e-02\n",
      "  -1.16793850e-02  3.75849908e-03  2.59920176e-02 -1.33393138e-02\n",
      "   3.53049723e-02 -3.96694125e-02 -3.68316174e-03 -3.67855876e-02\n",
      "   9.50314041e-03  5.09520031e-03 -1.26720449e-02 -1.15432413e-02\n",
      "   7.29234216e-02 -1.16321849e-02  8.79488786e-03 -4.04197904e-03\n",
      "   2.97630903e-02 -1.54672739e-02  4.07566875e-02  2.21796373e-02\n",
      "  -1.60799296e-02 -2.72702196e-02 -1.14321808e-02 -2.83685409e-02\n",
      "  -2.20414856e-02 -3.33019555e-02  4.35931699e-02 -2.43814946e-02\n",
      "   6.96266650e-03  8.03144142e-03  1.70342297e-02 -3.51561377e-02\n",
      "   6.19225091e-03 -2.02073789e-02  5.02405536e-02  7.37177237e-03\n",
      "  -3.01934671e-02  3.01067223e-02 -3.27917280e-02 -6.03665550e-02\n",
      "  -2.04206185e-02  3.28577591e-03 -9.05093622e-02  1.18225890e-02\n",
      "   2.37408906e-02 -5.76259308e-02 -9.21821003e-03  3.27017287e-02\n",
      "   1.34457513e-02 -1.53078868e-02 -6.51617661e-03  1.17732911e-02\n",
      "   1.02192370e-03 -9.55822486e-04 -4.03489255e-02  4.10041918e-02\n",
      "  -8.64059322e-03 -3.24438991e-02  9.98761585e-03 -3.43177055e-02\n",
      "  -2.06993840e-04  1.45900977e-03 -1.98204530e-02 -3.89169529e-02\n",
      "   3.90188011e-02 -6.00964705e-03  9.41779655e-03  1.14082245e-02\n",
      "   2.13313526e-02  4.25517230e-02 -5.18166593e-02  1.52555280e-02\n",
      "  -2.82351222e-02 -1.59192039e-02 -1.28128827e-02 -7.67805770e-03\n",
      "  -5.68623458e-02  9.14803725e-03  3.19535144e-02 -1.52706542e-02\n",
      "   1.62761991e-02 -3.22331714e-02  1.94124752e-02 -2.51804984e-02\n",
      "   1.09767440e-02 -4.17076888e-02 -1.31564221e-01 -5.15194775e-03]]\n"
     ]
    },
    {
     "data": {
      "text/plain": [
       "(2, 300)"
      ]
     },
     "execution_count": 266,
     "metadata": {},
     "output_type": "execute_result"
    }
   ],
   "source": [
    "\"\"\"\n",
    "c = Intercept\n",
    "B (behavior belief) N x 2 dimension (N: # of data)\n",
    "W (Coef): 2 x 300 dimension\n",
    "r(neural response - 300 neurons) N x 300 dimension\n",
    "\"\"\"\n",
    "\n",
    "print('Intercept: ', regr.intercept_)\n",
    "print('Coef: ', regr.coef_)\n"
   ]
  },
  {
   "cell_type": "markdown",
   "metadata": {},
   "source": [
    "### evaluate model with test data"
   ]
  },
  {
   "cell_type": "code",
   "execution_count": 267,
   "metadata": {},
   "outputs": [
    {
     "name": "stdout",
     "output_type": "stream",
     "text": [
      "mean encoding error mean: \n",
      " behavior_belief1    2.741873e-08\n",
      "behavior_belief2    2.798117e-08\n",
      "dtype: float64\n",
      "mean encoding error std:\n",
      " behavior_belief1    9.770811e-07\n",
      "behavior_belief2    1.181502e-06\n",
      "dtype: float64\n",
      "score [1. 1.]\n"
     ]
    }
   ],
   "source": [
    "nb_test = regr.predict(r_df_test)\n",
    "\n",
    "encoding_error = bb_df_test - nb_test # true - estimate\n",
    "print('mean encoding error mean: \\n', np.mean(encoding_error, axis=0))\n",
    "print('mean encoding error std:\\n', np.std(encoding_error, axis=0))\n",
    "print('score', r2_score(bb_df_test, nb_test, multioutput='raw_values'))"
   ]
  },
  {
   "cell_type": "code",
   "execution_count": 268,
   "metadata": {},
   "outputs": [],
   "source": [
    "nb_df_test = DataFrame(nb_test, columns = bb_df.columns) "
   ]
  },
  {
   "cell_type": "code",
   "execution_count": 269,
   "metadata": {},
   "outputs": [
    {
     "data": {
      "image/png": "[encoded data removed]",
      "text/plain": [
       "<Figure size 432x288 with 1 Axes>"
      ]
     },
     "metadata": {
      "needs_background": "light"
     },
     "output_type": "display_data"
    },
    {
     "data": {
      "image/png": "[encoded data removed]",
      "text/plain": [
       "<Figure size 432x288 with 1 Axes>"
      ]
     },
     "metadata": {
      "needs_background": "light"
     },
     "output_type": "display_data"
    }
   ],
   "source": [
    "\n",
    "# plot: compare raw data vs prediction\n",
    "plt.scatter(bb_df_test['behavior_belief1'], nb_df_test['behavior_belief1'], s=10, c='blue', marker='o')\n",
    "plt.xlabel('behavior belief for box1')\n",
    "plt.ylabel('estimated neural belief for box1')\n",
    "plt.title('Encoding: test data')\n",
    "plt.show()\n",
    "\n",
    "plt.scatter(bb_df_test['behavior_belief2'], nb_df_test['behavior_belief2'], s=10, c='blue', marker='o')\n",
    "plt.xlabel('behavior belief for box2')\n",
    "plt.ylabel('estimated neural belief for box2')\n",
    "plt.title('Encoding: test data')\n",
    "plt.show()"
   ]
  },
  {
   "cell_type": "markdown",
   "metadata": {},
   "source": [
    "### build neural belief data using the learned model"
   ]
  },
  {
   "cell_type": "code",
   "execution_count": 247,
   "metadata": {},
   "outputs": [],
   "source": [
    "#neural estimate of belief using current linear regression model\n",
    "nb= regr.predict(r_df) \n",
    "nb_df = DataFrame(nb, columns = bb_df.columns)\n",
    "#save neural estimate belief\n",
    "nb_df.to_csv(path_or_buf='./data/nb_df.csv',index=False)"
   ]
  },
  {
   "cell_type": "code",
   "execution_count": 248,
   "metadata": {},
   "outputs": [
    {
     "data": {
      "image/png": "[encoded data removed]",
      "text/plain": [
       "<Figure size 432x288 with 1 Axes>"
      ]
     },
     "metadata": {
      "needs_background": "light"
     },
     "output_type": "display_data"
    },
    {
     "data": {
      "image/png": "[encoded data removed]",
      "text/plain": [
       "<Figure size 432x288 with 1 Axes>"
      ]
     },
     "metadata": {
      "needs_background": "light"
     },
     "output_type": "display_data"
    }
   ],
   "source": [
    "# plot: compare raw data vs prediction\n",
    "plt.scatter(bb_df['behavior_belief1'], nb_df['behavior_belief1'], s=10, c='blue', marker='o')\n",
    "plt.xlabel('behavior belief for box1')\n",
    "plt.ylabel('estimated neural belief for box1')\n",
    "plt.title('Encoding: all data')\n",
    "plt.show()\n",
    "\n",
    "plt.scatter(bb_df['behavior_belief2'], nb_df['behavior_belief2'], s=10, c='blue', marker='o')\n",
    "plt.xlabel('behavior belief for box2')\n",
    "plt.ylabel('estimated neural belief for box2')\n",
    "plt.title('Encoding: all data')\n",
    "plt.show()"
   ]
  },
  {
   "cell_type": "markdown",
   "metadata": {},
   "source": [
    "# separation"
   ]
  },
  {
   "cell_type": "code",
   "execution_count": null,
   "metadata": {},
   "outputs": [],
   "source": [
    "X = r_df_train.to_numpy()\n",
    "y = bb_df_train.to_numpy()\n",
    "k_fold = StratifiedKFold(n_splits=10)\n",
    "for i, (train_index, val_index) in enumerate(k_fold.split(X, y.argmax(1))):\n",
    "    print(\"TRAIN:\", train_index, \"TEST:\", val_index)\n",
    "    x_train_kf, x_val_kf = X[train_index], X[val_index]\n",
    "    y_train_kf, y_val_kf = y[train_index], y[val_index]"
   ]
  },
  {
   "cell_type": "code",
   "execution_count": 87,
   "metadata": {},
   "outputs": [],
   "source": [
    "regr = LinearRegression()\n",
    "\n",
    "w = regr.fit(r_df_train, bb_df_train)"
   ]
  },
  {
   "cell_type": "code",
   "execution_count": 111,
   "metadata": {},
   "outputs": [],
   "source": [
    "pipe_lr = Pipeline([('regr', LinearRegression())])\n",
    "\n",
    "\n",
    "model = pipe_lr.named_steps['regr']\n",
    "\n",
    "scores = cross_val_score(estimator = pipe_lr,\n",
    "                        X = r_df_train,\n",
    "                        y = bb_df_train,\n",
    "                        cv = 10,\n",
    "                        n_jobs = -1)"
   ]
  },
  {
   "cell_type": "code",
   "execution_count": 112,
   "metadata": {},
   "outputs": [
    {
     "ename": "AttributeError",
     "evalue": "'LinearRegression' object has no attribute 'intercept_'",
     "traceback": [
      "\u001b[0;31m---------------------------------------------------------------------------\u001b[0m",
      "\u001b[0;31mAttributeError\u001b[0m                            Traceback (most recent call last)",
      "\u001b[0;32m<ipython-input-112-47d4ef408f49>\u001b[0m in \u001b[0;36m<module>\u001b[0;34m\u001b[0m\n\u001b[1;32m      1\u001b[0m \u001b[0mmodel\u001b[0m \u001b[0;34m=\u001b[0m \u001b[0mpipe_lr\u001b[0m\u001b[0;34m.\u001b[0m\u001b[0mnamed_steps\u001b[0m\u001b[0;34m[\u001b[0m\u001b[0;34m'regr'\u001b[0m\u001b[0;34m]\u001b[0m\u001b[0;34m\u001b[0m\u001b[0;34m\u001b[0m\u001b[0m\n\u001b[0;32m----> 2\u001b[0;31m \u001b[0mprint\u001b[0m\u001b[0;34m(\u001b[0m\u001b[0;34m'Intercept: '\u001b[0m\u001b[0;34m,\u001b[0m \u001b[0mmodel\u001b[0m\u001b[0;34m.\u001b[0m\u001b[0mintercept_\u001b[0m\u001b[0;34m)\u001b[0m\u001b[0;34m\u001b[0m\u001b[0;34m\u001b[0m\u001b[0m\n\u001b[0m",
      "\u001b[0;31mAttributeError\u001b[0m: 'LinearRegression' object has no attribute 'intercept_'"
     ],
     "output_type": "error"
    }
   ],
   "source": [
    "model = pipe_lr.named_steps['regr']\n",
    "print('Intercept: ', model.intercept_)"
   ]
  },
  {
   "cell_type": "code",
   "execution_count": 104,
   "metadata": {},
   "outputs": [],
   "source": [
    "regr = LinearRegression()\n",
    "scores = cross_val_score(regr,\n",
    "                        X = r_df_train,\n",
    "                        y = bb_df_train,\n",
    "                        cv = 10,\n",
    "                        n_jobs = -1)"
   ]
  },
  {
   "cell_type": "code",
   "execution_count": 105,
   "metadata": {},
   "outputs": [
    {
     "name": "stdout",
     "output_type": "stream",
     "text": [
      "Cross Validation Scores: [-1.24060099e+14  8.72544824e-01 -1.95771062e+12  7.72886358e-01\n",
      " -2.94483444e+11  8.36573381e-01 -5.58550577e+11 -3.52230398e+12\n",
      " -3.49475385e+13 -3.74730350e+12]\n"
     ]
    }
   ],
   "source": [
    "print('Cross Validation Scores: %s' %scores)"
   ]
  },
  {
   "cell_type": "code",
   "execution_count": 106,
   "metadata": {},
   "outputs": [
    {
     "ename": "AttributeError",
     "evalue": "'LinearRegression' object has no attribute 'intercept_'",
     "traceback": [
      "\u001b[0;31m---------------------------------------------------------------------------\u001b[0m",
      "\u001b[0;31mAttributeError\u001b[0m                            Traceback (most recent call last)",
      "\u001b[0;32m<ipython-input-106-de556d423500>\u001b[0m in \u001b[0;36m<module>\u001b[0;34m\u001b[0m\n\u001b[1;32m      1\u001b[0m \u001b[0;31m#print('Intercept: ', w.intercept_)\u001b[0m\u001b[0;34m\u001b[0m\u001b[0;34m\u001b[0m\u001b[0;34m\u001b[0m\u001b[0m\n\u001b[0;32m----> 2\u001b[0;31m \u001b[0mprint\u001b[0m\u001b[0;34m(\u001b[0m\u001b[0;34m'Intercept: '\u001b[0m\u001b[0;34m,\u001b[0m \u001b[0mregr\u001b[0m\u001b[0;34m.\u001b[0m\u001b[0mintercept_\u001b[0m\u001b[0;34m)\u001b[0m\u001b[0;34m\u001b[0m\u001b[0;34m\u001b[0m\u001b[0m\n\u001b[0m",
      "\u001b[0;31mAttributeError\u001b[0m: 'LinearRegression' object has no attribute 'intercept_'"
     ],
     "output_type": "error"
    }
   ],
   "source": [
    "#print('Intercept: ', w.intercept_)\n",
    "print('Intercept: ', regr.intercept_)"
   ]
  },
  {
   "cell_type": "code",
   "execution_count": 91,
   "metadata": {},
   "outputs": [
    {
     "name": "stdout",
     "output_type": "stream",
     "text": [
      "Coef:  [[ 4.75389153e-02  1.49252480e-02 -3.63707057e-03  4.55486784e-02\n",
      "  -5.03106681e-02  4.04884026e-03  1.29223281e-03  6.71121016e-02\n",
      "   1.53682999e-02  3.23040090e-02  3.41285545e-03 -4.31594098e-02\n",
      "   7.46658883e-03  1.06096351e-02 -2.28513340e-02 -3.92700555e-02\n",
      "  -4.27068819e-02  2.23545244e-02 -3.66439916e-02 -1.45561684e-02\n",
      "   6.34273029e-02  1.29905905e-02  3.80457757e-02  1.28183775e-02\n",
      "  -3.47035517e-02 -5.02677365e-04  5.66617907e-02  4.38316887e-02\n",
      "  -3.66332996e-02 -2.57625015e-02 -2.22766670e-02 -5.17607174e-02\n",
      "   2.05020410e-02  3.09377301e-02  1.00231844e-02 -3.00515532e-03\n",
      "  -2.10132019e-02  1.92429418e-02  4.65112795e-02 -2.61035735e-02\n",
      "   1.57701786e-02  2.66542453e-02  4.34050142e-02 -3.20421208e-02\n",
      "  -2.65162762e-02 -8.39227836e-03 -5.37778990e-04 -1.78668116e-02\n",
      "   1.82190353e-02  1.37924754e-02 -3.60376450e-02 -3.35055377e-02\n",
      "  -4.20663717e-04  2.22130694e-02  1.96645793e-02 -4.97399961e-02\n",
      "   8.68556227e-03 -2.16496895e-01  7.08109513e-03 -2.39249029e-02\n",
      "  -4.17103415e-02 -1.19375548e-02 -1.47246197e-02 -5.06436440e-03\n",
      "  -1.52589865e-02 -5.12726712e-02 -1.85670544e-02  2.52123836e-02\n",
      "  -7.39486347e-02  6.80953554e-02 -4.24832779e-03 -4.19217139e-02\n",
      "  -5.23596005e-02 -1.23315756e-02  1.10392833e-02 -2.22157681e-03\n",
      "   2.87755695e-02  1.22441083e-01 -9.64809337e-03  2.99514281e-02\n",
      "  -1.34607613e-02 -2.16471146e-02  3.87103350e-03  4.27006690e-02\n",
      "  -2.46461473e-02 -3.79995110e-02  5.30495697e-02 -2.62999141e-02\n",
      "  -3.06301594e-02  4.72123990e-03 -1.51622036e-02 -7.93841707e-03\n",
      "   1.68468850e-02  4.10794419e-02  1.42373310e-02  9.01206289e-02\n",
      "   9.70393009e-03  8.80757879e-03 -5.55173899e-03 -1.92266084e-02\n",
      "  -1.34452134e-03  4.65796993e-03  8.81608129e-03 -1.51629478e-02\n",
      "  -1.11783102e-02  2.39023267e-02 -2.70329890e-02 -6.83132493e-02\n",
      "   4.40890672e-02  2.48524580e-02  2.15000905e-02 -6.98126454e-03\n",
      "   2.89192000e-03 -1.73178352e-02  1.73756507e-02 -7.82340824e-04\n",
      "  -1.07773331e-02 -6.83696239e-02 -1.40901119e-03  6.17286886e-02\n",
      "   1.61659782e-02  1.72456158e-02  2.50009537e-02 -3.84075521e-02\n",
      "   4.39694401e-02 -2.86925652e-02 -4.56458269e-02 -2.50488081e-02\n",
      "  -2.11012714e-02  8.65671703e-03 -1.90791632e-02 -1.79961771e-02\n",
      "  -9.05730134e-04 -1.90430297e-02  1.60384870e-02  1.60037296e-02\n",
      "   7.04474345e-02  2.02853518e-02 -3.49942655e-02 -1.14077186e-02\n",
      "  -2.66201360e-02  1.34608712e-02 -1.35031341e-02  1.45655669e-02\n",
      "  -5.34881045e-02 -1.47240821e-03 -8.34335939e-03  2.06753173e-03\n",
      "  -2.58210037e-02  9.52739061e-03  1.17697848e-02 -3.66709252e-02\n",
      "  -4.64531992e-03 -6.14310874e-03  4.16295083e-03 -4.86563471e-02\n",
      "   1.21196055e-03  7.72684559e-03  2.64000164e-02  1.34928482e-02\n",
      "   5.33328599e-03  2.16263778e-02 -1.43368252e-02  3.36701553e-03\n",
      "   6.19762373e-03  7.85188256e-03  3.12442312e-02  2.37676435e-02\n",
      "   6.53829975e-02 -3.05177714e-02 -1.22830849e-02 -2.27521811e-02\n",
      "  -1.70752219e-02  1.73020002e-02  6.96732955e-02 -6.59774061e-02\n",
      "   2.77025394e-02  1.21918509e-02  1.24575477e-02 -9.92173039e-03\n",
      "  -2.15744154e-02  2.16545146e-02 -1.79202006e-02  4.99712249e-03\n",
      "   3.10150097e-02  2.57248546e-02 -4.96663220e-02 -2.18443666e-02\n",
      "  -1.29412819e-02  5.37949309e-02 -4.52540884e-03  2.98482966e-03\n",
      "  -3.61749005e-02 -1.99222434e-02  6.32607880e-02 -3.24447654e-02\n",
      "   1.57816900e-02  8.78387661e-03  3.44959194e-04 -3.08750378e-02\n",
      "   1.27425147e-01  2.56581494e-02  3.97252771e-02 -3.72967072e-03\n",
      "   1.54412647e-02  5.93765154e-03  3.83819992e-02 -1.81075606e-02\n",
      "   3.39800404e-02  6.00671821e-02  1.88483428e-02 -5.59975112e-03\n",
      "   1.44703479e-03 -8.39990416e-03  1.22829032e-02 -6.23657678e-02\n",
      "  -3.59692998e-02 -4.63137495e-02 -3.99384225e-02 -6.04200170e-03\n",
      "   2.04906724e-02 -1.79847962e-02 -2.01590180e-02 -1.12443868e-02\n",
      "   5.02057184e-02 -1.24186090e-02  3.24487844e-02 -3.33254129e-03\n",
      "  -4.03408734e-02  3.96376921e-02  4.31171842e-02 -8.06745378e-03\n",
      "   3.73973519e-02 -3.98337215e-02  2.17568919e-02  2.54603124e-02\n",
      "  -1.59034956e-02  5.03161527e-02  2.00924258e-02  9.08053692e-03\n",
      "  -6.18124902e-03  4.46272340e-02 -2.41876771e-02 -2.66823013e-02\n",
      "  -5.20879057e-03 -6.24482644e-02  2.38881458e-02  7.68190106e-03\n",
      "   1.01168463e-03  1.77258063e-02 -2.96867374e-02 -1.94864109e-02\n",
      "   4.93156419e-02  1.13394675e-02 -1.38517732e-02 -3.67439840e-02\n",
      "   1.33807691e-02 -1.48275089e-03  1.51780911e-02  1.49883565e-02\n",
      "   2.81253782e-03  2.59166287e-01 -2.17627418e-02  2.56933466e-02\n",
      "   1.96558156e-02  2.39718539e-02  3.31899979e-03  3.18968230e-02\n",
      "   1.21167020e-01  2.94786699e-02 -1.39228144e-02 -3.50315186e-02\n",
      "   1.85506537e-02  2.79314618e-02 -5.65681658e-02 -2.04723924e-02\n",
      "   1.87148676e-02  2.42689353e-02  3.46109835e-02 -4.78461652e-02\n",
      "   1.19622973e-02  3.02637995e-02 -1.61472712e-02  2.31210015e-02\n",
      "   3.27168236e-02 -3.82042900e-02  5.63498198e-03 -4.58931702e-02\n",
      "   4.82987239e-02  5.40698409e-02  5.82564398e-02  5.94447316e-02\n",
      "   1.24342151e-02 -3.20859397e-02 -4.24574628e-02  2.22382996e-02\n",
      "  -9.32215011e-03 -4.47433349e-02  1.64120353e-02  5.72607583e-02]\n",
      " [ 2.95979360e+10  1.11889139e+09  3.47326387e+09 -1.35985786e+09\n",
      "  -1.36455966e+08  1.59954407e+09 -1.31901335e+09  2.63676596e+09\n",
      "   5.02357704e+09  3.95536201e+09  7.18522040e+08 -3.43197790e+08\n",
      "  -3.32056454e+09  2.63964303e+09  4.33591769e+09 -1.13968493e+09\n",
      "   1.43028533e+09  6.16378655e+08  2.97982034e+09  7.34350665e+07\n",
      "  -2.50330235e+09 -1.48120553e+08 -2.48817051e+09 -3.26684413e+09\n",
      "  -1.53774282e+09 -1.50080215e+08 -2.79793906e+09 -7.33348351e+07\n",
      "   1.81111633e+08 -2.97806229e+09 -1.40105735e+09 -1.18028714e+09\n",
      "   1.93822699e+09  1.09844178e+09 -2.10116632e+09 -7.52417140e+08\n",
      "  -1.20391274e+09  6.97413848e+07 -1.38010477e+09  2.20074990e+08\n",
      "  -8.42574333e+08  1.00289883e+09 -4.42579630e+08 -2.75478619e+09\n",
      "  -1.16222676e+09 -5.25928086e+07 -7.49149462e+08  8.03963064e+09\n",
      "   6.80836926e+08 -7.04191711e+09 -1.30447745e+09  6.25345837e+08\n",
      "   1.74274952e+09 -2.32497401e+09 -3.68516738e+09 -1.54542950e+09\n",
      "  -3.38531660e+09  3.38540114e+08  3.95034674e+08 -2.45951114e+09\n",
      "  -6.69206013e+08  5.51723082e+08 -1.11114054e+09  1.48744539e+09\n",
      "   2.01392954e+09  1.17216872e+09  1.92816490e+07 -1.50278128e+09\n",
      "   5.81706585e+08  1.27264143e+08  6.66606998e+08 -2.43490250e+09\n",
      "   1.40702276e+09 -2.45760901e+09 -4.63296412e+09 -2.17832819e+09\n",
      "  -4.20737121e+09  3.38854116e+08 -5.35965684e+09  7.81339631e+09\n",
      "   1.07420773e+09  4.01450466e+08 -9.40299643e+07 -2.83719787e+09\n",
      "  -5.19592504e+09 -1.04081289e+09 -1.46223957e+09  7.97676193e+07\n",
      "   6.38651365e+09  2.47878392e+09  8.72212884e+07 -6.41869455e+08\n",
      "  -4.88528512e+09 -2.40529972e+08  5.98984859e+08  1.03339755e+09\n",
      "  -6.01537801e+08 -4.34868417e+08  6.54250011e+09  2.15571002e+06\n",
      "  -7.12030625e+08  4.11563887e+09  1.29416879e+09  3.00036726e+09\n",
      "   8.63282302e+08  7.27024650e+08  2.11197825e+09 -3.53507134e+08\n",
      "   2.17856808e+09  1.26538932e+08 -3.12365812e+09 -1.90246078e+09\n",
      "   1.15267884e+09  7.76583264e+08  7.36457909e+09  2.99028402e+07\n",
      "  -4.85923200e+09 -4.68168424e+07 -4.67141403e+09  5.89574351e+08\n",
      "  -9.28132428e+08 -4.67109197e+08 -1.64156522e+09 -8.36149553e+08\n",
      "  -2.93618891e+09 -2.60060592e+09  1.08362377e+09 -5.95507424e+09\n",
      "   3.71567448e+09 -1.28858081e+09  6.68977618e+08 -3.37339280e+09\n",
      "   2.88442129e+09  2.35744181e+09  5.07432076e+09  5.28293832e+08\n",
      "   4.04052189e+07 -1.53880844e+09  4.41028276e+09  1.69827655e+09\n",
      "  -5.70967567e+09 -1.39817401e+07 -3.06554490e+09 -1.06565804e+10\n",
      "  -2.79177804e+08  1.59992594e+08 -7.74433224e+07 -2.40080529e+08\n",
      "   4.98303878e+08 -7.32839991e+09  2.49233312e+09 -3.87323355e+09\n",
      "  -1.63143004e+09 -3.32086579e+09  3.80915546e+08 -8.01228721e+08\n",
      "  -1.59063852e+09  2.46142209e+09 -1.63969933e+09  8.56851168e+07\n",
      "  -1.71400766e+09 -2.78171324e+09 -5.42097986e+09 -1.37048933e+09\n",
      "   2.27602496e+09 -4.47123834e+09  4.23430572e+09  3.78644225e+09\n",
      "  -1.09884583e+09 -8.07695985e+09  2.31973925e+09 -5.31884042e+09\n",
      "  -2.93139994e+09 -2.68872466e+09  5.35925344e+08  2.01386620e+09\n",
      "  -1.55812284e+09 -2.73923073e+09 -1.61535549e+09  2.53857366e+09\n",
      "  -4.62481209e+09  3.27323417e+09  3.72157302e+09 -2.25599797e+09\n",
      "   2.39586976e+09 -4.02917652e+08 -4.27561236e+09 -2.56002647e+09\n",
      "  -7.88553928e+08 -9.38583185e+08  4.97918458e+09 -2.03574935e+09\n",
      "   4.76720224e+09 -1.09187985e+09 -8.17488710e+07  2.79761772e+08\n",
      "  -2.66961270e+09 -2.15636770e+09  5.79189247e+08 -2.24458608e+09\n",
      "   1.05143450e+09  2.82342727e+09  3.60433972e+07 -2.50648789e+09\n",
      "  -3.92543791e+09 -5.96447124e+09 -6.08369714e+08  3.23415523e+09\n",
      "   1.27580349e+09  1.32425660e+09  1.34467976e+09  4.64218906e+07\n",
      "  -2.77235025e+09 -1.34917426e+09 -5.92155779e+09  6.48351805e+09\n",
      "   1.40990653e+09 -1.35498723e+09 -1.88490218e+08  5.18386598e+09\n",
      "  -3.72192738e+09 -1.82817433e+09 -2.32476106e+09 -3.33420243e+09\n",
      "  -1.18027549e+09  3.90311560e+09  2.18614083e+09 -2.26716031e+09\n",
      "  -4.67480105e+09 -2.60462017e+09  1.20448409e+09 -2.01772960e+09\n",
      "   1.90035723e+09  4.01229017e+09 -5.81684764e+08  7.11210728e+08\n",
      "   5.02747988e+09 -2.01504879e+09 -7.42718815e+08  1.47154697e+09\n",
      "   2.01698911e+09 -3.54886410e+09  1.52368682e+09  1.24786079e+09\n",
      "   5.56910675e+09 -3.44971394e+09  1.01005033e+09  2.58796914e+09\n",
      "   2.35472456e+09 -2.97174267e+09 -1.53218251e+09 -1.67588224e+07\n",
      "   4.48820138e+09 -3.53567516e+09 -1.95120818e+09  2.33692239e+09\n",
      "  -8.24152927e+08  7.46789922e+08  3.92162981e+09 -1.98385225e+09\n",
      "   1.60554567e+09 -2.98140572e+07 -1.14036496e+09  5.56423222e+09\n",
      "   1.42969812e+08 -4.77166117e+09 -1.99855453e+09 -5.05556379e+09\n",
      "   4.07559709e+08 -2.25334535e+09  5.81570091e+08 -7.69589706e+08\n",
      "  -1.92692378e+09  3.26127165e+09  2.50923469e+06  1.60897249e+08\n",
      "  -2.83183603e+09  1.83148306e+09  3.00886940e+09  4.13839919e+09\n",
      "   5.46225268e+09  2.22297633e+09 -4.55315390e+08  1.04672407e+09\n",
      "  -2.27086151e+09  8.95931023e+08  4.46370966e+07 -6.53214359e+09\n",
      "   1.33098567e+09 -3.12330962e+08  1.00494446e+09 -7.71631900e+06\n",
      "   3.36780748e+08 -8.94609494e+08 -1.08188866e+09 -5.09892368e+08\n",
      "   1.43723382e+09  3.01418352e+08  1.62859099e+08  3.60664956e+09]]\n"
     ]
    }
   ],
   "source": [
    "print('Coef: ', w.coef_)"
   ]
  },
  {
   "cell_type": "code",
   "execution_count": 92,
   "metadata": {},
   "outputs": [
    {
     "name": "stdout",
     "output_type": "stream",
     "text": [
      "[[ 0.11592128  0.66345167]\n",
      " [-0.00761879  1.07565546]\n",
      " [-0.01322157  1.07448196]\n",
      " ...\n",
      " [ 0.34144843  0.66020584]\n",
      " [-0.02103451  0.39073229]\n",
      " [ 0.34988588  0.40804911]]\n"
     ]
    }
   ],
   "source": [
    "nb = w.predict(r_df_test)\n",
    "\n",
    "print(nb)"
   ]
  },
  {
   "cell_type": "code",
   "execution_count": 93,
   "metadata": {},
   "outputs": [
    {
     "data": {
      "text/plain": [
       "(2000, 2)"
      ]
     },
     "execution_count": 93,
     "metadata": {},
     "output_type": "execute_result"
    }
   ],
   "source": [
    "nb.shape"
   ]
  },
  {
   "cell_type": "code",
   "execution_count": 94,
   "metadata": {},
   "outputs": [
    {
     "name": "stdout",
     "output_type": "stream",
     "text": [
      "mean encoding error mean: \n",
      " behavior_belief1   -2.832945e-08\n",
      "behavior_belief2   -1.163098e+04\n",
      "dtype: float64\n",
      "mean encoding error std:\n",
      " behavior_belief1         0.000001\n",
      "behavior_belief2    576242.224295\n",
      "dtype: float64\n"
     ]
    }
   ],
   "source": [
    "encoding_error = bb_df_test - nb\n",
    "print('mean encoding error mean: \\n', np.mean(encoding_error, axis=0))\n",
    "print('mean encoding error std:\\n', np.std(encoding_error, axis=0))"
   ]
  },
  {
   "cell_type": "code",
   "execution_count": 270,
   "metadata": {},
   "outputs": [
    {
     "data": {
      "image/png": "[encoded data removed]",
      "text/plain": [
       "<Figure size 432x288 with 1 Axes>"
      ]
     },
     "metadata": {
      "needs_background": "light"
     },
     "output_type": "display_data"
    },
    {
     "data": {
      "image/png": "[encoded data removed]",
      "text/plain": [
       "<Figure size 432x288 with 1 Axes>"
      ]
     },
     "metadata": {
      "needs_background": "light"
     },
     "output_type": "display_data"
    }
   ],
   "source": [
    "\n",
    "# plot: compare raw data vs prediction\n",
    "plt.scatter(bb_df['behavior_belief1'], nb_df['behavior_belief1'], s=10, c='blue', marker='o')\n",
    "plt.xlabel('behavior belief for box1')\n",
    "plt.ylabel('estimated neural belief for box1')\n",
    "plt.title('Encoding')\n",
    "plt.show()\n",
    "\n",
    "plt.scatter(bb_df['behavior_belief2'], nb_df['behavior_belief2'], s=10, c='blue', marker='o')\n",
    "plt.xlabel('behavior belief for box2')\n",
    "plt.ylabel('estimated neural belief for box2')\n",
    "plt.title('Encoding')\n",
    "plt.show()"
   ]
  }
 ],
 "metadata": {
  "kernelspec": {
   "display_name": "Python 3",
   "language": "python",
   "name": "python3"
  },
  "language_info": {
   "codemirror_mode": {
    "name": "ipython",
    "version": 3
   },
   "file_extension": ".py",
   "mimetype": "text/x-python",
   "name": "python",
   "nbconvert_exporter": "python",
   "pygments_lexer": "ipython3",
   "version": "3.7.1"
  }
 },
 "nbformat": 4,
 "nbformat_minor": 1
}
