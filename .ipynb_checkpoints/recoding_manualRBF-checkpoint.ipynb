{
 "cells": [
  {
   "cell_type": "code",
   "execution_count": 1,
   "metadata": {},
   "outputs": [],
   "source": [
    "\"\"\"\n",
    "updated 2019-08-08 \n",
    "written by Minhae Kwon\n",
    "\n",
    "- `recoding`: Estimate the next belief from current belief and observations\n",
    "    - input:\n",
    "        - if you use POMDP data (for now): `recoding_pomdp_all_prev_df.csv` and `recoding_pomdp_all_now_df.csv`\n",
    "        - ideally with neural data: `recoding_neural_all_prev_df.csv` and `recoding_neural_all_now_df.csv`\n",
    "    - output: `recoding_belief_results_df.csv` (estimated future belief)\n",
    "    - method: Autoregression - this is linear regression between two time steps. \n",
    "    - there are two versions in codes:\n",
    "        -`recoding_wo_RBF.ipynb`: no RBF is used. \n",
    "        - `recoding_KRR.ipynb`: RBF is used using sklearn built-in function: [Kernel Ridge Regression (kernel ='rbf')](https://scikit-learn.org/stable/modules/generated/sklearn.kernel_ridge.KernelRidge.html). \n",
    "        (Warning: this code runs pretty slow compared to others. So if you need to handle big data size, plan in advance!)\n",
    "        - `recoding_manualRBF.ipynb`: RBF is manually coded by me. So we can customize center locations for nonlinear transform. \n",
    "        Everything is the same as `recoding_wo_RBF.ipynb` but RBF.\n",
    "        - `recoding_KRR.ipynb` works the best, and pretty good!\n",
    "\n",
    "ref: https://towardsdatascience.com/ridge-and-lasso-regression-a-complete-guide-with-python-scikit-learn-e20e34bcbf0b\n",
    "https://scikit-learn.org/stable/modules/generated/sklearn.kernel_ridge.KernelRidge.html\n",
    "https://scikit-learn.org/stable/modules/linear_model.html#ridge-regression\n",
    "https://scikit-learn.org/stable/auto_examples/plot_kernel_ridge_regression.html#sphx-glr-auto-examples-plot-kernel-ridge-regression-py\n",
    "\n",
    "ref: https://chrisalbon.com/machine_learning/linear_regression/linear_regression_using_scikit-learn/\n",
    "     https://datatofish.com/multiple-linear-regression-python/\n",
    "\n",
    "cross validate score: Coefficient of determination\n",
    "https://en.wikipedia.org/wiki/Coefficient_of_determination\n",
    "\"\"\"\n",
    "\n",
    "from pandas import DataFrame, read_csv\n",
    "#from sklearn.preprocessing import StandardScaler\n",
    "from sklearn.linear_model import LinearRegression\n",
    "from sklearn.model_selection import train_test_split\n",
    "from sklearn.model_selection import cross_val_score, StratifiedKFold\n",
    "from sklearn.model_selection import StratifiedKFold\n",
    "from sklearn.metrics import r2_score\n",
    "#from sklearn.pipeline import Pipeline\n",
    "from sklearn.kernel_ridge import KernelRidge\n",
    "import numpy as np\n",
    "import matplotlib.pyplot as plt\n",
    "import itertools\n",
    "\n",
    "#bb_df = read_csv('./data/bb_df.csv') #behavior belief =[belief for box1, beleif for box2]\n",
    "bb_df_prev = read_csv('./data/recoding_pomdp_all_prev_df.csv') #behavior belief =[belief for box1, beleif for box2]\n",
    "bb_df_now = read_csv('./data/recoding_pomdp_all_now_df.csv') #behavior belief =[belief for box1, beleif for box2]\n",
    "\n",
    "\n",
    "TEST_SIZE = 0.2  # ratio of test data set \n",
    "N_SPLITS = 10 # \"K\" in K-fold cross validation "
   ]
  },
  {
   "cell_type": "code",
   "execution_count": 2,
   "metadata": {},
   "outputs": [],
   "source": [
    "data = bb_df_prev #.to_numpy()\n",
    "y_raw = bb_df_now[['behavior_belief1', 'behavior_belief2']].to_numpy()#[:1000].to_numpy()\n"
   ]
  },
  {
   "cell_type": "markdown",
   "metadata": {},
   "source": [
    "### RBF starats here"
   ]
  },
  {
   "cell_type": "code",
   "execution_count": 3,
   "metadata": {},
   "outputs": [],
   "source": [
    "def RBF(X_set, centers, gamma=1):\n",
    "    X_RBF_set = np.ones((X_set.shape[0], centers.shape[0])) # number of data set * number of center ponts\n",
    "    for i in range(X_set.shape[0]):\n",
    "        X = X_set[i] #i-th data\n",
    "        X_RBF = np.exp(-1*1/gamma/2*np.linalg.norm(X-centers,2, axis = 1)**2)\n",
    "        X_RBF_set[i] = X_RBF\n",
    "    return X_RBF_set\n",
    "    "
   ]
  },
  {
   "cell_type": "code",
   "execution_count": 6,
   "metadata": {},
   "outputs": [],
   "source": [
    "nb_raw = data[['behavior_belief1', 'behavior_belief2']].to_numpy()#[:1000] # for time constraint, I tested only 1000 data points\n",
    "a = data['action'].to_numpy()#[:1000]\n",
    "loc_raw = data['location'].to_numpy()#[:1000]\n",
    "rwd_raw = data['reward'].to_numpy()\n",
    "clr_raw = data[['color 1', 'color 2']].to_numpy()\n",
    "\n",
    "\n",
    "center = np.linspace(0.05,1.05,11)[:10]\n",
    "loc = np.array([0, 1, 2])\n",
    "rwd = np.array([0, 1])\n",
    "clr = np.array([0, 1, 2, 3, 4])\n",
    "\n",
    "\n",
    "centers_b = []\n",
    "centers_loc =[]\n",
    "centers_rwd = []\n",
    "centers_clr =[]\n",
    "\n",
    "\n",
    "for i in itertools.product(center,center):\n",
    "    centers_b.append(i)\n",
    "for j in itertools.product(loc):\n",
    "    centers_loc.append(j)\n",
    "for k in itertools.product(rwd):\n",
    "    centers_rwd.append(k)\n",
    "for c in itertools.product(clr, clr):\n",
    "    centers_clr.append(c)\n",
    "    \n",
    "centers_b = np.array(centers_b)\n",
    "centers_loc = np.array(centers_loc)\n",
    "centers_rwd = np.array(centers_rwd)\n",
    "centers_clr = np.array(centers_clr)\n",
    "\n",
    "# nonlinear transform using RBF: belief and location are transformed individually\n",
    "# gamma in here is the variance term in gaussian equation\n",
    "nb = RBF(nb_raw, centers_b, gamma=100) \n",
    "loc = RBF(loc_raw, centers_loc, gamma=3)\n",
    "rwd = RBF(rwd_raw, centers_rwd, gamma=2) \n",
    "clr = RBF(clr_raw, centers_clr, gamma=25)\n",
    "y = RBF(y_raw, centers_b, gamma=100) \n",
    "\n",
    "\n",
    "nb_all = np.concatenate((nb, loc, rwd, clr),axis=1)    "
   ]
  },
  {
   "cell_type": "code",
   "execution_count": 7,
   "metadata": {},
   "outputs": [],
   "source": [
    "X = nb_all\n",
    "y = y"
   ]
  },
  {
   "cell_type": "markdown",
   "metadata": {},
   "source": [
    "### there are 3 types of data: test data, train data, validation data"
   ]
  },
  {
   "cell_type": "code",
   "execution_count": 8,
   "metadata": {},
   "outputs": [],
   "source": [
    "# separate test data set\n",
    "X_train, X_test, y_train, y_test = train_test_split(X, y, test_size=TEST_SIZE, random_state = 1)"
   ]
  },
  {
   "cell_type": "code",
   "execution_count": 9,
   "metadata": {},
   "outputs": [],
   "source": [
    "regr = LinearRegression(n_jobs = -1) # linear regression is used for encoding process\n",
    "#regr = KernelRidge(alpha=0.01, gamma=0.1, kernel='rbf') # linear regression(small gamma) with RBF kernel"
   ]
  },
  {
   "cell_type": "code",
   "execution_count": 10,
   "metadata": {},
   "outputs": [],
   "source": [
    "# now we use only train data \n",
    "# why use StratifiedKFold?: The folds are made by preserving the percentage of samples for each class.\n",
    "k_fold = StratifiedKFold(n_splits=N_SPLITS) # seperate train data and validation data"
   ]
  },
  {
   "cell_type": "code",
   "execution_count": 11,
   "metadata": {},
   "outputs": [
    {
     "name": "stdout",
     "output_type": "stream",
     "text": [
      "score [0.49806699 0.49224428 0.48721378 0.48450159 0.4851208  0.49131571\n",
      " 0.50149424 0.5116396  0.52084104 0.52846425 0.499711   0.49078659\n",
      " 0.48133731 0.47323033 0.47127933 0.47802164 0.48884098 0.50377882\n",
      " 0.51160696 0.52413572 0.50275991 0.49066942 0.47479665 0.45694175\n",
      " 0.44568849 0.45096817 0.46460157 0.48722447 0.5070808  0.5181095\n",
      " 0.50763893 0.49380663 0.4696297  0.43537893 0.40004389 0.39892578\n",
      " 0.43185449 0.46958694 0.49500459 0.51081528 0.51556726 0.5002033\n",
      " 0.47272815 0.41501889 0.33355943 0.31030709 0.38003059 0.43731123\n",
      " 0.47845877 0.50024701 0.52591399 0.51057787 0.48273676 0.42230979\n",
      " 0.31305022 0.25563331 0.34141907 0.42149323 0.46564908 0.48890632\n",
      " 0.53086544 0.5173999  0.49581852 0.45406618 0.37748823 0.32650224\n",
      " 0.36288146 0.41895385 0.45727657 0.48087049 0.53964949 0.52992679\n",
      " 0.51143649 0.48252316 0.43826335 0.40451431 0.40850261 0.43300636\n",
      " 0.45791835 0.47645404 0.54140401 0.53323309 0.52063138 0.48631296\n",
      " 0.47385901 0.45163567 0.44381423 0.45072776 0.46345792 0.47627541\n",
      " 0.54343171 0.5354177  0.52236865 0.50750718 0.49045479 0.47594319\n",
      " 0.46622764 0.46549005 0.4707713  0.47860914]\n",
      "score [0.50185079 0.49460314 0.4879249  0.48584579 0.48806648 0.49754648\n",
      " 0.51012887 0.52303663 0.53450623 0.54315566 0.50631262 0.4947836\n",
      " 0.48498505 0.47386042 0.47542325 0.48523937 0.50178606 0.51914363\n",
      " 0.53181324 0.54111448 0.51118348 0.49794238 0.48174934 0.46427425\n",
      " 0.45441266 0.46309389 0.48517399 0.50831822 0.52570458 0.53622113\n",
      " 0.52076268 0.5070672  0.48143103 0.44749771 0.41428857 0.41572242\n",
      " 0.45497524 0.49231024 0.51612562 0.53019817 0.53161267 0.51658847\n",
      " 0.47881122 0.4331416  0.35259985 0.3324947  0.40314414 0.4641393\n",
      " 0.50059676 0.51986596 0.54198778 0.52747212 0.4986961  0.4317403\n",
      " 0.32625778 0.26889697 0.35657726 0.43564939 0.47880222 0.50544391\n",
      " 0.54487151 0.53730783 0.51147656 0.46234519 0.37967884 0.32392895\n",
      " 0.36389344 0.42514633 0.46720007 0.49172747 0.551727   0.54039238\n",
      " 0.52091031 0.48339796 0.43437083 0.39620257 0.39938038 0.43028802\n",
      " 0.4582269  0.48230427 0.55299958 0.53973855 0.52338404 0.4992121\n",
      " 0.46586058 0.439164   0.43204752 0.44230052 0.46006106 0.47673881\n",
      " 0.55317837 0.53876234 0.52682656 0.50677596 0.48353424 0.46321565\n",
      " 0.45305598 0.4529068  0.46214477 0.47086641]\n",
      "score [0.49961204 0.49312576 0.48761409 0.48524029 0.48754437 0.49532928\n",
      " 0.50631187 0.51819561 0.52829642 0.53656686 0.50220408 0.4925094\n",
      " 0.48220774 0.47415923 0.47252968 0.48174929 0.49586958 0.5117044\n",
      " 0.5241771  0.53296676 0.50609191 0.49308723 0.47654271 0.4578624\n",
      " 0.44851312 0.45598487 0.47681666 0.50014512 0.51704572 0.52811687\n",
      " 0.51411036 0.49890016 0.4731171  0.43849656 0.40449361 0.40606824\n",
      " 0.44362501 0.48122881 0.50512753 0.52013869 0.52356399 0.50596223\n",
      " 0.47837675 0.42246217 0.34132595 0.32063907 0.39165312 0.45412779\n",
      " 0.49031816 0.51054453 0.53321035 0.51947671 0.49156309 0.43072092\n",
      " 0.32234676 0.26675966 0.35258488 0.4317791  0.47502125 0.49894976\n",
      " 0.54174062 0.53007275 0.50515602 0.46213447 0.38618271 0.33394339\n",
      " 0.36947316 0.4259349  0.46503654 0.4860266  0.54775811 0.53850022\n",
      " 0.52027948 0.49022828 0.44610902 0.41107881 0.41283965 0.43785562\n",
      " 0.46246495 0.48259748 0.55024443 0.54204781 0.52828646 0.50623837\n",
      " 0.47808271 0.45441242 0.44659329 0.45376212 0.46683838 0.4800275\n",
      " 0.55180413 0.5426445  0.5321323  0.5154262  0.49559711 0.47799778\n",
      " 0.46700946 0.46636207 0.47228777 0.47953374]\n",
      "score [0.50557162 0.50126973 0.49512857 0.4905476  0.48906029 0.49201325\n",
      " 0.49723539 0.50728413 0.51508194 0.52136555 0.51074402 0.50225393\n",
      " 0.49155434 0.48214804 0.47628123 0.47800967 0.48671438 0.49830994\n",
      " 0.50823554 0.51692787 0.51430213 0.50438323 0.48864945 0.46939183\n",
      " 0.45408344 0.45313137 0.46626351 0.48361325 0.49955013 0.51068409\n",
      " 0.52189519 0.50509893 0.48715531 0.45347724 0.41389318 0.40262414\n",
      " 0.42979219 0.46311011 0.48699748 0.50143101 0.52987035 0.51695138\n",
      " 0.49219546 0.44046322 0.35517264 0.31895311 0.37629855 0.43531356\n",
      " 0.47130989 0.49195747 0.53759785 0.5237686  0.50269408 0.44634549\n",
      " 0.33758904 0.26701299 0.33775077 0.41365179 0.45757718 0.48227003\n",
      " 0.54368211 0.53316573 0.51341998 0.47122283 0.39366178 0.33405755\n",
      " 0.36036487 0.41248816 0.45159897 0.47547342 0.5471584  0.53861725\n",
      " 0.52149181 0.4926876  0.44852156 0.41030456 0.40764277 0.42913703\n",
      " 0.45336867 0.47239179 0.54752694 0.539931   0.52753074 0.50665419\n",
      " 0.478363   0.45362589 0.44310247 0.44834348 0.45954568 0.47236653\n",
      " 0.54681896 0.53994547 0.52906294 0.51266072 0.49422577 0.47628901\n",
      " 0.46570748 0.46387984 0.46790127 0.47581646]\n",
      "score [0.49398303 0.48592045 0.47879573 0.4713876  0.47249318 0.4786211\n",
      " 0.48813251 0.49821867 0.50852588 0.51793978 0.49518947 0.48307546\n",
      " 0.47531692 0.46426258 0.45971209 0.4650249  0.47723691 0.49313005\n",
      " 0.50636593 0.51665299 0.50297747 0.48991497 0.47148037 0.45052152\n",
      " 0.43583493 0.43936075 0.45903136 0.48157914 0.49819728 0.51269557\n",
      " 0.50884819 0.49584601 0.46935025 0.43206078 0.39191522 0.38959661\n",
      " 0.42534772 0.4631767  0.49030189 0.50570331 0.51918865 0.50273134\n",
      " 0.47428394 0.41669699 0.32919878 0.30190477 0.37292368 0.43879875\n",
      " 0.47687126 0.49732138 0.52652608 0.51355347 0.48319909 0.42045577\n",
      " 0.30439044 0.24415685 0.33283682 0.41605063 0.4625332  0.48749318\n",
      " 0.53198468 0.51966544 0.49435058 0.44576003 0.364126   0.3090156\n",
      " 0.34946199 0.41113779 0.45295586 0.47818558 0.53570138 0.52464234\n",
      " 0.50286243 0.46936247 0.4224461  0.38683911 0.3923115  0.42163\n",
      " 0.45044042 0.47206784 0.53626811 0.52556746 0.506567   0.48439048\n",
      " 0.45347509 0.43181229 0.42623119 0.43693132 0.45324288 0.46921562\n",
      " 0.53253286 0.52550092 0.51232089 0.4921648  0.47302307 0.4554292\n",
      " 0.44777668 0.44874554 0.45686766 0.46634119]\n",
      "score [0.50706801 0.50173244 0.4971518  0.49427651 0.49451639 0.49923976\n",
      " 0.50670364 0.51470765 0.52211704 0.52813724 0.50768648 0.49905529\n",
      " 0.48926918 0.48244553 0.47922574 0.48329004 0.49266172 0.50470296\n",
      " 0.51466279 0.52199276 0.50713998 0.49895156 0.48342179 0.46461647\n",
      " 0.45239307 0.45417237 0.47047685 0.48878676 0.50375221 0.51454621\n",
      " 0.51550348 0.50048382 0.47771286 0.44337649 0.40593255 0.3993082\n",
      " 0.4305002  0.46576719 0.48975833 0.5053632  0.52003761 0.50769964\n",
      " 0.4799856  0.42481728 0.33889836 0.30732955 0.37315682 0.4362744\n",
      " 0.47366634 0.49441945 0.52968362 0.51717675 0.48822052 0.43223501\n",
      " 0.31998262 0.25555609 0.33594365 0.41548635 0.45983073 0.48425586\n",
      " 0.53874378 0.52849689 0.50734892 0.46333952 0.38844039 0.33439905\n",
      " 0.36376657 0.4175434  0.45509401 0.47877055 0.54486591 0.53696985\n",
      " 0.52217039 0.49475602 0.45343851 0.41857405 0.41629344 0.43693574\n",
      " 0.45960918 0.476447   0.54925383 0.54253443 0.53106223 0.51242756\n",
      " 0.48784724 0.46495193 0.45490293 0.45821978 0.46852239 0.47925873\n",
      " 0.55039783 0.54491507 0.53586753 0.52247445 0.50582381 0.48933826\n",
      " 0.47857189 0.47601544 0.47860788 0.48413979]\n",
      "score [0.49799352 0.49355161 0.48718745 0.4838273  0.4849612  0.49147241\n",
      " 0.49516279 0.50500108 0.51794075 0.49559646 0.50237399 0.49328699\n",
      " 0.48303492 0.47418607 0.47017565 0.47830499 0.48996125 0.4996666\n",
      " 0.51065679 0.52673929 0.50855503 0.49540372 0.4790986  0.46004858\n",
      " 0.44782264 0.45332961 0.46934708 0.49426099 0.51208916 0.51444584\n",
      " 0.51528574 0.50045518 0.47656164 0.4409243  0.40553592 0.40336908\n",
      " 0.4253742  0.46677325 0.49855395 0.50732472 0.50260091 0.50779691\n",
      " 0.48049723 0.42325362 0.34250005 0.31856436 0.38795411 0.45074724\n",
      " 0.48560711 0.49191138 0.53263349 0.51503264 0.48342382 0.42143848\n",
      " 0.31820146 0.2612363  0.34656865 0.42740411 0.47143927 0.49097424\n",
      " 0.51853847 0.52777931 0.5050895  0.44904784 0.36062023 0.32341108\n",
      " 0.361488   0.4205916  0.45898366 0.48509733 0.520877   0.49081052\n",
      " 0.50739945 0.47004132 0.43525045 0.39996567 0.40391126 0.43117618\n",
      " 0.45843753 0.47582252 0.54330227 0.52741228 0.49431437 0.49100883\n",
      " 0.43880756 0.44137752 0.43564347 0.446255   0.4618625  0.47652679\n",
      " 0.53664865 0.51922464 0.48416663 0.50226619 0.472312   0.41224789\n",
      " 0.45030912 0.45100787 0.46677244 0.47645532]\n",
      "score [0.49857947 0.492168   0.48624639 0.48372631 0.48495316 0.49170458\n",
      " 0.50137879 0.51205169 0.52179951 0.52900377 0.5028816  0.49140654\n",
      " 0.48222129 0.47382364 0.47164762 0.47822162 0.4901977  0.49995553\n",
      " 0.51169435 0.5251784  0.50829021 0.49589371 0.47955114 0.46090927\n",
      " 0.44864632 0.45289634 0.47155929 0.49258344 0.50638083 0.51055094\n",
      " 0.51518895 0.50146112 0.4785108  0.44351105 0.40573638 0.40227509\n",
      " 0.43511322 0.46535685 0.49506166 0.50731696 0.52558508 0.51088816\n",
      " 0.48362202 0.42839262 0.342837   0.31179812 0.37703196 0.43876546\n",
      " 0.47753449 0.49294504 0.53556749 0.52005922 0.49325742 0.43523727\n",
      " 0.318982   0.24712073 0.32995548 0.4113723  0.45789096 0.48408224\n",
      " 0.54325599 0.53094624 0.5079426  0.46041582 0.37666077 0.31330744\n",
      " 0.34612724 0.40450772 0.44592014 0.47013961 0.54621824 0.53589485\n",
      " 0.51792321 0.48356055 0.43394441 0.39181923 0.39080838 0.4164051\n",
      " 0.44371273 0.46613106 0.54863269 0.53902035 0.52400667 0.49813131\n",
      " 0.46432517 0.43788783 0.42660981 0.43466295 0.44889444 0.4636012\n",
      " 0.5483688  0.53890622 0.52590473 0.50594671 0.4837374  0.46340637\n",
      " 0.45143672 0.44983058 0.45512537 0.46228914]\n"
     ]
    },
    {
     "name": "stdout",
     "output_type": "stream",
     "text": [
      "score [0.49033075 0.48267084 0.47513431 0.47065583 0.4714407  0.47827826\n",
      " 0.48912201 0.49452336 0.51205274 0.52120059 0.49381427 0.48275209\n",
      " 0.47064818 0.45996804 0.45678052 0.46361458 0.47599849 0.4930944\n",
      " 0.5074322  0.51819645 0.49964858 0.48575841 0.46663912 0.44540927\n",
      " 0.43114903 0.43617625 0.45663997 0.48039358 0.50032809 0.51370532\n",
      " 0.50791351 0.49193964 0.46621573 0.42710745 0.38723273 0.38503464\n",
      " 0.42307965 0.46146625 0.48792296 0.50596879 0.51627506 0.50302845\n",
      " 0.47139155 0.41480238 0.32709024 0.29995379 0.37213928 0.4377386\n",
      " 0.47397693 0.49726293 0.52922729 0.51611817 0.48848665 0.42832997\n",
      " 0.31510258 0.25301127 0.33636255 0.41807072 0.46277548 0.48789785\n",
      " 0.53855541 0.52739445 0.50316226 0.46083982 0.38273455 0.32666036\n",
      " 0.35972158 0.41579707 0.45452247 0.47920022 0.54357822 0.53398488\n",
      " 0.5150876  0.48684006 0.4416419  0.40516808 0.40512204 0.4290731\n",
      " 0.45473109 0.47421534 0.54384391 0.53719117 0.52236522 0.50008403\n",
      " 0.47365486 0.44862301 0.43950566 0.44611295 0.45897567 0.47214882\n",
      " 0.54571276 0.53748095 0.52495824 0.50928221 0.48952534 0.47127245\n",
      " 0.46064247 0.45927189 0.46525823 0.47341957]\n",
      "score [0.49997597 0.49383439 0.48760147 0.48446871 0.48398739 0.48897773\n",
      " 0.49659511 0.50200068 0.51009257 0.51964239 0.50337289 0.49471714\n",
      " 0.48506658 0.47639295 0.47179069 0.47590429 0.48486833 0.49763496\n",
      " 0.50578462 0.51501044 0.50694192 0.49715279 0.48243244 0.46432407\n",
      " 0.4504619  0.45000891 0.4646995  0.48342249 0.49934065 0.50962121\n",
      " 0.51505149 0.50168632 0.48134387 0.44848787 0.41140405 0.4031643\n",
      " 0.43000159 0.45229136 0.48560028 0.50015673 0.524307   0.51071653\n",
      " 0.48650125 0.43473612 0.35329878 0.31810484 0.37632051 0.43064669\n",
      " 0.46916196 0.48808825 0.53020851 0.52109349 0.49665131 0.43766063\n",
      " 0.33134799 0.2613903  0.33260455 0.40908811 0.45320251 0.47788038\n",
      " 0.53640012 0.52933639 0.50778287 0.45377943 0.38282423 0.32296459\n",
      " 0.35047473 0.40473283 0.44403952 0.46805067 0.53920783 0.53345455\n",
      " 0.51637229 0.47857441 0.42702266 0.39823735 0.39456848 0.41829167\n",
      " 0.44352579 0.46382736 0.53836204 0.53221988 0.51850233 0.49656918\n",
      " 0.46751541 0.44207106 0.43082371 0.43596713 0.44936113 0.46323731\n",
      " 0.54341916 0.53552735 0.5224289  0.50537834 0.48378526 0.46414195\n",
      " 0.45057788 0.4515802  0.45699153 0.46536813]\n"
     ]
    }
   ],
   "source": [
    "# why argmax(1)? split cannot simply handle multidimension y. \n",
    "# ref: https://stackoverflow.com/questions/48508036/sklearn-stratifiedkfold-valueerror-supported-target-types-are-binary-mul\n",
    "for i, (train_index, val_index) in enumerate(k_fold.split(X, y.argmax(1))):\n",
    "    #print(\"TRAIN:\", train_index, \"TEST:\", val_index)\n",
    "    x_train_kf, x_val_kf = X[train_index], X[val_index]\n",
    "    y_train_kf, y_val_kf = y[train_index], y[val_index]\n",
    "    #print(x_train_kf)\n",
    "    #print(y_train_kf)\n",
    "    regr.fit(x_train_kf, y_train_kf) # fit the model\n",
    "    nb_val = regr.predict(x_val_kf) # predict based on current model -> use validation data for evaluation\n",
    "    print('score', r2_score(y_val_kf, nb_val, multioutput='raw_values')) # get r2 score"
   ]
  },
  {
   "cell_type": "markdown",
   "metadata": {},
   "source": [
    "### Linear regression model: "
   ]
  },
  {
   "cell_type": "code",
   "execution_count": 12,
   "metadata": {},
   "outputs": [
    {
     "name": "stdout",
     "output_type": "stream",
     "text": [
      "Intercept:  [-4.12163823e+09 -2.18636252e+09 -2.48730343e+08  1.69067868e+09\n",
      "  3.63128387e+09  5.57250376e+09  7.51375643e+09  9.45445977e+09\n",
      "  1.13940318e+10  1.33318908e+10 -6.17523155e+09 -4.23923085e+09\n",
      " -2.30066737e+09 -3.60121008e+08  1.58182721e+09  3.52459542e+09\n",
      "  5.46760124e+09  7.41026202e+09  9.35199517e+09  1.12922184e+10\n",
      " -8.22950528e+09 -6.29297269e+09 -4.35367113e+09 -2.41218073e+09\n",
      " -4.69082785e+08  1.47504050e+09  3.41960631e+09  5.36403156e+09\n",
      "  7.30773311e+09  9.25012811e+09 -1.02838439e+10 -8.34697266e+09\n",
      " -6.40712646e+09 -4.46488558e+09 -2.52083156e+09 -5.75546866e+08\n",
      "  1.37038534e+09  3.31638154e+09  5.26185815e+09  7.20623176e+09\n",
      " -1.23376315e+10 -1.04006150e+10 -8.46041778e+09 -6.51762023e+09\n",
      " -4.57280405e+09 -2.62655195e+09 -6.79447376e+08  1.26792580e+09\n",
      "  3.21498357e+09  5.16114208e+09 -1.43902524e+10 -1.24532840e+10\n",
      " -1.05129294e+10 -8.56976916e+09 -6.62438498e+09 -4.67735977e+09\n",
      " -2.72927721e+09 -7.80721448e+08  1.16772314e+09  3.11547228e+09\n",
      " -1.64410909e+10 -1.45043641e+10 -1.25640459e+10 -1.06207170e+10\n",
      " -8.67495918e+09 -6.72735539e+09 -4.77848950e+09 -2.82894591e+09\n",
      " -8.79309279e+08  1.06983575e+09 -1.84895324e+10 -1.65532403e+10\n",
      " -1.46131524e+10 -1.26698490e+10 -1.07239119e+10 -8.77592420e+09\n",
      " -6.82646989e+09 -4.87613351e+09 -2.92549997e+09 -9.75154194e+08\n",
      " -2.05349628e+10 -1.85992987e+10 -1.66596347e+10 -1.47165508e+10\n",
      " -1.27706290e+10 -1.08224523e+10 -8.87260461e+09 -6.92167073e+09\n",
      " -4.97023570e+09 -3.01888470e+09 -2.25767696e+10 -2.06419265e+10\n",
      " -1.87028798e+10 -1.67602096e+10 -1.48144976e+10 -1.28663266e+10\n",
      " -1.09162808e+10 -8.96494488e+09 -7.01290403e+09 -5.06074362e+09]\n",
      "Coef:  [[ 7.58571700e+09  8.05164576e+09  1.67091350e+10 ... -5.80874583e+06\n",
      "   4.01881228e+06 -1.12992226e+06]\n",
      " [ 5.02428396e+09  9.24326937e+09  1.96315144e+10 ... -5.21510630e+07\n",
      "   3.58993177e+07 -9.93442210e+06]\n",
      " [ 2.46084961e+09  1.04339875e+10  2.25539011e+10 ... -9.85026385e+07\n",
      "   6.77861872e+07 -1.87406754e+07]\n",
      " ...\n",
      " [-9.97328500e+09 -8.23233459e+09 -1.65256335e+10 ... -1.30375364e+08\n",
      "   8.96901028e+07 -2.47714088e+07]\n",
      " [-1.25377140e+10 -7.05551462e+09 -1.36160176e+10 ... -1.76074613e+08\n",
      "   1.21128158e+08 -3.34536439e+07]\n",
      " [-1.50988004e+10 -5.87962976e+09 -1.07071546e+10 ... -2.21706333e+08\n",
      "   1.52519754e+08 -4.21230464e+07]]\n"
     ]
    }
   ],
   "source": [
    "print('Intercept: ', regr.intercept_)\n",
    "print('Coef: ', regr.coef_)"
   ]
  },
  {
   "cell_type": "markdown",
   "metadata": {},
   "source": [
    "### evaluate model with test data"
   ]
  },
  {
   "cell_type": "code",
   "execution_count": 19,
   "metadata": {},
   "outputs": [
    {
     "name": "stdout",
     "output_type": "stream",
     "text": [
      "recoding MSE: \n",
      " [1.99476007e-06 1.65931284e-06 1.40964660e-06 1.24261510e-06\n",
      " 1.16225159e-06 1.16473305e-06 1.25532396e-06 1.43949611e-06\n",
      " 1.70464266e-06 2.03861152e-06 1.65093557e-06 1.31307203e-06\n",
      " 1.05920975e-06 8.90854810e-07 8.08563903e-07 8.10362939e-07\n",
      " 8.99886199e-07 1.07160095e-06 1.33739626e-06 1.68164783e-06\n",
      " 1.38992927e-06 1.04858875e-06 7.91485558e-07 6.21103863e-07\n",
      " 5.36410010e-07 5.38650102e-07 6.24843772e-07 7.96415536e-07\n",
      " 1.05160138e-06 1.39540510e-06 1.20838348e-06 8.64290551e-07\n",
      " 6.05245641e-07 4.32673219e-07 3.45889571e-07 3.44743505e-07\n",
      " 4.30169783e-07 6.12929245e-07 8.54804617e-07 1.19850329e-06\n",
      " 1.10477282e-06 7.60641055e-07 5.00216901e-07 3.26311779e-07\n",
      " 2.37289686e-07 2.34342723e-07 3.17012711e-07 4.87838764e-07\n",
      " 7.39548272e-07 1.08306570e-06 1.08873695e-06 7.39519158e-07\n",
      " 4.77937364e-07 3.02287822e-07 2.10533138e-07 2.05788474e-07\n",
      " 2.86901187e-07 4.53790876e-07 7.06383355e-07 1.04367758e-06\n",
      " 1.15287723e-06 7.99268252e-07 5.37913423e-07 3.66665357e-07\n",
      " 2.66562932e-07 2.59441759e-07 3.38436467e-07 5.03500277e-07\n",
      " 7.53563464e-07 1.09054554e-06 1.29757366e-06 9.41951335e-07\n",
      " 6.77180762e-07 5.04486409e-07 4.11389291e-07 3.94555094e-07\n",
      " 4.72462395e-07 6.34750005e-07 8.83278500e-07 1.21775639e-06\n",
      " 1.53754376e-06 1.17149596e-06 9.04867916e-07 7.20883843e-07\n",
      " 6.22401557e-07 6.11256947e-07 6.87002808e-07 8.48315279e-07\n",
      " 1.09453820e-06 1.42630921e-06 1.82038989e-06 1.47004364e-06\n",
      " 1.20212376e-06 1.01969095e-06 9.23089987e-07 9.11200909e-07\n",
      " 9.88309504e-07 1.14416829e-06 1.38797513e-06 1.71604383e-06]\n",
      "recoding error std:\n",
      " [0.00141236 0.00128812 0.00118677 0.00111436 0.00107751 0.00107923\n",
      " 0.00112037 0.00119535 0.0012988  0.00142681 0.00128488 0.00114584\n",
      " 0.00102918 0.00094385 0.00089893 0.00090018 0.00094721 0.00103477\n",
      " 0.0011536  0.0012937  0.001178   0.00102341 0.00088964 0.0007881\n",
      " 0.00073213 0.00073286 0.00078911 0.00089168 0.00102543 0.00118071\n",
      " 0.00109803 0.00092878 0.00077791 0.00065775 0.00058808 0.00058715\n",
      " 0.00065536 0.00077425 0.00092444 0.00109294 0.00105097 0.00087173\n",
      " 0.00070714 0.00057103 0.0004871  0.00048403 0.00056302 0.00069672\n",
      " 0.0008598  0.0010382  0.00104179 0.00085969 0.00069054 0.00054856\n",
      " 0.0004588  0.00045364 0.00053557 0.0006734  0.00084015 0.00102146\n",
      " 0.00107147 0.00089401 0.00073212 0.00059833 0.0005154  0.00050912\n",
      " 0.00058175 0.00070953 0.00086804 0.00104346 0.00113592 0.00097053\n",
      " 0.00082209 0.00070479 0.00063481 0.00062797 0.00068685 0.00079671\n",
      " 0.00093981 0.00110311 0.00123157 0.00107923 0.00094785 0.00084745\n",
      " 0.0007883  0.00078183 0.0008287  0.00092082 0.00104612 0.00119409\n",
      " 0.00134921 0.00121145 0.00109563 0.00100945 0.00095949 0.00095368\n",
      " 0.00099364 0.00106952 0.00117793 0.00130997]\n",
      "score [0.50970044 0.50363184 0.49731981 0.49346996 0.49249999 0.49695545\n",
      " 0.50359757 0.50876368 0.51565063 0.52540245 0.51152139 0.50289136\n",
      " 0.49327433 0.48418635 0.4790962  0.48251875 0.49110769 0.50367221\n",
      " 0.51149592 0.5200355  0.51413749 0.50301776 0.48822118 0.46973974\n",
      " 0.45526751 0.45424933 0.46963392 0.48880644 0.50536169 0.51575619\n",
      " 0.51897332 0.50585078 0.48429943 0.44991962 0.41205329 0.40468945\n",
      " 0.43322581 0.45649681 0.49268086 0.50677695 0.52670929 0.51218495\n",
      " 0.48540716 0.43080961 0.3471135  0.31636156 0.38003739 0.43856356\n",
      " 0.47737828 0.49605564 0.53221374 0.52006214 0.49267499 0.43153989\n",
      " 0.32180649 0.26064403 0.34122903 0.41953132 0.46351458 0.48830002\n",
      " 0.53731121 0.52813263 0.50364134 0.4461646  0.37910744 0.32754523\n",
      " 0.36331804 0.41885113 0.45782005 0.48103705 0.54098562 0.53323696\n",
      " 0.51520768 0.4766674  0.42860723 0.40676299 0.40895963 0.43459987\n",
      " 0.4596135  0.47833587 0.53863369 0.53384923 0.51896806 0.49842305\n",
      " 0.47345516 0.45219123 0.44534419 0.45278671 0.46616493 0.47911477\n",
      " 0.54584139 0.53750379 0.5259587  0.51005351 0.49140679 0.4755581\n",
      " 0.4654132  0.46748844 0.47360398 0.48194807]\n"
     ]
    }
   ],
   "source": [
    "predic_X_test = regr.predict(X_test)\n",
    "\n",
    "recoding_error = y_test - predic_X_test # true - estimate\n",
    "print('recoding MSE: \\n', np.mean(recoding_error**2, axis=0))\n",
    "print('recoding error std:\\n', np.std(recoding_error, axis=0))      \n",
    "print('score', r2_score(y_test, predic_X_test, multioutput='raw_values'))"
   ]
  },
  {
   "cell_type": "code",
   "execution_count": 23,
   "metadata": {},
   "outputs": [],
   "source": [
    "predic_X_df_test = DataFrame(predic_X_test) "
   ]
  },
  {
   "cell_type": "code",
   "execution_count": 27,
   "metadata": {},
   "outputs": [
    {
     "data": {
      "text/plain": [
       "array([[0.99538803, 0.99587679, 0.99631652, ..., 0.9993515 , 0.99910355,\n",
       "        0.99882889],\n",
       "       [0.99612427, 0.99632215, 0.99645957, ..., 0.99861336, 0.99815178,\n",
       "        0.99759483],\n",
       "       [0.99464512, 0.99521303, 0.99569997, ..., 0.99951935, 0.9993782 ,\n",
       "        0.99917603],\n",
       "       ...,\n",
       "       [0.99458933, 0.9952116 , 0.99576774, ..., 0.99948692, 0.99936867,\n",
       "        0.99921894],\n",
       "       [0.99384689, 0.99452353, 0.99513081, ..., 0.99951172, 0.99956608,\n",
       "        0.99944401],\n",
       "       [0.99737978, 0.99807882, 0.99868309, ..., 0.99699974, 0.99697876,\n",
       "        0.99693966]])"
      ]
     },
     "execution_count": 27,
     "metadata": {},
     "output_type": "execute_result"
    }
   ],
   "source": [
    "predic_X_test\n"
   ]
  },
  {
   "cell_type": "code",
   "execution_count": 28,
   "metadata": {},
   "outputs": [
    {
     "data": {
      "image/png": "[encoded data removed]",
      "text/plain": [
       "<Figure size 432x288 with 1 Axes>"
      ]
     },
     "metadata": {
      "needs_background": "light"
     },
     "output_type": "display_data"
    }
   ],
   "source": [
    "# plot: compare raw data vs prediction\n",
    "plt.scatter(y_test, predic_X_test, s=3, c='blue', marker='o')\n",
    "plt.xlabel('true')\n",
    "plt.ylabel('prediction')\n",
    "plt.title('Recoding')"
   ]
  },
  {
   "cell_type": "markdown",
   "metadata": {},
   "source": [
    "### build csv file"
   ]
  },
  {
   "cell_type": "code",
   "execution_count": 14,
   "metadata": {},
   "outputs": [],
   "source": [
    "\"\"\"\n",
    "#neural estimate of belief using current linear regression model\n",
    "nb= regr.predict(r_df) \n",
    "nb_df = DataFrame(nb, columns = bb_df.columns)\n",
    "#save neural estimate belief\n",
    "nb_df.to_csv(path_or_buf='./data/nb_df.csv',index=False)\n",
    "\"\"\""
   ]
  },
  {
   "cell_type": "code",
   "execution_count": null,
   "metadata": {},
   "outputs": [],
   "source": []
  }
 ],
 "metadata": {
  "kernelspec": {
   "display_name": "Python 3",
   "language": "python",
   "name": "python3"
  },
  "language_info": {
   "codemirror_mode": {
    "name": "ipython",
    "version": 3
   },
   "file_extension": ".py",
   "mimetype": "text/x-python",
   "name": "python",
   "nbconvert_exporter": "python",
   "pygments_lexer": "ipython3",
   "version": "3.7.1"
  }
 },
 "nbformat": 4,
 "nbformat_minor": 1
}
