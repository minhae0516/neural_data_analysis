{
 "cells": [
  {
   "cell_type": "code",
   "execution_count": 1,
   "metadata": {},
   "outputs": [],
   "source": [
    "\"\"\"\n",
    "updated 2019-08-07 \n",
    "written by Minhae Kwon\n",
    "Autoregression for \"Recoding\" Process\n",
    "I am trying to reuse Linear Regression model that I used in encoding process.\n",
    "ref: https://chrisalbon.com/machine_learning/linear_regression/linear_regression_using_scikit-learn/\n",
    "     https://datatofish.com/multiple-linear-regression-python/\n",
    "\n",
    "cross validate score: Coefficient of determination\n",
    "https://en.wikipedia.org/wiki/Coefficient_of_determination\n",
    "\"\"\"\n",
    "\n",
    "from pandas import DataFrame, read_csv\n",
    "#from sklearn.preprocessing import StandardScaler\n",
    "from sklearn.linear_model import LinearRegression\n",
    "from sklearn.model_selection import train_test_split\n",
    "from sklearn.model_selection import cross_val_score, StratifiedKFold\n",
    "from sklearn.model_selection import StratifiedKFold\n",
    "from sklearn.metrics import r2_score\n",
    "import numpy as np\n",
    "import matplotlib.pyplot as plt\n",
    "\n",
    "#bb_df = read_csv('./data/bb_df.csv') #behavior belief =[belief for box1, beleif for box2]\n",
    "#['behavior_belief1', 'behavior_belief2', 'action', 'reward', 'location', 'color 1','color 2'])\n",
    "bb_df_prev = read_csv('./data/recoding_pomdp_all_prev_df.csv') \n",
    "bb_df_now = read_csv('./data/recoding_pomdp_all_now_df.csv')\n",
    "\n",
    "\n",
    "TEST_SIZE = 0.2  # ratio of test data set \n",
    "N_SPLITS = 10 # \"K\" in K-fold cross validation "
   ]
  },
  {
   "cell_type": "code",
   "execution_count": 2,
   "metadata": {},
   "outputs": [],
   "source": [
    "X = bb_df_prev.to_numpy()\n",
    "y = bb_df_now.to_numpy()"
   ]
  },
  {
   "cell_type": "markdown",
   "metadata": {},
   "source": [
    "### there are 3 types of data: test data, train data, validation data"
   ]
  },
  {
   "cell_type": "code",
   "execution_count": 3,
   "metadata": {},
   "outputs": [],
   "source": [
    "# separate test data set\n",
    "X_train, X_test, y_train, y_test = train_test_split(X, y, test_size=TEST_SIZE, random_state = 1)"
   ]
  },
  {
   "cell_type": "code",
   "execution_count": 4,
   "metadata": {},
   "outputs": [],
   "source": [
    "regr = LinearRegression(n_jobs = -1) # linear regression is used for encoding process"
   ]
  },
  {
   "cell_type": "code",
   "execution_count": 5,
   "metadata": {},
   "outputs": [],
   "source": [
    "# now we use only train data \n",
    "# why use StratifiedKFold?: The folds are made by preserving the percentage of samples for each class.\n",
    "#X = r_df_train.to_numpy()\n",
    "#y = bb_df_train.to_numpy()\n",
    "k_fold = StratifiedKFold(n_splits=N_SPLITS) # seperate train data and validation data"
   ]
  },
  {
   "cell_type": "code",
   "execution_count": 6,
   "metadata": {},
   "outputs": [
    {
     "name": "stdout",
     "output_type": "stream",
     "text": [
      "score [0.42523016 0.52265996 0.26387046 0.50756498 0.63035567 0.06334212\n",
      " 0.08753898]\n",
      "score [0.43114107 0.53245991 0.24567224 0.49365138 0.61892465 0.06120468\n",
      " 0.08206902]\n",
      "score [0.42674047 0.53083025 0.2304173  0.48561167 0.60709804 0.06238051\n",
      " 0.09107279]\n",
      "score [0.42182001 0.5127878  0.24684275 0.49318741 0.62339282 0.0616446\n",
      " 0.08196398]\n",
      "score [0.42767543 0.52542237 0.23131871 0.49249668 0.61263471 0.05781406\n",
      " 0.09255087]\n",
      "score [0.43039961 0.52023929 0.2413944  0.50450639 0.61413082 0.05745246\n",
      " 0.07613816]\n",
      "score [0.42636559 0.5134066  0.24313686 0.4938701  0.62786933 0.06218517\n",
      " 0.0812194 ]\n",
      "score [0.41486183 0.52817882 0.23520503 0.50251823 0.61740851 0.05363391\n",
      " 0.08738643]\n",
      "score [0.41864865 0.5250371  0.22548732 0.47009242 0.60678826 0.04848363\n",
      " 0.08470166]\n",
      "score [0.41485411 0.51413583 0.23988499 0.49156657 0.60853473 0.05128665\n",
      " 0.08423378]\n"
     ]
    }
   ],
   "source": [
    "# why argmax(1)? split cannot simply handle multidimension y. \n",
    "# ref: https://stackoverflow.com/questions/48508036/sklearn-stratifiedkfold-valueerror-supported-target-types-are-binary-mul\n",
    "for i, (train_index, val_index) in enumerate(k_fold.split(X, y.argmax(1))):\n",
    "    #print(\"TRAIN:\", train_index, \"TEST:\", val_index)\n",
    "    x_train_kf, x_val_kf = X[train_index], X[val_index]\n",
    "    y_train_kf, y_val_kf = y[train_index], y[val_index]\n",
    "    #print(x_train_kf)\n",
    "    #print(y_train_kf)\n",
    "    regr.fit(x_train_kf, y_train_kf) # fit the model\n",
    "    nb_val = regr.predict(x_val_kf) # predict based on current model -> use validation data for evaluation\n",
    "    print('score', r2_score(y_val_kf, nb_val, multioutput='raw_values')) # get r2 score"
   ]
  },
  {
   "cell_type": "markdown",
   "metadata": {},
   "source": [
    "### Linear regression model: B_{t} = K * B_{t-1} + c "
   ]
  },
  {
   "cell_type": "code",
   "execution_count": 7,
   "metadata": {},
   "outputs": [
    {
     "name": "stdout",
     "output_type": "stream",
     "text": [
      "Intercept:  [ 0.2629503   0.19040861 -0.05027809 -0.07865981 -0.1659086   2.2113064\n",
      "  2.32793456]\n",
      "Coef:  [[ 0.60693003  0.05639851 -0.0649755   0.05920522  0.01377788 -0.0045285\n",
      "   0.00491584]\n",
      " [ 0.0294522   0.6761061  -0.01619556  0.21426843 -0.15437423  0.0047678\n",
      "   0.00617801]\n",
      " [ 0.56757717  0.59144534  0.50952872  0.02102336 -0.4361659  -0.00854225\n",
      "   0.01666052]\n",
      " [ 0.06190576  0.02210898  0.08643474 -0.2921091   0.14300792  0.00422513\n",
      "  -0.00843415]\n",
      " [ 0.05575552  0.29271555  0.34787703 -0.45708802  0.09732563 -0.0202549\n",
      "   0.00953665]\n",
      " [-0.44101834 -0.15708978  0.19880988 -0.17408395 -0.04553566  0.0134053\n",
      "  -0.01095325]\n",
      " [-0.07793316 -0.469484    0.04927492 -0.61491056  0.44647564 -0.01203249\n",
      "  -0.01882969]]\n"
     ]
    }
   ],
   "source": [
    "\"\"\"\n",
    "c = Intercept\n",
    "B_t (behavior belief) N x 2 dimension (N: # of data)\n",
    "K (Coef): 2 x 2 dimension\n",
    "B_{t-1} N x 2 dimension (N: # of data)\n",
    "\"\"\"\n",
    "\n",
    "print('Intercept: ', regr.intercept_)\n",
    "print('Coef: ', regr.coef_)\n"
   ]
  },
  {
   "cell_type": "markdown",
   "metadata": {},
   "source": [
    "### evaluate model with test data"
   ]
  },
  {
   "cell_type": "code",
   "execution_count": 8,
   "metadata": {},
   "outputs": [
    {
     "name": "stdout",
     "output_type": "stream",
     "text": [
      "mean model error mean: \n",
      " [ 8.85285974e-05 -5.18183258e-04 -9.24113373e-03 -1.39234840e-04\n",
      "  2.83646086e-04 -4.39943986e-03  1.03693158e-03]\n",
      "mean model error std:\n",
      " [0.22114191 0.21218196 1.19736591 0.18774775 0.42819906 1.08763988\n",
      " 1.06702391]\n",
      "score [0.4329375  0.52577596 0.22958839 0.49714505 0.60420774 0.05864229\n",
      " 0.08983304]\n"
     ]
    }
   ],
   "source": [
    "predic_X_test = regr.predict(X_test)\n",
    "\n",
    "recoding_error = y_test - predic_X_test # true - estimate\n",
    "print('mean model error mean: \\n', np.mean(recoding_error, axis=0))\n",
    "print('mean model error std:\\n', np.std(recoding_error, axis=0))\n",
    "print('score', r2_score(y_test, predic_X_test, multioutput='raw_values'))"
   ]
  },
  {
   "cell_type": "code",
   "execution_count": 10,
   "metadata": {},
   "outputs": [
    {
     "data": {
      "image/png": "[encoded data removed]",
      "text/plain": [
       "<Figure size 432x288 with 1 Axes>"
      ]
     },
     "metadata": {
      "needs_background": "light"
     },
     "output_type": "display_data"
    },
    {
     "data": {
      "image/png": "[encoded data removed]",
      "text/plain": [
       "<Figure size 432x288 with 1 Axes>"
      ]
     },
     "metadata": {
      "needs_background": "light"
     },
     "output_type": "display_data"
    }
   ],
   "source": [
    "line_x = np.linspace(0,1,num=11)\n",
    "line_y = np.linspace(0,1,num=11)\n",
    "\n",
    "# plot: compare raw data vs prediction\n",
    "plt.scatter(y_test[:,0], predic_X_test[:,0], s=3, c='blue', marker='o')\n",
    "plt.plot(line_x, line_y,c='k')\n",
    "plt.xlabel('true')\n",
    "plt.ylabel('prediction')\n",
    "plt.title('Recoding: behavior belief for box1')\n",
    "plt.show()\n",
    "\n",
    "plt.scatter(y_test[:,1], predic_X_test[:,1], s=3, c='blue', marker='o')\n",
    "plt.plot(line_x, line_y,c='k')\n",
    "plt.xlabel('true')\n",
    "plt.ylabel('prediction')\n",
    "plt.title('Recoding: behavior belief for box2')\n",
    "plt.show()"
   ]
  },
  {
   "cell_type": "code",
   "execution_count": null,
   "metadata": {},
   "outputs": [],
   "source": []
  },
  {
   "cell_type": "code",
   "execution_count": null,
   "metadata": {},
   "outputs": [],
   "source": []
  },
  {
   "cell_type": "code",
   "execution_count": null,
   "metadata": {},
   "outputs": [],
   "source": []
  }
 ],
 "metadata": {
  "@webio": {
   "lastCommId": null,
   "lastKernelId": null
  },
  "kernelspec": {
   "display_name": "Python 3",
   "language": "python",
   "name": "python3"
  },
  "language_info": {
   "codemirror_mode": {
    "name": "ipython",
    "version": 3
   },
   "file_extension": ".py",
   "mimetype": "text/x-python",
   "name": "python",
   "nbconvert_exporter": "python",
   "pygments_lexer": "ipython3",
   "version": "3.7.1"
  }
 },
 "nbformat": 4,
 "nbformat_minor": 1
}
