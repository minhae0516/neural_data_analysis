{
 "cells": [
  {
   "cell_type": "code",
   "execution_count": null,
   "metadata": {},
   "outputs": [],
   "source": [
    "\"\"\"\n",
    "updated 2019-08-09 \n",
    "written by Minhae Kwon\n",
    "Multinomial logistic regression for \"Decoding\" process\n",
    "ref: https://chrisalbon.com/machine_learning/naive_bayes/multinomial_logistic_regression/\n",
    "\n",
    "\n",
    "ver 2.0: try use Radial Basis Function for nonlinear transform (manually)\n",
    "\n",
    "\n",
    "\"\"\"\n",
    "from pandas import DataFrame, read_csv\n",
    "from sklearn.preprocessing import StandardScaler\n",
    "from sklearn.linear_model import LogisticRegression\n",
    "from sklearn.model_selection import train_test_split\n",
    "from sklearn.model_selection import cross_val_score, StratifiedKFold\n",
    "from sklearn.metrics import r2_score\n",
    "import numpy as np\n",
    "import matplotlib.pyplot as plt\n",
    "import itertools"
   ]
  },
  {
   "cell_type": "code",
   "execution_count": 57,
   "metadata": {},
   "outputs": [],
   "source": [
    "USE_RBF = True # chose your setup"
   ]
  },
  {
   "cell_type": "markdown",
   "metadata": {},
   "source": [
    "### if you use neural data\n",
    "\n",
    "nb_df_raw = read_csv('./data/nb_df.csv').to_numpy() #nueral estimate (from encoding) for belief =[belief for box1, beleif for box2]\n",
    "a_df = read_csv('./data/a_df.csv').to_numpy().reshape(-1) # action\n"
   ]
  },
  {
   "cell_type": "markdown",
   "metadata": {},
   "source": [
    "### if you use pomdp data"
   ]
  },
  {
   "cell_type": "code",
   "execution_count": 97,
   "metadata": {},
   "outputs": [],
   "source": [
    "data = read_csv('./data/pomdp_data.csv')"
   ]
  },
  {
   "cell_type": "code",
   "execution_count": null,
   "metadata": {},
   "outputs": [],
   "source": [
    "\"\"\"\n",
    "# make a single input data -> RBF is performed with the combined data\n",
    "\n",
    "nb_df_raw = data[['box1 belief', 'box2 belief','location']].to_numpy()[:1000]\n",
    "a_df = data['action'].to_numpy()[:1000]\n",
    "#loc_df = data['location'].to_numpy()\n",
    "\n",
    "center = np.linspace(0.05,1.05,11)[:10]\n",
    "loc = np.array([0, 1, 2])\n",
    "\n",
    "\n",
    "centers = []\n",
    "for i in itertools.product(center,center,loc):\n",
    "    centers.append(i)\n",
    "    \n",
    "centers = np.array(centers)\n",
    "\n",
    "if USE_RBF:\n",
    "    nb_df = RBF(nb_df_raw, centers)\n",
    "    \n",
    "    #print(nb_df)    \n",
    "else: \n",
    "    nb_df = nb_df_raw\n",
    "\"\"\""
   ]
  },
  {
   "cell_type": "code",
   "execution_count": 98,
   "metadata": {},
   "outputs": [],
   "source": [
    "# make a separted input data -> RBF is performed individually for each data\n",
    "\n",
    "nb_df_raw = data[['box1 belief', 'box2 belief']].to_numpy()[:1000]\n",
    "a_df = data['action'].to_numpy()[:1000]\n",
    "loc_df_raw = data['location'].to_numpy()[:1000]\n",
    "\n",
    "center = np.linspace(0.05,1.05,11)[:10]\n",
    "loc = np.array([0, 1, 2])\n",
    "\n",
    "\n",
    "centers_b = []\n",
    "centers_loc =[]\n",
    "for i in itertools.product(center,center):\n",
    "    centers_b.append(i)\n",
    "for j in itertools.product(loc):\n",
    "    centers_loc.append(j)\n",
    "    \n",
    "centers_b = np.array(centers_b)\n",
    "centers_loc = np.array(centers_loc)\n",
    "\n",
    "if USE_RBF:\n",
    "    nb_df = RBF(nb_df_raw, centers_b, gamma=10)\n",
    "    loc_df = RBF(loc_df_raw, centers_loc, gamma=3)\n",
    "    nb_df = np.concatenate((nb_df, loc_df),axis=1)\n",
    "    #print(nb_df)\n",
    "    \n",
    "else: \n",
    "    nb_df = nb_df_raw"
   ]
  },
  {
   "cell_type": "markdown",
   "metadata": {},
   "source": [
    "### RBF is defined here"
   ]
  },
  {
   "cell_type": "code",
   "execution_count": 99,
   "metadata": {},
   "outputs": [],
   "source": [
    "def RBF(X_set, centers, gamma=3000):\n",
    "    X_RBF_set = np.ones((X_set.shape[0], centers.shape[0])) # number of data set * number of center ponts\n",
    "    for i in range(X_set.shape[0]):\n",
    "        #print(i)\n",
    "        X = X_set[i] #i-th data\n",
    "        #print(X)\n",
    "        X_RBF = np.exp(-1*1/gamma/2*np.linalg.norm(X-centers,2, axis = 1)**2)\n",
    "        #print(X_RBF)\n",
    "        X_RBF_set[i] = X_RBF\n",
    "        #print(X_RBF_set[i])\n",
    "    return X_RBF_set\n",
    "    "
   ]
  },
  {
   "cell_type": "markdown",
   "metadata": {},
   "source": [
    "### K fold cross validation starts here"
   ]
  },
  {
   "cell_type": "code",
   "execution_count": 100,
   "metadata": {},
   "outputs": [],
   "source": [
    "TEST_SIZE = 0.2  # ratio of test data set \n",
    "N_SPLITS = 10 # \"K\" in K-fold cross validation \n",
    "\n",
    "# separate test data set\n",
    "nb_df_train, nb_df_test, a_df_train, a_df_test = train_test_split(nb_df, a_df, test_size=TEST_SIZE, random_state = 1)"
   ]
  },
  {
   "cell_type": "code",
   "execution_count": 101,
   "metadata": {},
   "outputs": [],
   "source": [
    "# now we use only train data \n",
    "# why use StratifiedKFold?: The folds are made by preserving the percentage of samples for each class.\n",
    "X = nb_df_train\n",
    "#print(X)\n",
    "y = a_df_train"
   ]
  },
  {
   "cell_type": "markdown",
   "metadata": {},
   "source": [
    "### K-fold validation starts here"
   ]
  },
  {
   "cell_type": "code",
   "execution_count": 102,
   "metadata": {},
   "outputs": [],
   "source": [
    "k_fold = StratifiedKFold(n_splits=N_SPLITS) # seperate train data and validation data"
   ]
  },
  {
   "cell_type": "code",
   "execution_count": 103,
   "metadata": {},
   "outputs": [],
   "source": [
    "# Standarize features\n",
    "scaler = StandardScaler()\n",
    "# Create multinomial logistic regression object\n",
    "regr = LogisticRegression(random_state=0, max_iter = 1000, multi_class='multinomial', solver='newton-cg', n_jobs = -1)#'lbfgs')"
   ]
  },
  {
   "cell_type": "code",
   "execution_count": 104,
   "metadata": {},
   "outputs": [
    {
     "name": "stdout",
     "output_type": "stream",
     "text": [
      "score 0.25617766656240215\n",
      "score 0.3203002815139192\n",
      "score 0.11510791366906481\n",
      "score 0.09516210314127338\n",
      "score 0.6122119227825495\n",
      "score 0.37409643677183435\n",
      "score 0.37671232876712324\n",
      "score 0.28269519851445746\n",
      "score 0.40684410646387836\n",
      "score 0.35856397559465925\n"
     ]
    }
   ],
   "source": [
    "for train_index, val_index in k_fold.split(X, y):\n",
    "    #print(\"TRAIN:\", train_index, \"TEST:\", val_index)\n",
    "    x_train_kf, x_val_kf = X[train_index], X[val_index]\n",
    "    y_train_kf, y_val_kf = y[train_index], y[val_index]\n",
    "    #print('x_train_kf:', x_train_kf)\n",
    "    #print('y_train_kf:',y_train_kf)\n",
    "    x_train_kf_std = scaler.fit_transform(x_train_kf)\n",
    "    regr = regr.fit(x_train_kf_std, y_train_kf.ravel()) # fit the model\n",
    "    #print(y_train_kf)\n",
    "    \n",
    "    # validation\n",
    "    x_val_kf_std = scaler.fit_transform(x_val_kf)\n",
    "    a_val = regr.predict(x_val_kf_std) # predict based on current model -> use validation data for evaluation\n",
    "    \n",
    "    #View predicted probabilities\n",
    "    #prob = regr.predict_proba(x_val_kf_std)\n",
    "    #print('prob:', regr.predict_proba(x_val_kf_std))\n",
    "    \n",
    "    \n",
    "    #print('score', regr.score(x_val_kf, a_val))\n",
    "    print('score', r2_score(y_val_kf, a_val, multioutput='uniform_average'))#, multioutput='raw_values')) # get r2 score\n",
    "    "
   ]
  },
  {
   "cell_type": "code",
   "execution_count": 105,
   "metadata": {},
   "outputs": [
    {
     "name": "stdout",
     "output_type": "stream",
     "text": [
      "coef_: [[ 5.51037762e-02  4.20227434e-02  2.73687201e-02  1.15050928e-02\n",
      "  -4.50932261e-03 -1.90224281e-02 -3.04729151e-02 -3.81454184e-02\n",
      "  -4.22775544e-02 -4.36123429e-02  5.54988720e-02  4.40997805e-02\n",
      "   3.08770971e-02  1.58632752e-02  5.70972575e-05 -1.43540206e-02\n",
      "  -2.50846280e-02 -3.12899846e-02 -3.36276409e-02 -3.32643107e-02\n",
      "   5.29848136e-02  4.35752698e-02  3.23981461e-02  1.89884816e-02\n",
      "   3.90974865e-03 -1.00958336e-02 -1.95733176e-02 -2.36615764e-02\n",
      "  -2.38169320e-02 -2.16880462e-02  4.65902513e-02  3.90523507e-02\n",
      "   3.02263248e-02  1.92950844e-02  5.98283897e-03 -6.77070055e-03\n",
      "  -1.38782260e-02 -1.49754595e-02 -1.27344714e-02 -9.01788038e-03\n",
      "   3.57729050e-02  2.93628521e-02  2.22644570e-02  1.38468019e-02\n",
      "   3.54833197e-03 -5.75273914e-03 -8.19425311e-03 -5.44229888e-03\n",
      "  -9.47561524e-04  4.00007213e-03  2.10198074e-02  1.47848380e-02\n",
      "   8.14277016e-03  9.17336276e-04 -6.25731968e-03 -8.91274756e-03\n",
      "  -3.99580041e-03  3.08524318e-03  9.74696821e-03  1.58588402e-02\n",
      "   3.92699525e-03 -2.43784080e-03 -8.90503100e-03 -1.49564950e-02\n",
      "  -1.83664550e-02 -1.44234634e-02 -3.54513492e-03  7.70445583e-03\n",
      "   1.70321983e-02  2.48450491e-02 -1.35579708e-02 -1.95385971e-02\n",
      "  -2.49047531e-02 -2.84567378e-02 -2.76518310e-02 -1.97490909e-02\n",
      "  -6.24684162e-03  7.87617212e-03  2.00049685e-02  3.00650178e-02\n",
      "  -3.00180502e-02 -3.48904534e-02 -3.83189052e-02 -3.89340235e-02\n",
      "  -3.48296977e-02 -2.48172833e-02 -1.03409020e-02  5.24650767e-03\n",
      "   1.95189927e-02  3.17964912e-02 -4.48331688e-02 -4.81362277e-02\n",
      "  -4.93863807e-02 -4.74132398e-02 -4.10181856e-02 -2.98055533e-02\n",
      "  -1.49504707e-02  1.27477375e-03  1.68900590e-02  3.09355894e-02\n",
      "   4.18610996e-01 -5.84059706e-01 -5.68045752e-01]\n",
      " [-7.22333664e-03  3.61212704e-03  1.44325891e-02  2.44236724e-02\n",
      "   3.23877760e-02  3.71461378e-02  3.81733124e-02  3.58571459e-02\n",
      "   3.11319992e-02  2.49511980e-02 -1.36108817e-02 -3.33984408e-03\n",
      "   7.26599770e-03  1.74215243e-02  2.56120170e-02  3.00734272e-02\n",
      "   3.00365925e-02  2.62793095e-02  2.02619298e-02  1.31823536e-02\n",
      "  -1.87962878e-02 -9.50605131e-03  3.83675073e-04  1.03095056e-02\n",
      "   1.85474420e-02  2.24538288e-02  2.08813250e-02  1.54086697e-02\n",
      "   8.21105309e-03  5.64549696e-04 -2.19886879e-02 -1.40087298e-02\n",
      "  -5.46675348e-03  3.41166755e-03  1.10455161e-02  1.37822930e-02\n",
      "   1.00749741e-02  2.97606277e-03 -4.81995467e-03 -1.24228028e-02\n",
      "  -2.23580778e-02 -1.56565199e-02 -8.79990957e-03 -1.97724705e-03\n",
      "   3.46824818e-03  3.58390985e-03 -2.50225195e-03 -1.02314524e-02\n",
      "  -1.76398768e-02 -2.46079823e-02 -1.94619240e-02 -1.35736636e-02\n",
      "  -7.99083138e-03 -3.26458803e-03 -1.20241840e-03 -5.13182890e-03\n",
      "  -1.31604330e-02 -2.08300675e-02 -2.77201596e-02 -3.42042989e-02\n",
      "  -1.36068104e-02 -8.03060170e-03 -3.06505182e-03  4.22728638e-04\n",
      "   3.32545539e-04 -5.83768171e-03 -1.56595151e-02 -2.47895945e-02\n",
      "  -3.26119113e-02 -3.96595878e-02 -5.71378935e-03 -3.12531549e-04\n",
      "   4.17496621e-03  6.70873778e-03  5.43133168e-03 -1.22051917e-03\n",
      "  -1.16769740e-02 -2.25045597e-02 -3.21562555e-02 -4.06670302e-02\n",
      "   3.19347560e-03  8.25659102e-03  1.20695484e-02  1.35993109e-02\n",
      "   1.14495703e-02  4.75326426e-03 -5.51176623e-03 -1.70326403e-02\n",
      "  -2.80923332e-02 -3.81381825e-02  1.23668144e-02  1.68794346e-02\n",
      "   1.98648255e-02  2.04307639e-02  1.76099999e-02  1.09431461e-02\n",
      "   1.08011297e-03 -1.04531517e-02 -2.22016138e-02 -3.33554352e-02\n",
      "   5.31065189e-02 -1.90740713e-01 -1.14076442e-01]\n",
      " [ 4.71741040e-03  1.38855706e-03 -2.88747766e-03 -8.06503097e-03\n",
      "  -1.38205757e-02 -1.95567755e-02 -2.46419548e-02 -2.87130084e-02\n",
      "  -3.17538644e-02 -3.39539758e-02  5.15085376e-03  2.01452597e-03\n",
      "  -2.30992168e-03 -7.90880803e-03 -1.44216592e-02 -2.09062271e-02\n",
      "  -2.63118506e-02 -3.01839107e-02 -3.27175907e-02 -3.43367883e-02\n",
      "   5.86613015e-03  3.11416773e-03 -1.05996515e-03 -7.03871295e-03\n",
      "  -1.45862628e-02 -2.21736416e-02 -2.78745461e-02 -3.12195605e-02\n",
      "  -3.29473397e-02 -3.38398688e-02  6.85642204e-03  4.75274894e-03\n",
      "   1.13655730e-03 -4.84757571e-03 -1.35895848e-02 -2.27996275e-02\n",
      "  -2.86381390e-02 -3.09906724e-02 -3.17225749e-02 -3.19434406e-02\n",
      "   8.04696107e-03  6.84856498e-03  4.36750093e-03 -5.68201652e-04\n",
      "  -9.56036947e-03 -2.04915299e-02 -2.63728026e-02 -2.78519594e-02\n",
      "  -2.80730083e-02 -2.81278563e-02  9.29882492e-03  9.10400711e-03\n",
      "   8.12064286e-03  5.43174465e-03 -8.62496691e-04 -1.08036574e-02\n",
      "  -1.76426081e-02 -2.03013916e-02 -2.14796696e-02 -2.22563499e-02\n",
      "   1.04686756e-02  1.11460393e-02  1.14510709e-02  1.08248030e-02\n",
      "   7.96632073e-03  1.76332210e-03 -5.13750177e-03 -9.89654068e-03\n",
      "  -1.28777100e-02 -1.49200275e-02  1.14782808e-02  1.27786905e-02\n",
      "   1.38825796e-02  1.43645138e-02  1.33314031e-02  9.88842039e-03\n",
      "   4.74769784e-03 -2.26346554e-04 -4.18174267e-03 -7.20690082e-03\n",
      "   1.23268619e-02  1.40289285e-02  1.55652830e-02  1.65758890e-02\n",
      "   1.64470125e-02  1.46079801e-02  1.12112576e-02  7.16719112e-03\n",
      "   3.30441125e-03 -4.60234754e-05  1.30545472e-02  1.50140405e-02\n",
      "   1.67960635e-02  1.81044752e-02  1.85169350e-02  1.76656523e-02\n",
      "   1.55423196e-02  1.25707357e-02  9.30558014e-03  6.13665566e-03\n",
      "  -1.25205635e-02 -8.04381704e-01 -2.79016856e-01]\n",
      " [ 8.65983356e-02  7.47747638e-02  5.96827089e-02  4.10714439e-02\n",
      "   1.96073903e-02 -2.85795117e-03 -2.38850537e-02 -4.16136551e-02\n",
      "  -5.53949111e-02 -6.55349651e-02  7.49158617e-02  6.62377488e-02\n",
      "   5.44728159e-02  3.88478180e-02  1.95695760e-02 -1.28164105e-03\n",
      "  -2.04173736e-02 -3.55115924e-02 -4.61963204e-02 -5.32723249e-02\n",
      "   5.87960448e-02  5.32414914e-02  4.53304423e-02  3.38243944e-02\n",
      "   1.80709540e-02  2.24998048e-06 -1.60316824e-02 -2.73005508e-02\n",
      "  -3.41157687e-02 -3.78641635e-02  3.77131535e-02  3.45575481e-02\n",
      "   3.02282889e-02  2.36331661e-02  1.34241379e-02  6.15885416e-04\n",
      "  -9.92889034e-03 -1.57860218e-02 -1.82547402e-02 -1.88817306e-02\n",
      "   1.22493691e-02  1.01924731e-02  7.95412729e-03  5.37674674e-03\n",
      "   2.32163217e-03 -4.03361321e-04 -1.08999267e-03 -1.45390116e-04\n",
      "   1.41620944e-03  3.18357460e-03 -1.54664966e-02 -1.73020745e-02\n",
      "  -1.88002434e-02 -1.91331867e-02 -1.55486979e-02 -4.02075772e-03\n",
      "   9.17832113e-03  1.74811841e-02  2.26063458e-02  2.62935893e-02\n",
      "  -4.23960249e-02 -4.35458636e-02 -4.35022767e-02 -4.03769452e-02\n",
      "  -2.97762427e-02 -8.04584638e-03  1.55703764e-02  3.14413353e-02\n",
      "   4.10291720e-02  4.73345062e-02 -6.60551303e-02 -6.52410330e-02\n",
      "  -6.18951256e-02 -5.35951629e-02 -3.68318885e-02 -1.08536642e-02\n",
      "   1.70644404e-02  3.89254384e-02  5.37868142e-02  6.38730994e-02\n",
      "  -8.54104636e-02 -8.16648267e-02 -7.42860677e-02 -6.11978449e-02\n",
      "  -4.05154125e-02 -1.30183479e-02  1.62620175e-02  4.16675020e-02\n",
      "   6.10971339e-02  7.53314825e-02 -1.00648797e-01 -9.37054395e-02\n",
      "  -8.26038826e-02 -6.59372831e-02 -4.29785705e-02 -1.49435048e-02\n",
      "   1.46754506e-02  4.19347546e-02  6.46200907e-02  8.25174154e-02\n",
      "   3.99009129e-01  4.33279813e-01 -1.84880455e-01]\n",
      " [-1.39196186e-01 -1.21798191e-01 -9.85965405e-02 -6.89351781e-02\n",
      "  -3.36652680e-02  4.29101686e-03  4.08266112e-02  7.26149360e-02\n",
      "   9.82943306e-02  1.18150086e-01 -1.21954706e-01 -1.09012211e-01\n",
      "  -9.03059890e-02 -6.42238095e-02 -3.08170310e-02  6.46846155e-03\n",
      "   4.17772597e-02  7.07061783e-02  9.22796222e-02  1.07691070e-01\n",
      "  -9.88507007e-02 -9.04248776e-02 -7.70522983e-02 -5.60836686e-02\n",
      "  -2.59418819e-02  9.81339646e-03  4.25982212e-02  6.67730181e-02\n",
      "   8.26689872e-02  9.28275288e-02 -6.91711389e-02 -6.43539180e-02\n",
      "  -5.61244175e-02 -4.14923423e-02 -1.68629082e-02  1.51721497e-02\n",
      "   4.23702812e-02  5.87760909e-02  6.75317411e-02  7.22658544e-02\n",
      "  -3.37111573e-02 -3.07473703e-02 -2.57861757e-02 -1.66781000e-02\n",
      "   2.22157154e-04  2.30637205e-02  3.81593003e-02  4.36711008e-02\n",
      "   4.52442372e-02  4.55521918e-02  4.60978830e-03  6.98689301e-03\n",
      "   1.05276618e-02  1.60486938e-02  2.38709327e-02  2.88689916e-02\n",
      "   2.56205203e-02  2.05650319e-02  1.68465151e-02  1.43082192e-02\n",
      "   4.16071645e-02  4.28682667e-02  4.40212886e-02  4.40859085e-02\n",
      "   3.98438314e-02  2.65436694e-02  8.77177544e-03 -4.45965598e-03\n",
      "  -1.25717490e-02 -1.75999400e-02  7.38486096e-02  7.23134711e-02\n",
      "   6.87423329e-02  6.09786491e-02  4.57209848e-02  2.19348539e-02\n",
      "  -3.88832265e-03 -2.40707043e-02 -3.74537845e-02 -4.60641862e-02\n",
      "   9.99081763e-02  9.42697606e-02  8.49701415e-02  6.99566685e-02\n",
      "   4.74485274e-02  1.84743868e-02 -1.16206069e-02 -3.70485605e-02\n",
      "  -5.58282046e-02 -6.89437677e-02  1.20060604e-01  1.09948192e-01\n",
      "   9.53293744e-02  7.48152838e-02  4.78698212e-02  1.61402596e-02\n",
      "  -1.63474126e-02 -4.53271123e-02 -6.86141160e-02 -8.62342252e-02\n",
      "  -8.58206081e-01  1.14590231e+00  1.14601950e+00]]\n",
      "intercept_ [ 2.10711305  1.28030344 -0.23045321 -0.09500974 -3.06195353]\n"
     ]
    }
   ],
   "source": [
    "print('coef_:', regr.coef_)\n",
    "print('intercept_', regr.intercept_)"
   ]
  },
  {
   "cell_type": "code",
   "execution_count": 106,
   "metadata": {
    "scrolled": true
   },
   "outputs": [
    {
     "name": "stdout",
     "output_type": "stream",
     "text": [
      "true number of iterations: [17]\n"
     ]
    }
   ],
   "source": [
    "print('true number of iterations:', regr.n_iter_)"
   ]
  },
  {
   "cell_type": "markdown",
   "metadata": {},
   "source": [
    "### evaluate model with test data"
   ]
  },
  {
   "cell_type": "code",
   "execution_count": 107,
   "metadata": {},
   "outputs": [
    {
     "name": "stdout",
     "output_type": "stream",
     "text": [
      "[0. 0. 0. 0. 0. 4. 4. 0. 0. 4. 0. 0. 0. 0. 0. 0. 4. 0. 1. 0. 0. 4. 0. 0.\n",
      " 0. 1. 4. 0. 3. 0. 0. 0. 0. 1. 0. 0. 0. 1. 0. 0. 4. 0. 2. 0. 0. 0. 4. 4.\n",
      " 0. 1. 0. 0. 0. 0. 0. 4. 0. 0. 0. 3. 0. 0. 3. 0. 0. 1. 0. 0. 0. 0. 1. 0.\n",
      " 0. 0. 0. 1. 1. 1. 0. 0. 0. 0. 0. 0. 0. 0. 0. 4. 0. 0. 0. 0. 4. 0. 0. 1.\n",
      " 0. 0. 0. 0. 0. 0. 0. 0. 0. 0. 0. 2. 0. 0. 4. 0. 0. 1. 0. 3. 0. 0. 0. 0.\n",
      " 3. 0. 4. 0. 0. 0. 2. 4. 0. 0. 4. 0. 1. 0. 0. 0. 0. 0. 0. 0. 0. 4. 1. 0.\n",
      " 0. 0. 0. 3. 0. 3. 0. 0. 0. 0. 0. 0. 0. 0. 0. 0. 4. 0. 0. 4. 0. 3. 0. 0.\n",
      " 0. 0. 4. 0. 2. 0. 0. 1. 0. 0. 0. 1. 0. 4. 3. 0. 0. 0. 4. 3. 0. 0. 0. 2.\n",
      " 0. 0. 0. 0. 4. 0. 0. 0.]\n",
      "[0. 1. 0. 0. 0. 4. 4. 2. 2. 0. 0. 2. 0. 0. 0. 2. 4. 1. 2. 1. 3. 4. 3. 0.\n",
      " 0. 1. 1. 2. 1. 1. 1. 3. 0. 0. 0. 0. 0. 2. 0. 1. 2. 0. 1. 1. 2. 0. 4. 4.\n",
      " 0. 3. 0. 0. 0. 0. 0. 4. 0. 0. 2. 3. 0. 0. 3. 2. 1. 3. 0. 0. 0. 3. 3. 3.\n",
      " 0. 0. 0. 4. 4. 2. 0. 0. 2. 0. 0. 0. 0. 0. 0. 4. 0. 0. 1. 2. 2. 1. 0. 3.\n",
      " 0. 0. 0. 0. 0. 1. 0. 0. 0. 3. 0. 1. 0. 1. 0. 0. 1. 3. 1. 1. 0. 0. 0. 0.\n",
      " 1. 0. 4. 1. 0. 2. 1. 4. 3. 0. 4. 1. 4. 2. 1. 0. 0. 3. 3. 0. 0. 4. 2. 0.\n",
      " 0. 0. 0. 0. 0. 1. 0. 0. 1. 0. 0. 0. 1. 0. 0. 0. 4. 1. 0. 4. 0. 3. 0. 0.\n",
      " 3. 0. 2. 1. 1. 2. 2. 0. 0. 2. 0. 3. 0. 4. 3. 0. 0. 0. 4. 3. 2. 0. 0. 1.\n",
      " 0. 0. 3. 1. 4. 2. 1. 0.]\n"
     ]
    }
   ],
   "source": [
    "### evaluate model with test data\n",
    "nb_df_test_std = scaler.fit_transform(nb_df_test)\n",
    "\n",
    "\n",
    "a_dec_test = regr.predict(nb_df_test_std)\n",
    "#prob = regr.predict_proba(x_val_kf_std)\n",
    "\n",
    "print(a_dec_test)\n",
    "print(a_df_test)"
   ]
  },
  {
   "cell_type": "code",
   "execution_count": 108,
   "metadata": {},
   "outputs": [
    {
     "name": "stdout",
     "output_type": "stream",
     "text": [
      "decoding_accuracy[%]: 59.0\n",
      "score [0.14965986]\n"
     ]
    }
   ],
   "source": [
    "decoding_accuracy = sum(a_df_test == a_dec_test)/a_df_test.shape[0] \n",
    "# true == estimate\n",
    "print('decoding_accuracy[%]:', decoding_accuracy*100)\n",
    "print('score', r2_score(a_df_test, a_dec_test, multioutput='raw_values'))"
   ]
  },
  {
   "cell_type": "code",
   "execution_count": 109,
   "metadata": {},
   "outputs": [
    {
     "data": {
      "image/png": "[encoded data removed]",
      "text/plain": [
       "<Figure size 432x288 with 2 Axes>"
      ]
     },
     "metadata": {
      "needs_background": "light"
     },
     "output_type": "display_data"
    }
   ],
   "source": [
    "# plot: compare raw data vs prediction\n",
    "#plt.scatter(a_df_test, a_dec_test, s=0.005, c='blue', marker='o')\n",
    "plt.hist2d(a_df_test, a_dec_test, bins=(5, 5), cmap=plt.cm.Greys)\n",
    "plt.colorbar()\n",
    "\n",
    "plt.xlabel('true action')\n",
    "plt.ylabel('estimated action')\n",
    "plt.title('Decoding: test data')\n",
    "plt.show()"
   ]
  },
  {
   "cell_type": "code",
   "execution_count": 110,
   "metadata": {},
   "outputs": [
    {
     "name": "stdout",
     "output_type": "stream",
     "text": [
      "[100  34  24  22  20]\n"
     ]
    },
    {
     "data": {
      "text/plain": [
       "Text(0.5, 1.0, 'histogram of selected true action')"
      ]
     },
     "execution_count": 110,
     "metadata": {},
     "output_type": "execute_result"
    },
    {
     "data": {
      "image/png": "[encoded data removed]",
      "text/plain": [
       "<Figure size 432x288 with 1 Axes>"
      ]
     },
     "metadata": {
      "needs_background": "light"
     },
     "output_type": "display_data"
    }
   ],
   "source": [
    "true_hist, _ =np.histogram(a_df_test, bins=[-0.5, 0.5, 1.5, 2.5, 3.5, 4.5])\n",
    "print(true_hist)\n",
    "\n",
    "plt.hist(a_df_test, bins=[-0.5, 0.5, 1.5, 2.5, 3.5, 4.5])\n",
    "plt.xlabel('action')\n",
    "plt.ylabel('# of choices')\n",
    "plt.title('histogram of selected true action')"
   ]
  },
  {
   "cell_type": "code",
   "execution_count": 111,
   "metadata": {},
   "outputs": [
    {
     "name": "stdout",
     "output_type": "stream",
     "text": [
      "[146  16   5  10  23]\n"
     ]
    },
    {
     "data": {
      "text/plain": [
       "Text(0.5, 1.0, 'histogram of predicted action')"
      ]
     },
     "execution_count": 111,
     "metadata": {},
     "output_type": "execute_result"
    },
    {
     "data": {
      "image/png": "[encoded data removed]",
      "text/plain": [
       "<Figure size 432x288 with 1 Axes>"
      ]
     },
     "metadata": {
      "needs_background": "light"
     },
     "output_type": "display_data"
    }
   ],
   "source": [
    "predicted_hist, _ =np.histogram(a_dec_test, bins=[-0.5, 0.5, 1.5, 2.5, 3.5, 4.5])\n",
    "print(predicted_hist)\n",
    "\n",
    "plt.hist(a_dec_test, bins=[-0.5, 0.5, 1.5, 2.5, 3.5, 4.5])\n",
    "plt.xlabel('action')\n",
    "plt.ylabel('# of choices')\n",
    "plt.title('histogram of predicted action')"
   ]
  },
  {
   "cell_type": "code",
   "execution_count": 112,
   "metadata": {},
   "outputs": [
    {
     "name": "stdout",
     "output_type": "stream",
     "text": [
      "[[95. 23. 17. 11.  0.]\n",
      " [ 2.  1.  4.  6.  3.]\n",
      " [ 0.  5.  0.  0.  0.]\n",
      " [ 1.  4.  0.  5.  0.]\n",
      " [ 2.  1.  3.  0. 17.]]\n",
      "[100.  34.  24.  22.  20.]\n"
     ]
    }
   ],
   "source": [
    "xedges = [-0.5, 0.5, 1.5, 2.5, 3.5, 4.5]\n",
    "yedges = [-0.5, 0.5, 1.5, 2.5, 3.5, 4.5]\n",
    "H, xedges, yedges = np.histogram2d(a_df_test, a_dec_test, bins=(xedges, yedges))\n",
    "H = H.T  # Let each row list bins with common y range.\n",
    "print(H)\n",
    "print(np.sum(H,axis=0))"
   ]
  },
  {
   "cell_type": "code",
   "execution_count": 113,
   "metadata": {},
   "outputs": [
    {
     "data": {
      "text/plain": [
       "Text(0.5, 1.0, 'test data: heatmap')"
      ]
     },
     "execution_count": 113,
     "metadata": {},
     "output_type": "execute_result"
    },
    {
     "data": {
      "image/png": "[encoded data removed]",
      "text/plain": [
       "<Figure size 432x288 with 2 Axes>"
      ]
     },
     "metadata": {
      "needs_background": "light"
     },
     "output_type": "display_data"
    }
   ],
   "source": [
    "plt.imshow(H, interpolation='nearest', origin='low', extent=[xedges[0], xedges[-1], yedges[0], yedges[-1]])\n",
    "plt.colorbar()\n",
    "plt.xlabel('true action')\n",
    "plt.ylabel('estimated action')\n",
    "plt.title('test data: heatmap')"
   ]
  },
  {
   "cell_type": "code",
   "execution_count": 114,
   "metadata": {},
   "outputs": [
    {
     "data": {
      "text/plain": [
       "Text(0.5, 1.0, 'test data: normalized heatmap')"
      ]
     },
     "execution_count": 114,
     "metadata": {},
     "output_type": "execute_result"
    },
    {
     "data": {
      "image/png": "[encoded data removed]",
      "text/plain": [
       "<Figure size 432x288 with 2 Axes>"
      ]
     },
     "metadata": {
      "needs_background": "light"
     },
     "output_type": "display_data"
    }
   ],
   "source": [
    "plt.imshow(H/np.sum(H,axis=0), interpolation='nearest', origin='low', extent=[xedges[0], xedges[-1], yedges[0], yedges[-1]])\n",
    "plt.colorbar()\n",
    "plt.xlabel('true action')\n",
    "plt.ylabel('estimated action')\n",
    "plt.title('test data: normalized heatmap')"
   ]
  },
  {
   "cell_type": "code",
   "execution_count": null,
   "metadata": {},
   "outputs": [],
   "source": []
  },
  {
   "cell_type": "code",
   "execution_count": null,
   "metadata": {},
   "outputs": [],
   "source": []
  }
 ],
 "metadata": {
  "@webio": {
   "lastCommId": null,
   "lastKernelId": null
  },
  "kernelspec": {
   "display_name": "Python 3",
   "language": "python",
   "name": "python3"
  },
  "language_info": {
   "codemirror_mode": {
    "name": "ipython",
    "version": 3
   },
   "file_extension": ".py",
   "mimetype": "text/x-python",
   "name": "python",
   "nbconvert_exporter": "python",
   "pygments_lexer": "ipython3",
   "version": "3.7.1"
  }
 },
 "nbformat": 4,
 "nbformat_minor": 1
}
