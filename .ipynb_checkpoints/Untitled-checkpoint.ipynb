{
 "cells": [
  {
   "cell_type": "code",
   "execution_count": 5,
   "metadata": {},
   "outputs": [],
   "source": [
    "import pickle\n",
    "from pandas import DataFrame\n",
    "import numpy as np\n",
    "\n",
    "\n",
    "\n",
    "dataN_pkl_file = open('./data/pomdp_07172019(1604)_dataN_twoboxCol.pkl', 'rb')\n",
    "\n",
    "dataN_pkl = pickle.load(dataN_pkl_file)\n",
    "dataN_pkl_file.close()\n",
    "\n",
    "\n",
    "bbelief = dataN_pkl['beliefs'] # behavior belief, 200x500x10, and here 2 means belief for two boxes.\n",
    "\"\"\"\n",
    "dataN_pkl['beliefs'] (200x500x22): The first two dimensions have the same meaning as above. For the third dimension, \n",
    "the first two [0, 1] are the beliefs of the two boxes, \n",
    "[2-11] is the belief distribution for the first box, \n",
    "[12-21] is the belief distribution for the second box.\n",
    "\"\"\""
   ]
  },
  {
   "cell_type": "code",
   "execution_count": 6,
   "metadata": {},
   "outputs": [
    {
     "data": {
      "text/plain": [
       "(200, 500, 22)"
      ]
     },
     "execution_count": 6,
     "metadata": {},
     "output_type": "execute_result"
    }
   ],
   "source": [
    "bbelief.shape"
   ]
  },
  {
   "cell_type": "code",
   "execution_count": 8,
   "metadata": {},
   "outputs": [
    {
     "data": {
      "text/plain": [
       "array([0., 6., 1., 0., 0., 0., 0., 0., 0., 0., 0., 0., 0., 0., 0., 0., 0.,\n",
       "       0., 1., 0., 0., 0.])"
      ]
     },
     "execution_count": 8,
     "metadata": {},
     "output_type": "execute_result"
    }
   ],
   "source": [
    "bbelief[0,0,:]"
   ]
  },
  {
   "cell_type": "code",
   "execution_count": 9,
   "metadata": {},
   "outputs": [
    {
     "data": {
      "text/plain": [
       "array([3.00000000e+00, 8.00000000e+00, 3.45901850e-31, 7.55157128e-18,\n",
       "       2.03456435e-08, 6.76480368e-03, 5.87934583e-01, 4.03404718e-01,\n",
       "       1.89584000e-03, 3.48411162e-08, 1.57583908e-15, 1.19901385e-25,\n",
       "       4.39070603e-95, 1.83779586e-75, 4.24001361e-57, 9.67368427e-41,\n",
       "       7.52280879e-27, 9.99574904e-16, 1.41411456e-07, 1.51625569e-02,\n",
       "       9.55729672e-01, 2.91076300e-02])"
      ]
     },
     "execution_count": 9,
     "metadata": {},
     "output_type": "execute_result"
    }
   ],
   "source": [
    "bbelief[0,1,:]"
   ]
  },
  {
   "cell_type": "code",
   "execution_count": 11,
   "metadata": {},
   "outputs": [
    {
     "data": {
      "text/plain": [
       "array([3., 8.])"
      ]
     },
     "execution_count": 11,
     "metadata": {},
     "output_type": "execute_result"
    }
   ],
   "source": [
    "bbelief[0,1,0:2]"
   ]
  },
  {
   "cell_type": "code",
   "execution_count": 12,
   "metadata": {},
   "outputs": [],
   "source": [
    "obs = dataN_pkl['observations']"
   ]
  },
  {
   "cell_type": "code",
   "execution_count": 13,
   "metadata": {},
   "outputs": [
    {
     "data": {
      "text/plain": [
       "array([1.        , 1.        , 1.        , 4.        , 3.        ,\n",
       "       0.08791393, 0.42514896, 0.01961625, 0.42514896, 0.04217189])"
      ]
     },
     "execution_count": 13,
     "metadata": {},
     "output_type": "execute_result"
    }
   ],
   "source": [
    "obs[0,0,:]"
   ]
  },
  {
   "cell_type": "code",
   "execution_count": 17,
   "metadata": {},
   "outputs": [],
   "source": [
    "bb = (bbelief[:,:,:2]+0.5)/10"
   ]
  },
  {
   "cell_type": "code",
   "execution_count": 18,
   "metadata": {},
   "outputs": [
    {
     "data": {
      "text/plain": [
       "array([[[0.05, 0.65],\n",
       "        [0.35, 0.85],\n",
       "        [0.75, 0.65],\n",
       "        ...,\n",
       "        [0.55, 0.35],\n",
       "        [0.65, 0.45],\n",
       "        [0.65, 0.75]],\n",
       "\n",
       "       [[0.05, 0.65],\n",
       "        [0.75, 0.45],\n",
       "        [0.55, 0.35],\n",
       "        ...,\n",
       "        [0.15, 0.25],\n",
       "        [0.35, 0.35],\n",
       "        [0.15, 0.25]],\n",
       "\n",
       "       [[0.05, 0.65],\n",
       "        [0.25, 0.85],\n",
       "        [0.35, 0.95],\n",
       "        ...,\n",
       "        [0.85, 0.55],\n",
       "        [0.55, 0.55],\n",
       "        [0.65, 0.15]],\n",
       "\n",
       "       ...,\n",
       "\n",
       "       [[0.05, 0.65],\n",
       "        [0.05, 0.55],\n",
       "        [0.45, 0.15],\n",
       "        ...,\n",
       "        [0.85, 0.15],\n",
       "        [0.75, 0.05],\n",
       "        [0.75, 0.05]],\n",
       "\n",
       "       [[0.05, 0.65],\n",
       "        [0.05, 0.95],\n",
       "        [0.05, 0.95],\n",
       "        ...,\n",
       "        [0.85, 0.85],\n",
       "        [0.35, 0.65],\n",
       "        [0.45, 0.85]],\n",
       "\n",
       "       [[0.05, 0.65],\n",
       "        [0.55, 0.45],\n",
       "        [0.95, 0.15],\n",
       "        ...,\n",
       "        [0.05, 0.25],\n",
       "        [0.05, 0.15],\n",
       "        [0.15, 0.55]]])"
      ]
     },
     "execution_count": 18,
     "metadata": {},
     "output_type": "execute_result"
    }
   ],
   "source": [
    "bb"
   ]
  },
  {
   "cell_type": "code",
   "execution_count": 19,
   "metadata": {},
   "outputs": [],
   "source": [
    "observations = dataN_pkl['observations']\n",
    "obs = observations[:,:,0]"
   ]
  },
  {
   "cell_type": "code",
   "execution_count": null,
   "metadata": {
    "collapsed": true
   },
   "outputs": [],
   "source": []
  },
  {
   "cell_type": "code",
   "execution_count": null,
   "metadata": {},
   "outputs": [],
   "source": []
  },
  {
   "cell_type": "code",
   "execution_count": null,
   "metadata": {},
   "outputs": [],
   "source": []
  },
  {
   "cell_type": "code",
   "execution_count": null,
   "metadata": {},
   "outputs": [],
   "source": []
  }
 ],
 "metadata": {
  "kernelspec": {
   "display_name": "Python 3",
   "language": "python",
   "name": "python3"
  },
  "language_info": {
   "codemirror_mode": {
    "name": "ipython",
    "version": 3
   },
   "file_extension": ".py",
   "mimetype": "text/x-python",
   "name": "python",
   "nbconvert_exporter": "python",
   "pygments_lexer": "ipython3",
   "version": "3.7.1"
  }
 },
 "nbformat": 4,
 "nbformat_minor": 2
}
