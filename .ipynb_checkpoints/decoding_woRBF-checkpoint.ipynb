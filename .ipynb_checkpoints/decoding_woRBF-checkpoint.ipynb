{
 "cells": [
  {
   "cell_type": "code",
   "execution_count": 1,
   "metadata": {},
   "outputs": [],
   "source": [
    "\"\"\"\n",
    "updated 2019-08-05 \n",
    "written by Minhae Kwon\n",
    "Multinomial logistic regression for \"Decoding\" process without RBF\n",
    "ref: https://chrisalbon.com/machine_learning/naive_bayes/multinomial_logistic_regression/\n",
    "\n",
    "\n",
    "- `decoding`: Find policy that returns action from neural belief and location.\n",
    "    - input:\n",
    "        - if you use POMDP data (for now): `pomdp_decoding_data.csv` which includes belief and location\n",
    "        - ideally, `nb_df.csv` (estimated neural belief - obtained from `encoding_v3.ipynb`) and \n",
    "        `neural_decoding_data` which includes behavior belief and location.    \n",
    "    - output: `decoding_a_results_df.csv` (estimated action)\n",
    "    - method: multinomial logistic regression\n",
    "    - there are three versions in codes \n",
    "        - `decoding_woRBF.ipynb`: no RBF is used. Iris data is used to test the code\n",
    "        - `decoding_KRR.ipynb`: RBF is used using sklearn built-in function: Kernel Ridge Regression (kernel ='rbf'). \n",
    "        This is linear regression not logistic regression Since sklearn does have multinomial logistic regression with kernel. \n",
    "        - `decoding_manualRBF.ipynb`: RBF is manually coded by me. So we can customize center locations for nonlinear transform. \n",
    "        multinomial logistic regression is used the same as `decoding_woRBF.ipynb`. <br />\n",
    "    - `decoding_manualRBF.ipynb` performs the best, but not good enough (I guess..)\n",
    "\"\"\"\n",
    "\n",
    "\n",
    "from pandas import DataFrame, read_csv\n",
    "from sklearn.preprocessing import StandardScaler\n",
    "from sklearn.linear_model import LogisticRegression\n",
    "from sklearn.model_selection import train_test_split\n",
    "from sklearn.model_selection import cross_val_score, StratifiedKFold\n",
    "from sklearn.metrics import r2_score\n",
    "import numpy as np\n",
    "import matplotlib.pyplot as plt\n",
    "\n",
    "TEST_SIZE = 0.3  # ratio of test data set \n",
    "N_SPLITS = 5 # \"K\" in K-fold cross validation \n"
   ]
  },
  {
   "cell_type": "markdown",
   "metadata": {},
   "source": [
    "# Since the code does not work with current data set, I tried using IRIS data"
   ]
  },
  {
   "cell_type": "code",
   "execution_count": 2,
   "metadata": {},
   "outputs": [],
   "source": [
    "USE_IRIS_DATA = True #if false use our data\n",
    "POMDP = True\n",
    "\n",
    "# in order to confirm my code, use well-known iris data\n",
    "if USE_IRIS_DATA: \n",
    "    from sklearn import datasets\n",
    "\n",
    "    # Load data\n",
    "    iris = datasets.load_iris()\n",
    "    nb_df = iris.data\n",
    "    a_df = iris.target\n",
    "else:\n",
    "    if POMDP == True: \n",
    "        data = read_csv('./data/pomdp_decoding_data.csv')\n",
    "    else: # neural data is used\n",
    "        data = read_csv('./data/neural_decoding_data.csv')\n",
    "\n",
    "    nb_df = data[['box1 belief', 'box2 belief']].to_numpy()#[:1000] # for time constraint, I tested only 1000 data points\n",
    "    a_df = data['action'].to_numpy()#[:1000]\n"
   ]
  },
  {
   "cell_type": "code",
   "execution_count": 3,
   "metadata": {},
   "outputs": [],
   "source": [
    "\n",
    "# separate test data set\n",
    "nb_df_train, nb_df_test, a_df_train, a_df_test = train_test_split(nb_df, a_df, test_size=TEST_SIZE, random_state = 1)"
   ]
  },
  {
   "cell_type": "code",
   "execution_count": 4,
   "metadata": {},
   "outputs": [],
   "source": [
    "# now we use only train data \n",
    "# why use StratifiedKFold?: The folds are made by preserving the percentage of samples for each class.\n",
    "X = nb_df_train#.to_numpy()\n",
    "#print(X)\n",
    "y = a_df_train#.to_numpy()"
   ]
  },
  {
   "cell_type": "code",
   "execution_count": 5,
   "metadata": {},
   "outputs": [],
   "source": [
    "k_fold = StratifiedKFold(n_splits=N_SPLITS) # seperate train data and validation data"
   ]
  },
  {
   "cell_type": "code",
   "execution_count": 6,
   "metadata": {},
   "outputs": [],
   "source": [
    "# Standarize features\n",
    "scaler = StandardScaler()\n",
    "# Create multinomial logistic regression object\n",
    "regr = LogisticRegression(random_state=0, multi_class='multinomial', solver='newton-cg')"
   ]
  },
  {
   "cell_type": "code",
   "execution_count": 7,
   "metadata": {},
   "outputs": [
    {
     "name": "stdout",
     "output_type": "stream",
     "text": [
      "mean: [0.35977705 0.28778422 0.35243873]\n",
      "score 0.9375\n",
      "mean: [0.33076496 0.32671763 0.34251741]\n",
      "score 0.9331306990881459\n",
      "mean: [0.33585404 0.2877165  0.37642946]\n",
      "score 0.9285714285714286\n",
      "mean: [0.34221744 0.30518552 0.35259703]\n",
      "score 0.9285714285714286\n",
      "mean: [0.3475036  0.29252678 0.35996962]\n",
      "score 0.9285714285714286\n"
     ]
    }
   ],
   "source": [
    "for train_index, val_index in k_fold.split(X, y):\n",
    "    #print(\"TRAIN:\", train_index, \"TEST:\", val_index)\n",
    "    x_train_kf, x_val_kf = X[train_index], X[val_index]\n",
    "    y_train_kf, y_val_kf = y[train_index], y[val_index]\n",
    "    #print('x_train_kf:', x_train_kf)\n",
    "    #print('y_train_kf:',y_train_kf)\n",
    "    x_train_kf_std = scaler.fit_transform(x_train_kf)\n",
    "    regr = regr.fit(x_train_kf_std, y_train_kf.ravel()) # fit the model\n",
    "    #print(y_train_kf)\n",
    "    \n",
    "    # validation\n",
    "    x_val_kf_std = scaler.fit_transform(x_val_kf)\n",
    "    a_val = regr.predict(x_val_kf_std) # predict based on current model -> use validation data for evaluation\n",
    "    \n",
    "    #View predicted probabilities\n",
    "    #prob = regr.predict_proba(x_val_kf_std)\n",
    "    #print('prob:', regr.predict_proba(x_val_kf_std))\n",
    "    \n",
    "    print('score', r2_score(y_val_kf, a_val, multioutput='uniform_average'))#, multioutput='raw_values')) # get r2 score\n",
    "    "
   ]
  },
  {
   "cell_type": "code",
   "execution_count": 12,
   "metadata": {},
   "outputs": [
    {
     "name": "stdout",
     "output_type": "stream",
     "text": [
      "[0 1 1 0 2 1 2 0 0 2 1 0 2 1 1 0 1 1 0 0 1 1 2 0 2 1 0 0 1 2 1 2 1 2 2 0 1\n",
      " 0 1 2 2 0 1 2 1]\n",
      "[0 1 1 0 2 1 2 0 0 2 1 0 2 1 1 0 1 1 0 0 1 1 1 0 2 1 0 0 1 2 1 2 1 2 2 0 1\n",
      " 0 1 2 2 0 2 2 1]\n"
     ]
    }
   ],
   "source": [
    "### evaluate model with test data\n",
    "nb_df_test_std = scaler.fit_transform(nb_df_test)\n",
    "a_dec_test = regr.predict(nb_df_test_std)\n",
    "prob = regr.predict_proba(x_val_kf_std)\n",
    "\n",
    "print(a_dec_test)\n",
    "print(a_df_test)"
   ]
  },
  {
   "cell_type": "code",
   "execution_count": 13,
   "metadata": {},
   "outputs": [
    {
     "name": "stdout",
     "output_type": "stream",
     "text": [
      "mean decoding error mean: \n",
      " 0.0\n",
      "mean decoding error std:\n",
      " 1.0949942217559927\n",
      "score [0.92586491]\n"
     ]
    }
   ],
   "source": [
    "decoding_error = a_df_test - a_dec_test.reshape(-1,1) # true - estimate\n",
    "print('mean decoding error mean: \\n', np.mean(decoding_error))\n",
    "print('mean decoding error std:\\n', np.std(decoding_error))\n",
    "print('score', r2_score(a_df_test, a_dec_test, multioutput='raw_values'))\n",
    "\n",
    "\n",
    "\n",
    "#a_dec_df_test = DataFrame(a_dec_test, columns =a_df.columns) "
   ]
  },
  {
   "cell_type": "code",
   "execution_count": 14,
   "metadata": {},
   "outputs": [
    {
     "data": {
      "image/png": "[encoded data removed]",
      "text/plain": [
       "<Figure size 432x288 with 1 Axes>"
      ]
     },
     "metadata": {
      "needs_background": "light"
     },
     "output_type": "display_data"
    }
   ],
   "source": [
    "# plot: compare raw data vs prediction\n",
    "plt.scatter(a_df_test, a_dec_test, s=10, c='blue', marker='o')\n",
    "plt.xlabel('true action')\n",
    "plt.ylabel('estimated action')\n",
    "plt.title('Decoding: test data')\n",
    "plt.show()"
   ]
  },
  {
   "cell_type": "code",
   "execution_count": null,
   "metadata": {},
   "outputs": [],
   "source": []
  }
 ],
 "metadata": {
  "@webio": {
   "lastCommId": null,
   "lastKernelId": null
  },
  "kernelspec": {
   "display_name": "Python 3",
   "language": "python",
   "name": "python3"
  },
  "language_info": {
   "codemirror_mode": {
    "name": "ipython",
    "version": 3
   },
   "file_extension": ".py",
   "mimetype": "text/x-python",
   "name": "python",
   "nbconvert_exporter": "python",
   "pygments_lexer": "ipython3",
   "version": "3.7.1"
  }
 },
 "nbformat": 4,
 "nbformat_minor": 1
}
