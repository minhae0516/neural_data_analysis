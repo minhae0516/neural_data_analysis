{
 "cells": [
  {
   "cell_type": "code",
   "execution_count": 1,
   "metadata": {},
   "outputs": [],
   "source": [
    "\"\"\"\n",
    "updated 2019-08-09 \n",
    "written by Minhae Kwon\n",
    "Multinomial logistic regression for \"Decoding\" process with manually coded RBF\n",
    "ref: https://chrisalbon.com/machine_learning/naive_bayes/multinomial_logistic_regression/\n",
    "\n",
    "\n",
    "- `decoding`: Find policy that returns action from neural belief and location.\n",
    "    - input:\n",
    "        - if you use POMDP data (for now): `pomdp_decoding_data.csv` which includes belief and location\n",
    "        - ideally, `nb_df.csv` (estimated neural belief - obtained from `encoding_v3.ipynb`) and \n",
    "        `neural_decoding_data` which includes behavior belief and location.    \n",
    "    - output: `decoding_a_results_df.csv` (estimated action)\n",
    "    - method: multinomial logistic regression\n",
    "    - there are three versions in codes \n",
    "        - `decoding_woRBF.ipynb`: no RBF is used. Iris data is used to test the code\n",
    "        - `decoding_KRR.ipynb`: RBF is used using sklearn built-in function: Kernel Ridge Regression (kernel ='rbf'). \n",
    "        This is linear regression not logistic regression Since sklearn does have multinomial logistic regression with kernel. \n",
    "        - `decoding_manualRBF.ipynb`: RBF is manually coded by me. So we can customize center locations for nonlinear transform. \n",
    "        multinomial logistic regression is used the same as `decoding_woRBF.ipynb`. <br />\n",
    "    - `decoding_manualRBF.ipynb` performs the best, but not good enough (I guess..)\n",
    "\n",
    "\"\"\"\n",
    "from pandas import DataFrame, read_csv\n",
    "from sklearn.preprocessing import StandardScaler\n",
    "from sklearn.linear_model import LogisticRegression, LinearRegression\n",
    "from sklearn.model_selection import train_test_split\n",
    "from sklearn.model_selection import cross_val_score, StratifiedKFold\n",
    "from sklearn.metrics import r2_score\n",
    "import numpy as np\n",
    "import matplotlib.pyplot as plt\n",
    "import itertools"
   ]
  },
  {
   "cell_type": "code",
   "execution_count": 2,
   "metadata": {},
   "outputs": [],
   "source": [
    "# hyper parameters\n",
    "POMDP = True # true if you use pomdp data, False if you use nueral data\n",
    "TEST_SIZE = 0.2  # ratio of test data set \n",
    "N_SPLITS = 10 # \"K\" in K-fold cross validation "
   ]
  },
  {
   "cell_type": "code",
   "execution_count": 3,
   "metadata": {},
   "outputs": [],
   "source": [
    "if POMDP == True: \n",
    "    data = read_csv('./data/pomdp_decoding_data.csv')\n",
    "else: # neural data is used\n",
    "    data = read_csv('./data/neural_decoding_data.csv')"
   ]
  },
  {
   "cell_type": "markdown",
   "metadata": {},
   "source": [
    "### RBF starts here"
   ]
  },
  {
   "cell_type": "code",
   "execution_count": 4,
   "metadata": {},
   "outputs": [],
   "source": [
    "def RBF(X_set, centers, gamma=1):\n",
    "    X_RBF_set = np.ones((X_set.shape[0], centers.shape[0])) # number of data set * number of center ponts\n",
    "    for i in range(X_set.shape[0]):\n",
    "        X = X_set[i] #i-th data\n",
    "        X_RBF = np.exp(-1*1/gamma/2*np.linalg.norm(X-centers,2, axis = 1)**2)\n",
    "        X_RBF_set[i] = X_RBF\n",
    "    return X_RBF_set\n",
    "    "
   ]
  },
  {
   "cell_type": "code",
   "execution_count": 5,
   "metadata": {},
   "outputs": [],
   "source": [
    "nb_df_raw = data[['box1 belief', 'box2 belief']].to_numpy()#[:1000] # for time constraint, I tested only 1000 data points\n",
    "a_df = data['action'].to_numpy()#[:1000]\n",
    "loc_df_raw = data['location'].to_numpy()#[:1000]\n",
    "\n",
    "center = np.linspace(0.05,1.05,11)[:10]\n",
    "loc = np.array([0, 1, 2])\n",
    "\n",
    "centers_b = []\n",
    "centers_loc =[]\n",
    "for i in itertools.product(center,center):\n",
    "    centers_b.append(i)\n",
    "for j in itertools.product(loc):\n",
    "    centers_loc.append(j)\n",
    "    \n",
    "centers_b = np.array(centers_b)\n",
    "centers_loc = np.array(centers_loc)\n",
    "\n",
    "# nonlinear transform using RBF: belief and location are transformed individually\n",
    "# gamma in here is the variance term in gaussian equation\n",
    "nb_df = RBF(nb_df_raw, centers_b, gamma=100) \n",
    "loc_df = RBF(loc_df_raw, centers_loc, gamma=3)\n",
    "nb_df = np.concatenate((nb_df, loc_df),axis=1)    "
   ]
  },
  {
   "cell_type": "markdown",
   "metadata": {},
   "source": [
    "### K fold cross validation starts here"
   ]
  },
  {
   "cell_type": "code",
   "execution_count": 6,
   "metadata": {},
   "outputs": [],
   "source": [
    "# separate train set and test set\n",
    "nb_df_train, nb_df_test, a_df_train, a_df_test = train_test_split(nb_df, a_df, test_size=TEST_SIZE, random_state = 1)"
   ]
  },
  {
   "cell_type": "code",
   "execution_count": 7,
   "metadata": {},
   "outputs": [],
   "source": [
    "X = nb_df_train\n",
    "y = a_df_train"
   ]
  },
  {
   "cell_type": "markdown",
   "metadata": {},
   "source": [
    "### K-fold validation starts here"
   ]
  },
  {
   "cell_type": "code",
   "execution_count": 8,
   "metadata": {},
   "outputs": [],
   "source": [
    "# now we use only train data \n",
    "# why use StratifiedKFold?: The folds are made by preserving the percentage of samples for each class\n",
    "k_fold = StratifiedKFold(n_splits=N_SPLITS) # seperate train data and validation data"
   ]
  },
  {
   "cell_type": "code",
   "execution_count": 9,
   "metadata": {},
   "outputs": [],
   "source": [
    "# Standarize features\n",
    "scaler = StandardScaler() # standarzation of data enhances the performance of logistic regression \n",
    "# Create multinomial logistic regression object\n",
    "regr = LogisticRegression(random_state=0, multi_class='multinomial', solver='newton-cg', n_jobs = -1)\n",
    "# n_jobs = -1 make all cpu cores in your machine work\n",
    "# your can also try slover ='lbfgs', but I don't see the big difference."
   ]
  },
  {
   "cell_type": "code",
   "execution_count": 10,
   "metadata": {},
   "outputs": [
    {
     "name": "stdout",
     "output_type": "stream",
     "text": [
      "score 0.29563520050922343\n",
      "score 0.28205174051583737\n",
      "score 0.2766107278284342\n",
      "score 0.27544639337391663\n",
      "score 0.2759111487341642\n",
      "score 0.2837455962354818\n",
      "score 0.2919120118512618\n",
      "score 0.2810898513197808\n",
      "score 0.3281852696631935\n",
      "score 0.28065126080918656\n"
     ]
    }
   ],
   "source": [
    "for train_index, val_index in k_fold.split(X, y):\n",
    "    x_train_kf, x_val_kf = X[train_index], X[val_index]\n",
    "    y_train_kf, y_val_kf = y[train_index], y[val_index]\n",
    "    x_train_kf_std = scaler.fit_transform(x_train_kf)\n",
    "    regr = regr.fit(x_train_kf_std, y_train_kf.ravel()) # fit the model\n",
    "    \n",
    "    # validation\n",
    "    x_val_kf_std = scaler.fit_transform(x_val_kf)\n",
    "    a_val = regr.predict(x_val_kf_std) # predict based on current model -> use validation data for evaluation\n",
    "    \n",
    "    #View predicted probabilities\n",
    "    #prob = regr.predict_proba(x_val_kf_std)\n",
    "    #print('prob:', regr.predict_proba(x_val_kf_std))\n",
    "    \n",
    "    #print('score', regr.score(x_val_kf_std, a_val))\n",
    "    print('score', r2_score(y_val_kf, a_val, multioutput='uniform_average'))# get r2 score   "
   ]
  },
  {
   "cell_type": "markdown",
   "metadata": {},
   "source": [
    "### print out model parameters"
   ]
  },
  {
   "cell_type": "code",
   "execution_count": 11,
   "metadata": {},
   "outputs": [
    {
     "name": "stdout",
     "output_type": "stream",
     "text": [
      "coef_: [[-4.28032698e-01 -3.71320418e-01 -2.93832066e-01 -1.93482826e-01\n",
      "  -7.41765746e-02  5.26121515e-02  1.72225674e-01  2.74226595e-01\n",
      "   3.55498804e-01  4.18064267e-01 -3.61329469e-01 -3.21246227e-01\n",
      "  -2.61106097e-01 -1.75494126e-01 -6.56507178e-02  5.49052348e-02\n",
      "   1.66075536e-01  2.55100260e-01  3.20847513e-01  3.68098956e-01\n",
      "  -2.76120758e-01 -2.52738670e-01 -2.12961093e-01 -1.48049954e-01\n",
      "  -5.38821061e-02  5.55270254e-02  1.52563140e-01  2.22724899e-01\n",
      "   2.69194662e-01  2.99915816e-01 -1.71572579e-01 -1.61935213e-01\n",
      "  -1.42272261e-01 -1.03540535e-01 -3.55510076e-02  5.18013608e-02\n",
      "   1.24086513e-01  1.68401423e-01  1.93877519e-01  2.09506073e-01\n",
      "  -5.20191709e-02 -5.09990650e-02 -4.63613384e-02 -3.37526082e-02\n",
      "  -5.29801604e-03  3.66020955e-02  6.74233471e-02  8.26929350e-02\n",
      "   9.08390234e-02  9.62818738e-02  7.20588985e-02  6.75324861e-02\n",
      "   6.17083777e-02  5.23188121e-02  3.34030793e-02  2.16207980e-03\n",
      "  -2.16627246e-02 -3.11286819e-02 -3.35792480e-02 -3.31512844e-02\n",
      "   1.87633554e-01  1.75388261e-01  1.56152385e-01  1.21863088e-01\n",
      "   5.80776069e-02 -3.42384749e-02 -1.08455290e-01 -1.44696581e-01\n",
      "  -1.59359541e-01 -1.64668847e-01  2.85195952e-01  2.60427389e-01\n",
      "   2.22284311e-01  1.60805791e-01  6.51964670e-02 -5.60510807e-02\n",
      "  -1.62888739e-01 -2.30012221e-01 -2.65413644e-01 -2.83008073e-01\n",
      "   3.61679906e-01  3.21268650e-01  2.63007139e-01  1.78960913e-01\n",
      "   6.48080041e-02 -6.84177689e-02 -1.92340577e-01 -2.84609759e-01\n",
      "  -3.43893207e-01 -3.79435712e-01  4.18906268e-01  3.62614784e-01\n",
      "   2.86762631e-01  1.86541226e-01  6.19442617e-02 -7.65982376e-02\n",
      "  -2.09231084e-01 -3.18422172e-01 -3.98473240e-01 -4.53207626e-01\n",
      "   5.61588799e-01 -5.97138178e-01 -6.93923798e-01]\n",
      " [-1.18596602e+00 -9.92317167e-01 -7.45023242e-01 -4.42340277e-01\n",
      "  -9.97288059e-02  2.48056155e-01  5.61193376e-01  8.14736185e-01\n",
      "   1.00469900e+00  1.14019678e+00 -1.04412659e+00 -8.96186291e-01\n",
      "  -6.94786257e-01 -4.29187979e-01 -1.09125649e-01  2.22910829e-01\n",
      "   5.11926443e-01  7.28294688e-01  8.74903808e-01  9.68752545e-01\n",
      "  -8.47861620e-01 -7.47565939e-01 -6.02144016e-01 -3.90918091e-01\n",
      "  -1.10038629e-01  1.93331507e-01  4.42792535e-01  6.06482642e-01\n",
      "   7.00620676e-01  7.50676769e-01 -5.90851961e-01 -5.31452973e-01\n",
      "  -4.43667073e-01 -3.04274075e-01 -9.20072624e-02  1.53491341e-01\n",
      "   3.35102689e-01  4.28483600e-01  4.67029015e-01  4.78266078e-01\n",
      "  -2.80191955e-01 -2.47138770e-01 -2.03629834e-01 -1.38143974e-01\n",
      "  -3.32177536e-02  9.06238514e-02  1.59854607e-01  1.75459340e-01\n",
      "   1.68883586e-01  1.54425182e-01  5.88760125e-02  7.68477887e-02\n",
      "   9.19755601e-02  9.80452846e-02  7.55836571e-02  1.50129130e-03\n",
      "  -7.99022134e-02 -1.33445277e-01 -1.69830360e-01 -1.98447047e-01\n",
      "   3.90674273e-01  3.90740451e-01  3.73482841e-01  3.16739226e-01\n",
      "   1.76081286e-01 -6.36804702e-02 -2.85441282e-01 -4.17491625e-01\n",
      "  -4.92193355e-01 -5.40254232e-01  6.85727948e-01  6.55743276e-01\n",
      "   5.91266013e-01  4.63511935e-01  2.35874583e-01 -8.33259283e-02\n",
      "  -3.92287895e-01 -6.10169421e-01 -7.45815028e-01 -8.32104555e-01\n",
      "   9.30919192e-01  8.61297647e-01  7.43906069e-01  5.54083050e-01\n",
      "   2.72819304e-01 -8.01291086e-02 -4.32176497e-01 -7.15845017e-01\n",
      "  -9.17336401e-01 -1.05549414e+00  1.12724372e+00  1.01562006e+00\n",
      "   8.49955138e-01  6.13583953e-01  3.00409464e-01 -6.80390557e-02\n",
      "  -4.40734798e-01 -7.66377599e-01 -1.02242455e+00 -1.21333662e+00\n",
      "   1.93490980e-01 -2.34191987e-01 -2.48457894e-01]\n",
      " [ 6.90800512e-01  6.50122405e-01  5.71807050e-01  4.47146945e-01\n",
      "   2.75985092e-01  7.23117631e-02 -1.39801248e-01 -3.38596217e-01\n",
      "  -5.12902981e-01 -6.61169629e-01  5.38419142e-01  5.23598657e-01\n",
      "   4.74309077e-01  3.76121540e-01  2.22370570e-01  2.76551806e-02\n",
      "  -1.75062192e-01 -3.57575817e-01 -5.09828897e-01 -6.34347890e-01\n",
      "   3.61655894e-01  3.70784766e-01  3.53228894e-01  2.89878051e-01\n",
      "   1.63385611e-01 -1.51191523e-02 -2.00340233e-01 -3.56818579e-01\n",
      "  -4.79402865e-01 -5.76354293e-01  1.63789255e-01  1.90538084e-01\n",
      "   2.01593200e-01  1.78981085e-01  9.51091939e-02 -5.09904631e-02\n",
      "  -2.02297457e-01 -3.19582059e-01 -4.06995319e-01 -4.76627835e-01\n",
      "  -4.29890300e-02 -6.42172688e-03  2.41136111e-02  3.91870531e-02\n",
      "   1.59222884e-02 -6.25478156e-02 -1.52274521e-01 -2.22058838e-01\n",
      "  -2.78183575e-01 -3.27862116e-01 -2.38341609e-01 -1.93970853e-01\n",
      "  -1.48160370e-01 -9.97596116e-02 -4.95222494e-02 -1.55930015e-02\n",
      "  -2.24704710e-02 -5.37561341e-02 -9.25820582e-02 -1.33649310e-01\n",
      "  -4.01822084e-01 -3.42993478e-01 -2.73239562e-01 -1.82584114e-01\n",
      "  -5.89553548e-02  7.42689889e-02  1.44929180e-01  1.49226236e-01\n",
      "   1.23609852e-01  8.71624852e-02 -5.22366992e-01 -4.40397029e-01\n",
      "  -3.37618126e-01 -2.02262534e-01 -2.81823495e-02  1.54635758e-01\n",
      "   2.81427088e-01  3.31440759e-01  3.31687500e-01  3.07836299e-01\n",
      "  -6.00486589e-01 -4.91448660e-01 -3.55853116e-01 -1.86070730e-01\n",
      "   1.52057281e-02  2.19447206e-01  3.80009054e-01  4.72768432e-01\n",
      "   5.08285880e-01  5.07701843e-01 -6.43566139e-01 -5.08757991e-01\n",
      "  -3.46383622e-01 -1.53822701e-01  6.14239003e-02  2.75589178e-01\n",
      "   4.55806345e-01  5.80738121e-01  6.50681997e-01  6.78595592e-01\n",
      "  -3.85101019e-02 -7.17073559e-01 -2.02096842e-01]\n",
      " [ 1.16710840e+00  9.47823684e-01  6.79028287e-01  3.62214042e-01\n",
      "   1.62454220e-02 -3.22407818e-01 -6.15281515e-01 -8.41039719e-01\n",
      "  -9.99462889e-01 -1.10229333e+00  1.05816636e+00  8.83657162e-01\n",
      "   6.58534754e-01  3.75705690e-01  4.97434293e-02 -2.73727065e-01\n",
      "  -5.41423016e-01 -7.28929924e-01 -8.43903933e-01 -9.05995360e-01\n",
      "   8.92520630e-01  7.65843615e-01  5.95438249e-01  3.64048601e-01\n",
      "   7.41233714e-02 -2.21576630e-01 -4.48727434e-01 -5.83108668e-01\n",
      "  -6.46577461e-01 -6.66771359e-01  6.60899321e-01  5.76263305e-01\n",
      "   4.63597536e-01  3.02062841e-01  7.71973585e-02 -1.62146870e-01\n",
      "  -3.20977530e-01 -3.85849892e-01 -3.95915042e-01 -3.79863588e-01\n",
      "   3.66733910e-01  3.09357590e-01  2.41433554e-01  1.52630318e-01\n",
      "   3.12048303e-02 -8.93075331e-02 -1.36137317e-01 -1.24724193e-01\n",
      "  -9.17727901e-02 -5.19432564e-02  3.23632762e-02 -1.08752882e-02\n",
      "  -5.20793118e-02 -8.47543741e-02 -8.49952207e-02 -1.30415816e-02\n",
      "   9.10453590e-02  1.73073861e-01  2.36817681e-01  2.91429927e-01\n",
      "  -3.06991795e-01 -3.35392372e-01 -3.48377816e-01 -3.23642601e-01\n",
      "  -2.11690174e-01  2.00484673e-02  2.62692745e-01  4.26466730e-01\n",
      "   5.32524531e-01  6.09852698e-01 -6.19674196e-01 -6.21773249e-01\n",
      "  -5.91583299e-01 -4.99052027e-01 -3.01239364e-01  7.09586521e-03\n",
      "   3.31145975e-01  5.79355222e-01  7.48780738e-01  8.67772191e-01\n",
      "  -8.89209914e-01 -8.54624075e-01 -7.73683636e-01 -6.19324626e-01\n",
      "  -3.66359537e-01 -2.52612174e-02  3.36210644e-01  6.45336190e-01\n",
      "   8.79455783e-01  1.05169262e+00 -1.11359226e+00 -1.03864228e+00\n",
      "  -9.09816783e-01 -7.07593287e-01 -4.20694284e-01 -6.44173510e-02\n",
      "   3.13489625e-01  6.59273751e-01  9.44575931e-01  1.16865555e+00\n",
      "   4.77000814e-01  1.98734836e-01 -3.56879567e-01]\n",
      " [-2.43910196e-01 -2.34308504e-01 -2.11980028e-01 -1.73537884e-01\n",
      "  -1.18325134e-01 -5.05722514e-02  2.16637128e-02  9.06731549e-02\n",
      "   1.52168065e-01  2.05201919e-01 -1.91129446e-01 -1.89823301e-01\n",
      "  -1.76951477e-01 -1.47145125e-01 -9.73376325e-02 -3.17441790e-02\n",
      "   3.84832293e-02  1.03110792e-01  1.57981508e-01  2.03491749e-01\n",
      "  -1.30194146e-01 -1.36323772e-01 -1.33562034e-01 -1.14958607e-01\n",
      "  -7.35882474e-02 -1.21627505e-02  5.37119928e-02  1.10719706e-01\n",
      "   1.56164987e-01  1.92533067e-01 -6.22640365e-02 -7.34132030e-02\n",
      "  -7.92514022e-02 -7.32293155e-02 -4.47482824e-02  7.84463083e-03\n",
      "   6.40857847e-02  1.08546928e-01  1.42003827e-01  1.68719272e-01\n",
      "   8.46624641e-03 -4.79802722e-03 -1.55559928e-02 -1.99207887e-02\n",
      "  -8.61134899e-03  2.46294019e-02  6.11338836e-02  8.86307562e-02\n",
      "   1.10233755e-01  1.29098317e-01  7.50434216e-02  6.04658659e-02\n",
      "   4.65557438e-02  3.41498889e-02  2.55307337e-02  2.49712119e-02\n",
      "   3.29900500e-02  4.52562318e-02  5.91739855e-02  7.38177140e-02\n",
      "   1.30506053e-01  1.12257138e-01  9.19821516e-02  6.76244013e-02\n",
      "   3.64866355e-02  3.60148873e-03 -1.37253544e-02 -1.35047588e-02\n",
      "  -4.58148619e-03  7.90789676e-03  1.71117288e-01  1.45999612e-01\n",
      "   1.15651102e-01  7.69968354e-02  2.83506631e-02 -2.23546142e-02\n",
      "  -5.73964290e-02 -7.06143396e-02 -6.92395656e-02 -6.04958616e-02\n",
      "   1.97097406e-01  1.63506439e-01  1.22623544e-01  7.23513926e-02\n",
      "   1.35265004e-02 -4.56391106e-02 -9.17026240e-02 -1.17649846e-01\n",
      "  -1.26512054e-01 -1.24464615e-01  2.11008419e-01  1.69165424e-01\n",
      "   1.19482636e-01  6.12908094e-02 -3.08334111e-03 -6.65345342e-02\n",
      "  -1.19330088e-01 -1.55212101e-01 -1.74360133e-01 -1.80706895e-01\n",
      "  -1.19357049e+00  1.34966889e+00  1.50135810e+00]]\n",
      "intercept_ [ 2.44196122  1.47963813  0.36201018  0.34166414 -4.62527367]\n"
     ]
    }
   ],
   "source": [
    "print('coef_:', regr.coef_)\n",
    "print('intercept_', regr.intercept_)"
   ]
  },
  {
   "cell_type": "code",
   "execution_count": 12,
   "metadata": {
    "scrolled": true
   },
   "outputs": [
    {
     "name": "stdout",
     "output_type": "stream",
     "text": [
      "true number of iterations: [31]\n"
     ]
    }
   ],
   "source": [
    "print('true number of iterations:', regr.n_iter_)"
   ]
  },
  {
   "cell_type": "markdown",
   "metadata": {},
   "source": [
    "### evaluate model with test data"
   ]
  },
  {
   "cell_type": "code",
   "execution_count": 13,
   "metadata": {},
   "outputs": [],
   "source": [
    "### evaluate model with test data\n",
    "nb_df_test_std = scaler.fit_transform(nb_df_test)\n",
    "a_dec_test = regr.predict(nb_df_test_std)\n",
    "#prob = regr.predict_proba(x_val_kf_std)"
   ]
  },
  {
   "cell_type": "code",
   "execution_count": 14,
   "metadata": {},
   "outputs": [
    {
     "name": "stdout",
     "output_type": "stream",
     "text": [
      "decoding_accuracy[%]: 67.99\n",
      "R^2 score 0.30295284332607697\n"
     ]
    }
   ],
   "source": [
    "decoding_accuracy = sum(a_df_test == a_dec_test)/a_df_test.shape[0] # true == estimate\n",
    "\n",
    "print('decoding_accuracy[%]:', decoding_accuracy*100)\n",
    "print('R^2 score', r2_score(a_df_test, a_dec_test, multioutput='uniform_average'))"
   ]
  },
  {
   "cell_type": "code",
   "execution_count": 15,
   "metadata": {},
   "outputs": [
    {
     "data": {
      "text/plain": [
       "Text(0.5, 1.0, 'Decoding (test data)')"
      ]
     },
     "execution_count": 15,
     "metadata": {},
     "output_type": "execute_result"
    },
    {
     "data": {
      "image/png": "[encoded data removed]",
      "text/plain": [
       "<Figure size 432x288 with 2 Axes>"
      ]
     },
     "metadata": {
      "needs_background": "light"
     },
     "output_type": "display_data"
    }
   ],
   "source": [
    "# plot: compare raw data vs prediction\n",
    "#plt.scatter(a_df_test, a_dec_test, s=0.005, c='blue', marker='o')\n",
    "plt.hist2d(a_df_test, a_dec_test, bins=(5, 5), cmap=plt.cm.Greys)\n",
    "cbar = plt.colorbar()\n",
    "cbar.set_label('The number of selection')\n",
    "plt.xlabel('Behavioral policy (true action)') \n",
    "plt.ylabel('Neural decoding (estimated action)')\n",
    "plt.title('Decoding (test data)')"
   ]
  },
  {
   "cell_type": "code",
   "execution_count": 16,
   "metadata": {},
   "outputs": [
    {
     "name": "stdout",
     "output_type": "stream",
     "text": [
      "[11256  3451  1656  1658  1979]\n"
     ]
    },
    {
     "data": {
      "text/plain": [
       "Text(0.5, 1.0, 'histogram of selected true action (true)')"
      ]
     },
     "execution_count": 16,
     "metadata": {},
     "output_type": "execute_result"
    },
    {
     "data": {
      "image/png": "[encoded data removed]",
      "text/plain": [
       "<Figure size 432x288 with 1 Axes>"
      ]
     },
     "metadata": {
      "needs_background": "light"
     },
     "output_type": "display_data"
    }
   ],
   "source": [
    "true_hist, _ =np.histogram(a_df_test, bins=[-0.5, 0.5, 1.5, 2.5, 3.5, 4.5])\n",
    "print(true_hist)\n",
    "\n",
    "plt.hist(a_df_test, bins=[-0.5, 0.5, 1.5, 2.5, 3.5, 4.5])\n",
    "plt.xlabel('action')\n",
    "plt.ylabel('# of choices')\n",
    "plt.title('histogram of selected true action (true)')"
   ]
  },
  {
   "cell_type": "code",
   "execution_count": 17,
   "metadata": {},
   "outputs": [
    {
     "name": "stdout",
     "output_type": "stream",
     "text": [
      "[15349  1062   567   733  2289]\n"
     ]
    },
    {
     "data": {
      "text/plain": [
       "Text(0.5, 1.0, 'histogram of predicted action')"
      ]
     },
     "execution_count": 17,
     "metadata": {},
     "output_type": "execute_result"
    },
    {
     "data": {
      "image/png": "[encoded data removed]",
      "text/plain": [
       "<Figure size 432x288 with 1 Axes>"
      ]
     },
     "metadata": {
      "needs_background": "light"
     },
     "output_type": "display_data"
    }
   ],
   "source": [
    "predicted_hist, _ =np.histogram(a_dec_test, bins=[-0.5, 0.5, 1.5, 2.5, 3.5, 4.5])\n",
    "print(predicted_hist)\n",
    "\n",
    "plt.hist(a_dec_test, bins=[-0.5, 0.5, 1.5, 2.5, 3.5, 4.5])\n",
    "plt.xlabel('action')\n",
    "plt.ylabel('# of choices')\n",
    "plt.title('histogram of predicted action')"
   ]
  },
  {
   "cell_type": "code",
   "execution_count": 18,
   "metadata": {},
   "outputs": [
    {
     "name": "stdout",
     "output_type": "stream",
     "text": [
      "[[1.0871e+04 2.3150e+03 1.0780e+03 1.0840e+03 1.0000e+00]\n",
      " [8.2000e+01 4.2500e+02 2.3000e+02 1.8200e+02 1.4300e+02]\n",
      " [4.6000e+01 2.4900e+02 2.3500e+02 1.1000e+01 2.6000e+01]\n",
      " [6.1000e+01 3.2200e+02 1.6000e+01 2.9600e+02 3.8000e+01]\n",
      " [1.9600e+02 1.4000e+02 9.7000e+01 8.5000e+01 1.7710e+03]]\n",
      "[11256.  3451.  1656.  1658.  1979.]\n"
     ]
    }
   ],
   "source": [
    "xedges = [-0.5, 0.5, 1.5, 2.5, 3.5, 4.5]\n",
    "yedges = [-0.5, 0.5, 1.5, 2.5, 3.5, 4.5]\n",
    "H, xedges, yedges = np.histogram2d(a_df_test, a_dec_test, bins=(xedges, yedges))\n",
    "H = H.T  # Let each row list bins with common y range.\n",
    "print(H)\n",
    "print(np.sum(H,axis=0))"
   ]
  },
  {
   "cell_type": "code",
   "execution_count": 19,
   "metadata": {},
   "outputs": [
    {
     "data": {
      "image/png": "[encoded data removed]",
      "text/plain": [
       "<Figure size 432x288 with 2 Axes>"
      ]
     },
     "metadata": {
      "needs_background": "light"
     },
     "output_type": "display_data"
    }
   ],
   "source": [
    "# this is the same plot with the above black and white figure\n",
    "plt.imshow(H, interpolation='nearest', origin='low', extent=[xedges[0], xedges[-1], yedges[0], yedges[-1]])\n",
    "cbar = plt.colorbar()\n",
    "cbar.set_label('The number of selections')\n",
    "plt.xlabel('Behavioral policy (true action)') \n",
    "plt.ylabel('Neural decoding (estimated action)')\n",
    "plt.title('Decoding: unormalzied heatmap')"
   ]
  },
  {
   "cell_type": "code",
   "execution_count": 20,
   "metadata": {},
   "outputs": [
    {
     "data": {
      "image/png": "[encoded data removed]",
      "text/plain": [
       "<Figure size 432x288 with 2 Axes>"
      ]
     },
     "metadata": {
      "needs_background": "light"
     },
     "output_type": "display_data"
    }
   ],
   "source": [
    "plt.imshow(H/np.sum(H,axis=0), interpolation='nearest', origin='low', extent=[xedges[0], xedges[-1], yedges[0], yedges[-1]])\n",
    "cbar = plt.colorbar()\n",
    "cbar.set_label('selected ratio')\n",
    "plt.xlabel('Behavioral policy (true action)') \n",
    "plt.ylabel('Neural decoding (estimated action)')\n",
    "plt.title('Decoding: normalized heatmap)')\n",
    "plt.savefig('./figures/decoding.eps', format = 'eps')"
   ]
  },
  {
   "cell_type": "code",
   "execution_count": null,
   "metadata": {},
   "outputs": [],
   "source": []
  },
  {
   "cell_type": "code",
   "execution_count": null,
   "metadata": {},
   "outputs": [],
   "source": []
  },
  {
   "cell_type": "code",
   "execution_count": null,
   "metadata": {},
   "outputs": [],
   "source": []
  }
 ],
 "metadata": {
  "@webio": {
   "lastCommId": null,
   "lastKernelId": null
  },
  "kernelspec": {
   "display_name": "Python 3",
   "language": "python",
   "name": "python3"
  },
  "language_info": {
   "codemirror_mode": {
    "name": "ipython",
    "version": 3
   },
   "file_extension": ".py",
   "mimetype": "text/x-python",
   "name": "python",
   "nbconvert_exporter": "python",
   "pygments_lexer": "ipython3",
   "version": "3.7.1"
  }
 },
 "nbformat": 4,
 "nbformat_minor": 1
}
