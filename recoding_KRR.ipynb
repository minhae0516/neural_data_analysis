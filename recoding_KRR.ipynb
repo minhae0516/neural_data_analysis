{
 "cells": [
  {
   "cell_type": "code",
   "execution_count": 31,
   "metadata": {},
   "outputs": [],
   "source": [
    "\"\"\"\n",
    "updated 2019-08-07 \n",
    "written by Minhae Kwon\n",
    "\n",
    "\n",
    "- `recoding`: Estimate the next belief from current belief and observations\n",
    "    - input:\n",
    "        - if you use POMDP data (for now): `recoding_pomdp_all_prev_df.csv` and `recoding_pomdp_all_now_df.csv`\n",
    "        - ideally with neural data: `recoding_neural_all_prev_df.csv` and `recoding_neural_all_now_df.csv`\n",
    "    - output: `recoding_belief_results_df.csv` (estimated future belief)\n",
    "    - method: Autoregression - this is linear regression between two time steps. \n",
    "    - there are two versions in codes:\n",
    "        -`recoding_wo_RBF.ipynb`: no RBF is used. \n",
    "        - `recoding_KRR.ipynb`: RBF is used using sklearn built-in function: [Kernel Ridge Regression (kernel ='rbf')](https://scikit-learn.org/stable/modules/generated/sklearn.kernel_ridge.KernelRidge.html). \n",
    "        (Warning: this code runs pretty slow compared to others. So if you need to handle big data size, plan in advance!)\n",
    "        - `recoding_manualRBF.ipynb`: RBF is manually coded by me. So we can customize center locations for nonlinear transform. \n",
    "        Everything is the same as `recoding_wo_RBF.ipynb` but RBF.\n",
    "        - `recoding_KRR.ipynb` works the best, and pretty good!\n",
    "        \n",
    "        \n",
    "ref: https://towardsdatascience.com/ridge-and-lasso-regression-a-complete-guide-with-python-scikit-learn-e20e34bcbf0b\n",
    "https://scikit-learn.org/stable/modules/generated/sklearn.kernel_ridge.KernelRidge.html\n",
    "https://scikit-learn.org/stable/modules/linear_model.html#ridge-regression\n",
    "https://scikit-learn.org/stable/auto_examples/plot_kernel_ridge_regression.html#sphx-glr-auto-examples-plot-kernel-ridge-regression-py\n",
    "\n",
    "\n",
    "ref: https://chrisalbon.com/machine_learning/linear_regression/linear_regression_using_scikit-learn/\n",
    "     https://datatofish.com/multiple-linear-regression-python/\n",
    "\n",
    "cross validate score: Coefficient of determination\n",
    "https://en.wikipedia.org/wiki/Coefficient_of_determination\n",
    "\"\"\"\n",
    "\n",
    "from pandas import DataFrame, read_csv\n",
    "#from sklearn.preprocessing import StandardScaler\n",
    "from sklearn.linear_model import LinearRegression\n",
    "from sklearn.model_selection import train_test_split\n",
    "from sklearn.model_selection import cross_val_score, StratifiedKFold\n",
    "from sklearn.model_selection import StratifiedKFold\n",
    "from sklearn.metrics import r2_score\n",
    "from sklearn.kernel_ridge import KernelRidge\n",
    "import numpy as np\n",
    "import matplotlib.pyplot as plt\n",
    "\n",
    "POMDP = True\n",
    "TEST_SIZE = 0.2  # ratio of test data set \n",
    "N_SPLITS = 3 # \"K\" in K-fold cross validation \n",
    "\n"
   ]
  },
  {
   "cell_type": "markdown",
   "metadata": {},
   "source": [
    "### if you use pomdp data"
   ]
  },
  {
   "cell_type": "code",
   "execution_count": 32,
   "metadata": {},
   "outputs": [],
   "source": [
    "if POMDP == True:\n",
    "    bb_df_prev = read_csv('./data/recoding_pomdp_all_prev_df.csv')\n",
    "    bb_df_now = read_csv('./data/recoding_pomdp_all_now_df.csv')\n",
    "else: #neural data\n",
    "    bb_df_prev = read_csv('./data/recoding_neural_all_prev_df.csv') \n",
    "    bb_df_now = read_csv('./data/recoding_neural_all_now_df.csv') "
   ]
  },
  {
   "cell_type": "code",
   "execution_count": 33,
   "metadata": {},
   "outputs": [],
   "source": [
    "X = bb_df_prev.to_numpy()#[:10000]\n",
    "y = bb_df_now[['behavior_belief1', 'behavior_belief2']].to_numpy()#[:10000]"
   ]
  },
  {
   "cell_type": "code",
   "execution_count": 34,
   "metadata": {},
   "outputs": [],
   "source": [
    "# make the same distance for all input data\n",
    "X[:,:2] = X[:,:2]*10\n",
    "y = y*10 "
   ]
  },
  {
   "cell_type": "markdown",
   "metadata": {},
   "source": [
    "### there are 3 types of data: test data, train data, validation data"
   ]
  },
  {
   "cell_type": "code",
   "execution_count": 35,
   "metadata": {},
   "outputs": [],
   "source": [
    "\n",
    "# separate test data set\n",
    "X_train, X_test, y_train, y_test = train_test_split(X, y, test_size=TEST_SIZE, random_state = 1)"
   ]
  },
  {
   "cell_type": "code",
   "execution_count": 36,
   "metadata": {},
   "outputs": [],
   "source": [
    "#regr = LinearRegression() # linear regression is used for encoding process\n",
    "regr = KernelRidge(alpha=0.01, gamma=0.1, kernel='rbf') # linear regression(small gamma) with RBF kernel\n"
   ]
  },
  {
   "cell_type": "code",
   "execution_count": 37,
   "metadata": {},
   "outputs": [],
   "source": [
    "# now we use only train data \n",
    "# why use StratifiedKFold?: The folds are made by preserving the percentage of samples for each class.\n",
    "k_fold = StratifiedKFold(n_splits=N_SPLITS) # seperate train data and validation data"
   ]
  },
  {
   "cell_type": "code",
   "execution_count": null,
   "metadata": {},
   "outputs": [],
   "source": [
    "# why argmax(1)? split cannot simply handle multidimension y. \n",
    "# ref: https://stackoverflow.com/questions/48508036/sklearn-stratifiedkfold-valueerror-supported-target-types-are-binary-mul\n",
    "for i, (train_index, val_index) in enumerate(k_fold.split(X_train, y_train.argmax(1))):\n",
    "    x_train_kf, x_val_kf = X[train_index], X[val_index]\n",
    "    y_train_kf, y_val_kf = y[train_index], y[val_index]\n",
    "    regr.fit(x_train_kf, y_train_kf) # fit the model\n",
    "    pred = regr.predict(x_val_kf) # predict based on current model -> use validation data for evaluation\n",
    "    print('score', r2_score(y_val_kf, pred, multioutput='raw_values')) # get r2 score"
   ]
  },
  {
   "cell_type": "code",
   "execution_count": null,
   "metadata": {},
   "outputs": [],
   "source": [
    "# model parameter\n",
    "print(regr.dual_coef_.shape)\n",
    "print(regr.dual_coef_)"
   ]
  },
  {
   "cell_type": "markdown",
   "metadata": {},
   "source": [
    "### evaluate model with test data"
   ]
  },
  {
   "cell_type": "code",
   "execution_count": null,
   "metadata": {},
   "outputs": [],
   "source": [
    "predic_X_test = regr.predict(X_test)\n",
    "\n",
    "recoding_error = (y_test - predic_X_test)**2 # true - estimate\n",
    "print('Mean squared error: \\n', np.mean(recoding_error, axis=0))\n",
    "print('squared error std:\\n', np.std(recoding_error, axis=0))\n",
    "print('score', r2_score(y_test, predic_X_test, multioutput='raw_values'))"
   ]
  },
  {
   "cell_type": "code",
   "execution_count": null,
   "metadata": {},
   "outputs": [],
   "source": [
    "predic_X_df_test = DataFrame(predic_X_test, columns = ['behavior_belief1', 'behavior_belief2']) "
   ]
  },
  {
   "cell_type": "code",
   "execution_count": null,
   "metadata": {
    "scrolled": true
   },
   "outputs": [],
   "source": [
    "# plot: compare raw data vs prediction\n",
    "plt.hist2d(y_test[:,0]/10, predic_X_test[:,0]/10, bins=(10, 10), cmap=plt.cm.Greys)\n",
    "plt.colorbar()\n",
    "plt.xlabel('true belief')\n",
    "plt.ylabel('estimated belief')\n",
    "plt.title('Recoding: test data BOX1')\n",
    "plt.savefig('./figures/recoding_KRR_box1.eps', format = 'eps')\n"
   ]
  },
  {
   "cell_type": "code",
   "execution_count": null,
   "metadata": {},
   "outputs": [],
   "source": [
    "# plot: compare raw data vs prediction\n",
    "#plt.scatter(a_df_test, a_dec_test, s=0.005, c='blue', marker='o')\n",
    "plt.hist2d(y_test[:,1]/10, predic_X_test[:,1]/10, bins=(10, 10), cmap=plt.cm.Greys)\n",
    "plt.colorbar()\n",
    "plt.xlabel('true belief')\n",
    "plt.ylabel('estimated belief')\n",
    "plt.title('Recoding: test data BOX2')\n",
    "plt.savefig('./figures/recoding_KRR_box2.eps', format = 'eps')\n"
   ]
  },
  {
   "cell_type": "code",
   "execution_count": null,
   "metadata": {},
   "outputs": [],
   "source": [
    "line_x = np.linspace(0,1,num=11)\n",
    "line_y = np.linspace(0,1,num=11)\n",
    "\n",
    "\n",
    "# plot: compare raw data vs prediction\n",
    "plt.scatter(y_test[:,0]/10, predic_X_test[:,0]/10, s=3, c='blue', marker='o')\n",
    "plt.plot(line_x, line_y,c='k')\n",
    "plt.xlabel('true')\n",
    "plt.ylabel('prediction')\n",
    "plt.title('Recoding: behavior belief for box1')\n",
    "plt.show()\n",
    "\n",
    "plt.scatter(y_test[:,1]/10, predic_X_test[:,1]/10, s=3, c='blue', marker='o')\n",
    "plt.plot(line_x, line_y,c='k')\n",
    "plt.xlabel('true')\n",
    "plt.ylabel('prediction')\n",
    "plt.title('Recoding: behavior belief for box2')\n",
    "plt.show()"
   ]
  },
  {
   "cell_type": "code",
   "execution_count": null,
   "metadata": {},
   "outputs": [],
   "source": [
    "# plot changes\n",
    "line_x = np.linspace(-.8,.8,num=11)\n",
    "line_y = np.linspace(-.8,.8,num=11)\n",
    "\n",
    "true_change = (y - X[:,:2])/10\n",
    "predic_X = regr.predict(X) # all data\n",
    "predicted_change = (predic_X - X[:,:2])/10\n",
    "\n",
    "plt.scatter(true_change[:,0], predicted_change[:,0])\n",
    "plt.plot(line_x, line_y,c='k')\n",
    "plt.xlabel('$b_{t+1}-b_t$')\n",
    "plt.ylabel('$f(b_t, o_t)-b_t$')\n",
    "plt.title('BOX1')\n",
    "\n",
    "\n",
    "plt.figure()\n",
    "plt.scatter(true_change[:,1], predicted_change[:,1])\n",
    "plt.xlabel('$b_{t+1}-b_t$')\n",
    "plt.ylabel('$f(b_t, o_t)-b_t$')\n",
    "plt.plot(line_x, line_y,c='k')\n",
    "plt.title('BOX2')"
   ]
  },
  {
   "cell_type": "code",
   "execution_count": null,
   "metadata": {},
   "outputs": [],
   "source": []
  },
  {
   "cell_type": "code",
   "execution_count": null,
   "metadata": {},
   "outputs": [],
   "source": []
  },
  {
   "cell_type": "code",
   "execution_count": null,
   "metadata": {},
   "outputs": [],
   "source": []
  }
 ],
 "metadata": {
  "@webio": {
   "lastCommId": null,
   "lastKernelId": null
  },
  "kernelspec": {
   "display_name": "Python 3",
   "language": "python",
   "name": "python3"
  },
  "language_info": {
   "codemirror_mode": {
    "name": "ipython",
    "version": 3
   },
   "file_extension": ".py",
   "mimetype": "text/x-python",
   "name": "python",
   "nbconvert_exporter": "python",
   "pygments_lexer": "ipython3",
   "version": "3.7.1"
  }
 },
 "nbformat": 4,
 "nbformat_minor": 1
}
