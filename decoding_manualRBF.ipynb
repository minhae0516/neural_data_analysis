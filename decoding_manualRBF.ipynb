{
 "cells": [
  {
   "cell_type": "code",
   "execution_count": 1,
   "metadata": {},
   "outputs": [],
   "source": [
    "\"\"\"\n",
    "updated 2019-08-09 \n",
    "written by Minhae Kwon\n",
    "Multinomial logistic regression for \"Decoding\" process with manually coded RBF\n",
    "ref: https://chrisalbon.com/machine_learning/naive_bayes/multinomial_logistic_regression/\n",
    "\n",
    "\n",
    "- `decoding`: Find policy that returns action from neural belief and location.\n",
    "    - input:\n",
    "        - if you use POMDP data (for now): `pomdp_decoding_data.csv` which includes belief and location\n",
    "        - ideally, `nb_df.csv` (estimated neural belief - obtained from `encoding_v3.ipynb`) and \n",
    "        `neural_decoding_data` which includes behavior belief and location.    \n",
    "    - output: `decoding_a_results_df.csv` (estimated action)\n",
    "    - method: multinomial logistic regression\n",
    "    - there are three versions in codes \n",
    "        - `decoding_woRBF.ipynb`: no RBF is used. Iris data is used to test the code\n",
    "        - `decoding_KRR.ipynb`: RBF is used using sklearn built-in function: Kernel Ridge Regression (kernel ='rbf'). \n",
    "        This is linear regression not logistic regression Since sklearn does have multinomial logistic regression with kernel. \n",
    "        - `decoding_manualRBF.ipynb`: RBF is manually coded by me. So we can customize center locations for nonlinear transform. \n",
    "        multinomial logistic regression is used the same as `decoding_woRBF.ipynb`. <br />\n",
    "    - `decoding_manualRBF.ipynb` performs the best, but not good enough (I guess..)\n",
    "\n",
    "\"\"\"\n",
    "from pandas import DataFrame, read_csv\n",
    "from sklearn.preprocessing import StandardScaler\n",
    "from sklearn.linear_model import LogisticRegression, LinearRegression\n",
    "from sklearn.model_selection import train_test_split\n",
    "from sklearn.model_selection import cross_val_score, StratifiedKFold\n",
    "from sklearn.metrics import r2_score\n",
    "import numpy as np\n",
    "import matplotlib.pyplot as plt\n",
    "import itertools"
   ]
  },
  {
   "cell_type": "code",
   "execution_count": 2,
   "metadata": {},
   "outputs": [],
   "source": [
    "# hyper parameters\n",
    "POMDP = True # true if you use pomdp data, False if you use nueral data\n",
    "TEST_SIZE = 0.2  # ratio of test data set \n",
    "N_SPLITS = 10 # \"K\" in K-fold cross validation "
   ]
  },
  {
   "cell_type": "code",
   "execution_count": 3,
   "metadata": {},
   "outputs": [],
   "source": [
    "if POMDP == True: \n",
    "    data = read_csv('./data/pomdp_decoding_data.csv')\n",
    "else: # neural data is used\n",
    "    data = read_csv('./data/neural_decoding_data.csv')"
   ]
  },
  {
   "cell_type": "markdown",
   "metadata": {},
   "source": [
    "### RBF starts here"
   ]
  },
  {
   "cell_type": "code",
   "execution_count": 4,
   "metadata": {},
   "outputs": [],
   "source": [
    "def RBF(X_set, centers, gamma=1):\n",
    "    X_RBF_set = np.ones((X_set.shape[0], centers.shape[0])) # number of data set * number of center ponts\n",
    "    for i in range(X_set.shape[0]):\n",
    "        X = X_set[i] #i-th data\n",
    "        X_RBF = np.exp(-1*1/gamma/2*np.linalg.norm(X-centers,2, axis = 1)**2)\n",
    "        X_RBF_set[i] = X_RBF\n",
    "    return X_RBF_set\n",
    "    "
   ]
  },
  {
   "cell_type": "code",
   "execution_count": 5,
   "metadata": {},
   "outputs": [],
   "source": [
    "nb_df_raw = data[['box1 belief', 'box2 belief']].to_numpy()#[:1000] # for time constraint, I tested only 1000 data points\n",
    "a_df = data['action'].to_numpy()#[:1000]\n",
    "loc_df_raw = data['location'].to_numpy()#[:1000]\n",
    "\n",
    "center = np.linspace(0.05,1.05,11)[:10]\n",
    "loc = np.array([0, 1, 2])\n",
    "\n",
    "# rescale belief in order to make the same distance as location\n",
    "nb_df_raw = nb_df_raw *10\n",
    "center = center *10\n",
    "\n",
    "centers_b = []\n",
    "centers_loc =[]\n",
    "for i in itertools.product(center,center):\n",
    "    centers_b.append(i)\n",
    "for j in itertools.product(loc):\n",
    "    centers_loc.append(j)\n",
    "    \n",
    "centers_b = np.array(centers_b)\n",
    "centers_loc = np.array(centers_loc)\n",
    "\n",
    "# nonlinear transform using RBF: belief and location are transformed individually\n",
    "# gamma in here is the variance term in gaussian equation\n",
    "nb_df = RBF(nb_df_raw, centers_b, gamma=0.1) # soft indicator\n",
    "loc_df = RBF(loc_df_raw, centers_loc, gamma=0.01)# hard indicator\n",
    "nb_df = np.concatenate((nb_df, loc_df),axis=1)    "
   ]
  },
  {
   "cell_type": "markdown",
   "metadata": {},
   "source": [
    "### K fold cross validation starts here"
   ]
  },
  {
   "cell_type": "code",
   "execution_count": 6,
   "metadata": {},
   "outputs": [],
   "source": [
    "# separate train set and test set\n",
    "nb_df_train, nb_df_test, a_df_train, a_df_test = train_test_split(nb_df, a_df, test_size=TEST_SIZE, random_state = 1)"
   ]
  },
  {
   "cell_type": "code",
   "execution_count": 7,
   "metadata": {},
   "outputs": [],
   "source": [
    "X = nb_df_train\n",
    "y = a_df_train"
   ]
  },
  {
   "cell_type": "markdown",
   "metadata": {},
   "source": [
    "### K-fold validation starts here"
   ]
  },
  {
   "cell_type": "code",
   "execution_count": 8,
   "metadata": {},
   "outputs": [],
   "source": [
    "# now we use only train data \n",
    "# why use StratifiedKFold?: The folds are made by preserving the percentage of samples for each class\n",
    "k_fold = StratifiedKFold(n_splits=N_SPLITS) # seperate train data and validation data"
   ]
  },
  {
   "cell_type": "code",
   "execution_count": 9,
   "metadata": {},
   "outputs": [],
   "source": [
    "# Standarize features\n",
    "scaler = StandardScaler() # standarzation of data enhances the performance of logistic regression \n",
    "# Create multinomial logistic regression object\n",
    "regr = LogisticRegression(random_state=0, multi_class='multinomial', solver='newton-cg', n_jobs = -1)\n",
    "# n_jobs = -1 make all cpu cores in your machine work\n",
    "# your can also try slover ='lbfgs', but I don't see the big difference."
   ]
  },
  {
   "cell_type": "code",
   "execution_count": 10,
   "metadata": {},
   "outputs": [
    {
     "name": "stdout",
     "output_type": "stream",
     "text": [
      "score 0.287407879942451\n",
      "score 0.2768097892682173\n",
      "score 0.2795302956119188\n",
      "score 0.26933818006780463\n",
      "score 0.2644914455966506\n",
      "score 0.2771062339462297\n",
      "score 0.28454231971019195\n",
      "score 0.28082427682821076\n",
      "score 0.3238694011642913\n",
      "score 0.2720172162985407\n"
     ]
    }
   ],
   "source": [
    "for train_index, val_index in k_fold.split(X, y):\n",
    "    x_train_kf, x_val_kf = X[train_index], X[val_index]\n",
    "    y_train_kf, y_val_kf = y[train_index], y[val_index]\n",
    "    x_train_kf_std = scaler.fit_transform(x_train_kf)\n",
    "    regr = regr.fit(x_train_kf_std, y_train_kf.ravel()) # fit the model\n",
    "    \n",
    "    # validation\n",
    "    x_val_kf_std = scaler.fit_transform(x_val_kf)\n",
    "    a_val = regr.predict(x_val_kf_std) # predict based on current model -> use validation data for evaluation\n",
    "    \n",
    "    #View predicted probabilities\n",
    "    #prob = regr.predict_proba(x_val_kf_std)\n",
    "    #print('prob:', regr.predict_proba(x_val_kf_std))\n",
    "    \n",
    "    #print('score', regr.score(x_val_kf_std, a_val))\n",
    "    print('score', r2_score(y_val_kf, a_val, multioutput='uniform_average'))# get r2 score   "
   ]
  },
  {
   "cell_type": "markdown",
   "metadata": {},
   "source": [
    "### print out model parameters"
   ]
  },
  {
   "cell_type": "code",
   "execution_count": 11,
   "metadata": {
    "scrolled": false
   },
   "outputs": [
    {
     "name": "stdout",
     "output_type": "stream",
     "text": [
      "coef_: [[ 2.29811165e-02  3.55336080e-02  4.20364536e-02  4.77526148e-02\n",
      "   5.04930182e-02  3.64073741e-02  4.24321563e-02  5.35006529e-02\n",
      "   4.36673067e-02  2.45378017e-02  5.18655303e-02  6.21009305e-02\n",
      "   7.76143226e-02  1.30790269e-01  7.01288191e-02  2.90894767e-02\n",
      "   2.89917331e-02  2.25774584e-02 -7.00105420e-03 -2.24607462e-02\n",
      "   6.83522889e-02  7.98609035e-02  1.02996955e-01  4.98121182e-02\n",
      "   5.70144294e-02  4.54929375e-02  1.56624579e-02  1.35827894e-02\n",
      "   9.83296808e-03 -2.58226115e-02  5.66827784e-02  5.94611942e-02\n",
      "   4.70983223e-02  5.23952727e-02  2.76281867e-02  1.55073452e-02\n",
      "   1.97902802e-02  2.79058535e-02 -5.31853552e-03 -3.32773670e-02\n",
      "   5.26685227e-02  6.22787115e-02  4.08307783e-02  6.02648109e-02\n",
      "   4.36631499e-02  2.37975366e-02  1.89489371e-02  8.00539280e-03\n",
      "  -1.56473586e-02 -5.09691105e-02  7.77930424e-02  4.84427904e-02\n",
      "   4.16629967e-02  4.55028116e-02  1.70616297e-02  2.39030432e-02\n",
      "   3.70398828e-03 -1.00579301e-02 -2.38825626e-02 -5.83012009e-02\n",
      "   6.32807094e-02  3.91887518e-02  3.45314525e-02  3.30516634e-02\n",
      "   1.30477383e-02  6.43605925e-03 -1.01625969e-02 -1.43678120e-02\n",
      "  -3.53808200e-02 -8.02851754e-02  7.20268504e-02  3.92215289e-02\n",
      "   1.30853485e-02  3.76491030e-03  1.39553983e-02 -2.12528604e-03\n",
      "  -3.12185116e-02 -3.99495289e-02 -6.91537922e-02 -9.67121568e-02\n",
      "   5.28367335e-02  1.68945180e-02  4.98640341e-04 -2.40207821e-02\n",
      "  -1.00662756e-02 -2.01503986e-02 -5.12121532e-02 -7.60201676e-02\n",
      "  -1.09169438e-01 -1.53075641e-01  6.03660539e-02  3.65542523e-03\n",
      "  -8.26075260e-03 -2.60310559e-02 -3.25047948e-02 -6.58829675e-02\n",
      "  -7.15730283e-02 -9.58702008e-02 -1.34515228e-01 -1.63014689e-01\n",
      "   8.22183719e-01 -5.42846999e-01 -5.38720537e-01]\n",
      " [ 4.82935318e-02  5.47754566e-02  7.85584444e-02  5.72788623e-02\n",
      "   8.10091162e-02  6.56478570e-02  9.23467288e-02  9.97457492e-02\n",
      "   1.04713968e-01  9.34940899e-02  6.23771786e-02  4.66186979e-02\n",
      "   7.56435992e-02  1.32119406e-01  6.05286220e-02  2.16748387e-02\n",
      "   2.73749826e-02  9.67279164e-03 -8.65973362e-03 -1.22732839e-02\n",
      "   7.59803812e-02  7.20008081e-02  9.20053055e-02  4.08478720e-02\n",
      "   4.49168427e-02  3.45297446e-02  2.40052542e-02  9.69264955e-03\n",
      "  -3.12671433e-03 -1.58136274e-02  7.17997150e-02  8.25448617e-02\n",
      "   4.59708807e-02  3.76881750e-02  3.47802824e-02  1.12962590e-03\n",
      "   1.54777117e-02  8.77371469e-03 -2.75001451e-02 -3.67744089e-02\n",
      "   6.18403556e-02  6.40439194e-02  4.25653208e-02  4.23587625e-02\n",
      "   2.57114138e-02  2.47883241e-02  1.05837274e-02  5.47769413e-03\n",
      "  -2.19195765e-02 -4.43048260e-02  8.42405822e-02  4.38877133e-02\n",
      "   4.25411970e-02  4.45911205e-02  3.99341723e-03  1.35996666e-02\n",
      "   4.13993168e-03 -3.42846114e-02 -2.76577506e-02 -7.34858451e-02\n",
      "   8.06329682e-02  1.46261483e-02  1.62215191e-02  2.55279521e-02\n",
      "   7.80294018e-03  4.72458981e-03 -1.38577054e-02 -3.89853350e-02\n",
      "  -6.10116090e-02 -7.91152131e-02  8.37536401e-02  2.98932159e-02\n",
      "  -9.90010412e-04  8.15562131e-03 -9.17415921e-04 -1.17620180e-02\n",
      "  -3.19709850e-02 -5.36704079e-02 -9.84590735e-02 -1.03230820e-01\n",
      "   8.84116974e-02  1.81354725e-02  8.70848306e-03 -7.10897748e-03\n",
      "  -5.31126496e-03 -4.51908392e-02 -5.81710526e-02 -7.25278934e-02\n",
      "  -1.18546417e-01 -1.66530271e-01  1.13578232e-01  1.77463429e-02\n",
      "   1.39698570e-03 -6.04072657e-02 -4.47541913e-02 -5.76224754e-02\n",
      "  -9.29280168e-02 -9.25527946e-02 -1.65607001e-01 -1.78089368e-01\n",
      "   3.18784105e-01 -2.40754894e-01 -1.78102505e-01]\n",
      " [ 2.40015634e-02  6.54357429e-03 -4.24948666e-02 -2.88473016e-02\n",
      "  -5.29334903e-02  1.30680569e-02 -5.25615814e-02 -5.59038038e-02\n",
      "  -6.67283510e-02 -8.47215762e-02  7.04124266e-02 -3.48495472e-03\n",
      "   3.65415636e-03  3.18967946e-02 -3.04708288e-02 -4.38938921e-02\n",
      "  -6.89643605e-02 -1.04507766e-01 -1.53710782e-01 -2.32567748e-01\n",
      "   9.28593971e-02 -5.58071073e-03 -4.80386191e-03 -1.15425136e-02\n",
      "  -2.96395819e-02 -4.91482220e-02 -6.43053727e-02 -7.36562690e-02\n",
      "  -1.75691697e-01 -1.93126821e-01  7.85356085e-02  3.77910290e-03\n",
      "  -2.48301518e-02 -1.64517750e-02 -4.78788948e-02 -5.06021181e-02\n",
      "  -5.60719354e-02 -1.11141564e-01 -1.32696913e-01 -1.81184548e-01\n",
      "   8.32014017e-02 -1.23628044e-02 -7.62918750e-03 -2.98857162e-02\n",
      "  -3.85675376e-02 -6.45197647e-02 -2.96474079e-02 -8.10982325e-02\n",
      "  -1.46377992e-01 -1.76515331e-01  1.07810870e-01  2.30863209e-02\n",
      "   2.78698055e-02 -1.86338469e-02  1.48469824e-02 -4.01590694e-02\n",
      "  -3.04525570e-02 -4.78938042e-02 -1.28533279e-01 -1.33424264e-01\n",
      "   1.22128301e-01  3.39648153e-02  1.84014129e-02  2.20782248e-02\n",
      "   1.55925959e-02 -1.16959755e-02  6.95515488e-04 -4.22976813e-02\n",
      "  -8.25171605e-02 -1.01677893e-01  1.53382264e-01  8.40062782e-02\n",
      "   3.75437630e-02  4.11742484e-02  3.42626229e-02  2.00743035e-02\n",
      "   3.78014343e-02 -1.92688467e-02 -2.96183341e-02 -8.03390853e-02\n",
      "   1.61963466e-01  1.20075294e-01  1.04243053e-01  9.29385769e-02\n",
      "   9.10741604e-02  7.50535856e-02  5.17390438e-02  3.22376145e-02\n",
      "  -9.82248488e-04 -4.22861256e-02  2.05391542e-01  1.73559704e-01\n",
      "   1.57377129e-01  1.51605700e-01  1.22974863e-01  9.80123719e-02\n",
      "   9.64663398e-02  5.33504077e-02  4.93745782e-02  1.90907154e-02\n",
      "   3.46790744e-01 -5.63840747e-01  1.13143172e-01]\n",
      " [ 6.22183217e-02  7.93201159e-02  1.00121658e-01  9.49846595e-02\n",
      "   9.95290535e-02  8.94316808e-02  1.33875731e-01  1.18650016e-01\n",
      "   1.38669647e-01  1.63716848e-01  8.67278153e-03  1.01989014e-02\n",
      "   3.68177129e-03  6.79033488e-02  2.67780711e-02  3.40537773e-02\n",
      "   5.06261827e-02  8.65924400e-02  1.21642683e-01  1.62912642e-01\n",
      "   2.61061332e-02  2.62564361e-02 -2.31089927e-02  3.00902018e-02\n",
      "   4.85294198e-02  2.75123071e-03  3.14535260e-02  4.93222405e-02\n",
      "   1.29790508e-01  1.37138473e-01 -1.49240239e-02 -6.64235947e-02\n",
      "  -6.24278287e-02 -1.56883153e-02  3.52982036e-03  1.49541891e-02\n",
      "   9.57344586e-03  5.39325314e-02  1.04588779e-01  1.44954119e-01\n",
      "  -1.57256961e-02 -2.56175980e-02 -7.79997894e-03 -1.78230877e-02\n",
      "  -1.40924141e-04  4.61272682e-03  7.57800292e-03  6.06349304e-02\n",
      "   8.44975146e-02  1.45994425e-01 -2.29540607e-02 -3.58541371e-02\n",
      "  -2.71313493e-02 -2.81649416e-02 -3.50542524e-02 -3.00094352e-02\n",
      "   7.26413947e-03  3.52696088e-02  8.90014799e-02  1.39425379e-01\n",
      "  -9.57907607e-02 -6.47982870e-02 -3.58206751e-02 -7.63919099e-02\n",
      "  -2.13293043e-02 -1.98601100e-02 -1.14786056e-02  3.87054152e-02\n",
      "   8.08573067e-02  1.21626064e-01 -1.40765889e-01 -1.94957529e-01\n",
      "  -1.00609330e-01 -7.35687883e-02 -8.54624945e-02 -2.93561983e-02\n",
      "  -3.13235783e-02  8.70508328e-03  7.06728203e-02  1.12787889e-01\n",
      "  -8.63951742e-02 -1.98159286e-01 -1.65020160e-01 -1.52770938e-01\n",
      "  -1.25227433e-01 -7.73712779e-02 -5.26876946e-02 -3.57696980e-02\n",
      "   5.92206949e-02  1.44513463e-01 -1.94565814e-01 -2.73852741e-01\n",
      "  -2.14752598e-01 -1.46083699e-01 -1.37912843e-01 -1.07700118e-01\n",
      "  -5.33703864e-02 -1.04186608e-02  3.17059355e-02  1.12716991e-01\n",
      "   3.12768285e-01  9.14100239e-02 -5.07743299e-01]\n",
      " [-1.57494533e-01 -1.76172755e-01 -1.78221689e-01 -1.71168835e-01\n",
      "  -1.78097698e-01 -2.04554969e-01 -2.16093035e-01 -2.15992615e-01\n",
      "  -2.20322571e-01 -1.97027163e-01 -1.93327917e-01 -1.15433575e-01\n",
      "  -1.60593849e-01 -3.62709819e-01 -1.26964683e-01 -4.09242007e-02\n",
      "  -3.80285379e-02 -1.43349243e-02  4.77288874e-02  1.04389136e-01\n",
      "  -2.63298200e-01 -1.72537437e-01 -1.67089406e-01 -1.09207678e-01\n",
      "  -1.20821110e-01 -3.36256908e-02 -6.81586538e-03  1.05858954e-03\n",
      "   3.91949353e-02  9.76245868e-02 -1.92094078e-01 -7.93615642e-02\n",
      "  -5.81122253e-03 -5.79433573e-02 -1.80593947e-02  1.90109579e-02\n",
      "   1.12304977e-02  2.05294641e-02  6.09268146e-02  1.06282205e-01\n",
      "  -1.81984584e-01 -8.83422285e-02 -6.79669327e-02 -5.49147696e-02\n",
      "  -3.06661019e-02  1.13211772e-02 -7.46325950e-03  6.98021514e-03\n",
      "   9.94474126e-02  1.25794842e-01 -2.46890434e-01 -7.95626875e-02\n",
      "  -8.49426499e-02 -4.32951437e-02 -8.47776995e-04  3.26657949e-02\n",
      "   1.53444976e-02  5.69667370e-02  9.10721128e-02  1.25785932e-01\n",
      "  -1.70251218e-01 -2.29814284e-02 -3.33337093e-02 -4.26593042e-03\n",
      "  -1.51139701e-02  2.03954364e-02  3.48033924e-02  5.69454131e-02\n",
      "   9.80522829e-02  1.39452217e-01 -1.68396865e-01  4.18365061e-02\n",
      "   5.09702286e-02  2.04740083e-02  3.81618892e-02  2.31691988e-02\n",
      "   5.67116407e-02  1.04183700e-01  1.26558380e-01  1.67494173e-01\n",
      "  -2.16816723e-01  4.30540014e-02  5.15699839e-02  9.09621203e-02\n",
      "   4.95308128e-02  6.76589301e-02  1.10331857e-01  1.52080144e-01\n",
      "   1.69477409e-01  2.17378575e-01 -1.84770014e-01  7.88912693e-02\n",
      "   6.42392359e-02  8.09163209e-02  9.21969653e-02  1.33193189e-01\n",
      "   1.21405092e-01  1.45491249e-01  2.19041716e-01  2.09296351e-01\n",
      "  -1.80052685e+00  1.25603262e+00  1.11142317e+00]]\n",
      "intercept_ [ 2.48989264  1.5051668   0.31678978  0.22568933 -4.53753856]\n"
     ]
    }
   ],
   "source": [
    "print('coef_:', regr.coef_)\n",
    "print('intercept_', regr.intercept_)"
   ]
  },
  {
   "cell_type": "code",
   "execution_count": 12,
   "metadata": {},
   "outputs": [
    {
     "data": {
      "text/plain": [
       "array([ 2.48989264,  1.5051668 ,  0.31678978,  0.22568933, -4.53753856])"
      ]
     },
     "execution_count": 12,
     "metadata": {},
     "output_type": "execute_result"
    }
   ],
   "source": [
    "regr.intercept_"
   ]
  },
  {
   "cell_type": "code",
   "execution_count": 13,
   "metadata": {
    "scrolled": true
   },
   "outputs": [
    {
     "name": "stdout",
     "output_type": "stream",
     "text": [
      "true number of iterations: [25]\n"
     ]
    }
   ],
   "source": [
    "print('true number of iterations:', regr.n_iter_)"
   ]
  },
  {
   "cell_type": "markdown",
   "metadata": {},
   "source": [
    "### evaluate model with test data"
   ]
  },
  {
   "cell_type": "code",
   "execution_count": 14,
   "metadata": {},
   "outputs": [],
   "source": [
    "### evaluate model with test data\n",
    "nb_df_test_std = scaler.fit_transform(nb_df_test)\n",
    "a_dec_test = regr.predict(nb_df_test_std)\n",
    "#prob = regr.predict_proba(x_val_kf_std)"
   ]
  },
  {
   "cell_type": "code",
   "execution_count": 15,
   "metadata": {},
   "outputs": [
    {
     "name": "stdout",
     "output_type": "stream",
     "text": [
      "decoding_accuracy[%]: 68.00500000000001\n",
      "R^2 score 0.30003442356432475\n"
     ]
    }
   ],
   "source": [
    "decoding_accuracy = sum(a_df_test == a_dec_test)/a_df_test.shape[0] # true == estimate\n",
    "\n",
    "print('decoding_accuracy[%]:', decoding_accuracy*100)\n",
    "print('R^2 score', r2_score(a_df_test, a_dec_test, multioutput='uniform_average'))"
   ]
  },
  {
   "cell_type": "code",
   "execution_count": 16,
   "metadata": {},
   "outputs": [
    {
     "data": {
      "text/plain": [
       "Text(0.5, 1.0, 'Decoding (test data)')"
      ]
     },
     "execution_count": 16,
     "metadata": {},
     "output_type": "execute_result"
    },
    {
     "data": {
      "image/png": "[encoded data removed]",
      "text/plain": [
       "<Figure size 432x288 with 2 Axes>"
      ]
     },
     "metadata": {
      "needs_background": "light"
     },
     "output_type": "display_data"
    }
   ],
   "source": [
    "# plot: compare raw data vs prediction\n",
    "#plt.scatter(a_df_test, a_dec_test, s=0.005, c='blue', marker='o')\n",
    "plt.hist2d(a_df_test, a_dec_test, bins=(5, 5), cmap=plt.cm.Greys)\n",
    "cbar = plt.colorbar()\n",
    "cbar.set_label('The number of selection')\n",
    "plt.xlabel('Behavioral policy (true action)') \n",
    "plt.ylabel('Neural decoding (estimated action)')\n",
    "plt.title('Decoding (test data)')"
   ]
  },
  {
   "cell_type": "code",
   "execution_count": 17,
   "metadata": {},
   "outputs": [
    {
     "name": "stdout",
     "output_type": "stream",
     "text": [
      "[11256  3451  1656  1658  1979]\n"
     ]
    },
    {
     "data": {
      "text/plain": [
       "Text(0.5, 1.0, 'histogram of selected true action (true)')"
      ]
     },
     "execution_count": 17,
     "metadata": {},
     "output_type": "execute_result"
    },
    {
     "data": {
      "image/png": "[encoded data removed]",
      "text/plain": [
       "<Figure size 432x288 with 1 Axes>"
      ]
     },
     "metadata": {
      "needs_background": "light"
     },
     "output_type": "display_data"
    }
   ],
   "source": [
    "true_hist, _ =np.histogram(a_df_test, bins=[-0.5, 0.5, 1.5, 2.5, 3.5, 4.5])\n",
    "print(true_hist)\n",
    "\n",
    "plt.hist(a_df_test, bins=[-0.5, 0.5, 1.5, 2.5, 3.5, 4.5])\n",
    "plt.xlabel('action')\n",
    "plt.ylabel('# of choices')\n",
    "plt.title('histogram of selected true action (true)')"
   ]
  },
  {
   "cell_type": "code",
   "execution_count": 18,
   "metadata": {},
   "outputs": [
    {
     "name": "stdout",
     "output_type": "stream",
     "text": [
      "[15349   662   651   958  2380]\n"
     ]
    },
    {
     "data": {
      "text/plain": [
       "Text(0.5, 1.0, 'histogram of predicted action')"
      ]
     },
     "execution_count": 18,
     "metadata": {},
     "output_type": "execute_result"
    },
    {
     "data": {
      "image/png": "[encoded data removed]",
      "text/plain": [
       "<Figure size 432x288 with 1 Axes>"
      ]
     },
     "metadata": {
      "needs_background": "light"
     },
     "output_type": "display_data"
    }
   ],
   "source": [
    "predicted_hist, _ =np.histogram(a_dec_test, bins=[-0.5, 0.5, 1.5, 2.5, 3.5, 4.5])\n",
    "print(predicted_hist)\n",
    "\n",
    "plt.hist(a_dec_test, bins=[-0.5, 0.5, 1.5, 2.5, 3.5, 4.5])\n",
    "plt.xlabel('action')\n",
    "plt.ylabel('# of choices')\n",
    "plt.title('histogram of predicted action')"
   ]
  },
  {
   "cell_type": "code",
   "execution_count": 19,
   "metadata": {},
   "outputs": [
    {
     "name": "stdout",
     "output_type": "stream",
     "text": [
      "[[1.0871e+04 2.3150e+03 1.0780e+03 1.0840e+03 1.0000e+00]\n",
      " [5.8000e+01 2.5800e+02 1.6800e+02 7.4000e+01 1.0400e+02]\n",
      " [5.1000e+01 2.9100e+02 2.7300e+02 1.3000e+01 2.3000e+01]\n",
      " [7.3000e+01 4.2400e+02 2.3000e+01 3.9300e+02 4.5000e+01]\n",
      " [2.0300e+02 1.6300e+02 1.1400e+02 9.4000e+01 1.8060e+03]]\n",
      "[11256.  3451.  1656.  1658.  1979.]\n"
     ]
    }
   ],
   "source": [
    "xedges = [-0.5, 0.5, 1.5, 2.5, 3.5, 4.5]\n",
    "yedges = [-0.5, 0.5, 1.5, 2.5, 3.5, 4.5]\n",
    "H, xedges, yedges = np.histogram2d(a_df_test, a_dec_test, bins=(xedges, yedges))\n",
    "H = H.T  # Let each row list bins with common y range.\n",
    "print(H)\n",
    "print(np.sum(H,axis=0))"
   ]
  },
  {
   "cell_type": "code",
   "execution_count": 20,
   "metadata": {},
   "outputs": [
    {
     "data": {
      "text/plain": [
       "Text(0.5, 1.0, 'Decoding: unormalzied heatmap')"
      ]
     },
     "execution_count": 20,
     "metadata": {},
     "output_type": "execute_result"
    },
    {
     "data": {
      "image/png": "[encoded data removed]",
      "text/plain": [
       "<Figure size 432x288 with 2 Axes>"
      ]
     },
     "metadata": {
      "needs_background": "light"
     },
     "output_type": "display_data"
    }
   ],
   "source": [
    "# this is the same plot with the above black and white figure\n",
    "plt.imshow(H, interpolation='nearest', origin='low', extent=[xedges[0], xedges[-1], yedges[0], yedges[-1]])\n",
    "cbar = plt.colorbar()\n",
    "cbar.set_label('The number of selections')\n",
    "plt.xlabel('Behavioral policy (true action)') \n",
    "plt.ylabel('Neural decoding (estimated action)')\n",
    "plt.title('Decoding: unormalzied heatmap')"
   ]
  },
  {
   "cell_type": "code",
   "execution_count": 21,
   "metadata": {},
   "outputs": [
    {
     "data": {
      "image/png": "[encoded data removed]",
      "text/plain": [
       "<Figure size 432x288 with 2 Axes>"
      ]
     },
     "metadata": {
      "needs_background": "light"
     },
     "output_type": "display_data"
    }
   ],
   "source": [
    "plt.imshow(H/np.sum(H,axis=0), interpolation='nearest', origin='low', extent=[xedges[0], xedges[-1], yedges[0], yedges[-1]])\n",
    "cbar = plt.colorbar()\n",
    "cbar.set_label('selected ratio')\n",
    "plt.xlabel('Behavioral policy (true action)') \n",
    "plt.ylabel('Neural decoding (estimated action)')\n",
    "plt.title('Decoding: normalized heatmap)')\n",
    "plt.savefig('./figures/decoding_manualRBF.eps', format = 'eps')"
   ]
  },
  {
   "cell_type": "code",
   "execution_count": null,
   "metadata": {},
   "outputs": [],
   "source": []
  },
  {
   "cell_type": "code",
   "execution_count": null,
   "metadata": {},
   "outputs": [],
   "source": []
  },
  {
   "cell_type": "code",
   "execution_count": null,
   "metadata": {},
   "outputs": [],
   "source": []
  }
 ],
 "metadata": {
  "@webio": {
   "lastCommId": null,
   "lastKernelId": null
  },
  "kernelspec": {
   "display_name": "Python 3",
   "language": "python",
   "name": "python3"
  },
  "language_info": {
   "codemirror_mode": {
    "name": "ipython",
    "version": 3
   },
   "file_extension": ".py",
   "mimetype": "text/x-python",
   "name": "python",
   "nbconvert_exporter": "python",
   "pygments_lexer": "ipython3",
   "version": "3.7.1"
  }
 },
 "nbformat": 4,
 "nbformat_minor": 1
}
