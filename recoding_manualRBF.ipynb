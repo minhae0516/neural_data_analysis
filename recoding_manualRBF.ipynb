{
 "cells": [
  {
   "cell_type": "code",
   "execution_count": 44,
   "metadata": {},
   "outputs": [],
   "source": [
    "\"\"\"\n",
    "updated 2019-08-08 \n",
    "written by Minhae Kwon\n",
    "\n",
    "- `recoding`: Estimate the next belief from current belief and observations\n",
    "    - input:\n",
    "        - if you use POMDP data (for now): `recoding_pomdp_all_prev_df.csv` and `recoding_pomdp_all_now_df.csv`\n",
    "        - ideally with neural data: `recoding_neural_all_prev_df.csv` and `recoding_neural_all_now_df.csv`\n",
    "    - output: `recoding_belief_results_df.csv` (estimated future belief)\n",
    "    - method: Autoregression - this is linear regression between two time steps. \n",
    "    - there are two versions in codes:\n",
    "        -`recoding_wo_RBF.ipynb`: no RBF is used. \n",
    "        - `recoding_KRR.ipynb`: RBF is used using sklearn built-in function: [Kernel Ridge Regression (kernel ='rbf')](https://scikit-learn.org/stable/modules/generated/sklearn.kernel_ridge.KernelRidge.html). \n",
    "        (Warning: this code runs pretty slow compared to others. So if you need to handle big data size, plan in advance!)\n",
    "        - `recoding_manualRBF.ipynb`: RBF is manually coded by me. So we can customize center locations for nonlinear transform. \n",
    "        Everything is the same as `recoding_wo_RBF.ipynb` but RBF.\n",
    "        - `recoding_KRR.ipynb` works the best, and pretty good!\n",
    "\n",
    "ref: https://towardsdatascience.com/ridge-and-lasso-regression-a-complete-guide-with-python-scikit-learn-e20e34bcbf0b\n",
    "https://scikit-learn.org/stable/modules/generated/sklearn.kernel_ridge.KernelRidge.html\n",
    "https://scikit-learn.org/stable/modules/linear_model.html#ridge-regression\n",
    "https://scikit-learn.org/stable/auto_examples/plot_kernel_ridge_regression.html#sphx-glr-auto-examples-plot-kernel-ridge-regression-py\n",
    "\n",
    "ref: https://chrisalbon.com/machine_learning/linear_regression/linear_regression_using_scikit-learn/\n",
    "     https://datatofish.com/multiple-linear-regression-python/\n",
    "\n",
    "cross validate score: Coefficient of determination\n",
    "https://en.wikipedia.org/wiki/Coefficient_of_determination\n",
    "\"\"\"\n",
    "\n",
    "from pandas import DataFrame, read_csv\n",
    "#from sklearn.preprocessing import StandardScaler\n",
    "from sklearn.linear_model import LinearRegression\n",
    "from sklearn.model_selection import train_test_split\n",
    "from sklearn.model_selection import cross_val_score, StratifiedKFold\n",
    "from sklearn.model_selection import StratifiedKFold\n",
    "from sklearn.metrics import r2_score\n",
    "#from sklearn.pipeline import Pipeline\n",
    "from sklearn.kernel_ridge import KernelRidge\n",
    "import numpy as np\n",
    "import matplotlib.pyplot as plt\n",
    "import itertools\n",
    "\n",
    "#bb_df = read_csv('./data/bb_df.csv') #behavior belief =[belief for box1, beleif for box2]\n",
    "bb_df_prev = read_csv('./data/recoding_pomdp_all_prev_df.csv') #behavior belief =[belief for box1, beleif for box2]\n",
    "bb_df_now = read_csv('./data/recoding_pomdp_all_now_df.csv') #behavior belief =[belief for box1, beleif for box2]\n",
    "\n",
    "\n",
    "TEST_SIZE = 0.2  # ratio of test data set \n",
    "N_SPLITS = 10 # \"K\" in K-fold cross validation "
   ]
  },
  {
   "cell_type": "code",
   "execution_count": 45,
   "metadata": {},
   "outputs": [],
   "source": [
    "data = bb_df_prev #.to_numpy()\n",
    "y_raw = bb_df_now[['behavior_belief1', 'behavior_belief2']].to_numpy()#[:1000].to_numpy()\n"
   ]
  },
  {
   "cell_type": "markdown",
   "metadata": {},
   "source": [
    "### RBF starats here"
   ]
  },
  {
   "cell_type": "code",
   "execution_count": 46,
   "metadata": {},
   "outputs": [],
   "source": [
    "def RBF(X_set, centers, gamma=1):\n",
    "    X_RBF_set = np.ones((X_set.shape[0], centers.shape[0])) # number of data set * number of center ponts\n",
    "    for i in range(X_set.shape[0]):\n",
    "        X = X_set[i] #i-th data\n",
    "        X_RBF = np.exp(-1*1/gamma/2*np.linalg.norm(X-centers,2, axis = 1)**2)\n",
    "        X_RBF_set[i] = X_RBF\n",
    "    return X_RBF_set\n",
    "    "
   ]
  },
  {
   "cell_type": "code",
   "execution_count": 47,
   "metadata": {},
   "outputs": [],
   "source": [
    "nb_raw = data[['behavior_belief1', 'behavior_belief2']].to_numpy()#[:1000] # for time constraint, I tested only 1000 data points\n",
    "a = data['action'].to_numpy()#[:1000]\n",
    "loc_raw = data['location'].to_numpy()#[:1000]\n",
    "rwd_raw = data['reward'].to_numpy()\n",
    "clr_raw = data[['color 1', 'color 2']].to_numpy()\n",
    "\n",
    "\n",
    "center = np.linspace(0.05,1.05,11)[:10]\n",
    "loc = np.array([0, 1, 2])\n",
    "rwd = np.array([0, 1])\n",
    "clr = np.array([0, 1, 2, 3, 4])\n",
    "\n",
    "\n",
    "centers_b = []\n",
    "centers_loc =[]\n",
    "centers_rwd = []\n",
    "centers_clr =[]\n",
    "\n",
    "\n",
    "for i in itertools.product(center,center):\n",
    "    centers_b.append(i)\n",
    "for j in itertools.product(loc):\n",
    "    centers_loc.append(j)\n",
    "for k in itertools.product(rwd):\n",
    "    centers_rwd.append(k)\n",
    "for c in itertools.product(clr, clr):\n",
    "    centers_clr.append(c)\n",
    "    \n",
    "centers_b = np.array(centers_b)\n",
    "centers_loc = np.array(centers_loc)\n",
    "centers_rwd = np.array(centers_rwd)\n",
    "centers_clr = np.array(centers_clr)\n",
    "\n",
    "# nonlinear transform using RBF: belief and location are transformed individually\n",
    "# gamma in here is the variance term in gaussian equation\n",
    "nb = RBF(nb_raw, centers_b, gamma=0.5) \n",
    "loc = RBF(loc_raw, centers_loc, gamma=0.5)\n",
    "rwd = RBF(rwd_raw, centers_rwd, gamma=0.5) \n",
    "clr = RBF(clr_raw, centers_clr, gamma=0.5)\n",
    "y = RBF(y_raw, centers_b, gamma=0.5) \n",
    "\n",
    "\n",
    "nb_all = np.concatenate((nb, loc, rwd, clr),axis=1)    "
   ]
  },
  {
   "cell_type": "code",
   "execution_count": 48,
   "metadata": {},
   "outputs": [],
   "source": [
    "X = nb_all\n",
    "y = y"
   ]
  },
  {
   "cell_type": "markdown",
   "metadata": {},
   "source": [
    "### there are 3 types of data: test data, train data, validation data"
   ]
  },
  {
   "cell_type": "code",
   "execution_count": 49,
   "metadata": {},
   "outputs": [],
   "source": [
    "# separate test data set\n",
    "X_train, X_test, y_train, y_test = train_test_split(X, y, test_size=TEST_SIZE, random_state = 1)"
   ]
  },
  {
   "cell_type": "code",
   "execution_count": 50,
   "metadata": {},
   "outputs": [],
   "source": [
    "regr = LinearRegression(n_jobs = -1) # linear regression is used for encoding process\n",
    "#regr = KernelRidge(alpha=0.01, gamma=0.1, kernel='rbf') # linear regression(small gamma) with RBF kernel"
   ]
  },
  {
   "cell_type": "code",
   "execution_count": 51,
   "metadata": {},
   "outputs": [],
   "source": [
    "# now we use only train data \n",
    "# why use StratifiedKFold?: The folds are made by preserving the percentage of samples for each class.\n",
    "k_fold = StratifiedKFold(n_splits=N_SPLITS) # seperate train data and validation data"
   ]
  },
  {
   "cell_type": "code",
   "execution_count": 52,
   "metadata": {},
   "outputs": [
    {
     "name": "stdout",
     "output_type": "stream",
     "text": [
      "score [0.4836444  0.48346824 0.4843174  0.48743246 0.4937163  0.50260681\n",
      " 0.51251863 0.52160866 0.52880858 0.53397024 0.48766739 0.4831015\n",
      " 0.47832451 0.47556644 0.47810606 0.48727135 0.50061144 0.51389781\n",
      " 0.52464222 0.53240972 0.49400346 0.48469593 0.47164531 0.45744491\n",
      " 0.45002614 0.45796135 0.47812513 0.49962995 0.51649883 0.52814119\n",
      " 0.50311048 0.48979795 0.46699624 0.43305201 0.40043318 0.40136932\n",
      " 0.43740761 0.4759821  0.50323557 0.5205387  0.51424133 0.49951054\n",
      " 0.46972471 0.41255124 0.33120132 0.30856695 0.37687264 0.44452146\n",
      " 0.48595518 0.50994486 0.52545615 0.51222637 0.48274963 0.4187089\n",
      " 0.3069581  0.25150899 0.3342166  0.41962034 0.46997515 0.49857482\n",
      " 0.53454147 0.52424509 0.50070446 0.45107228 0.3686302  0.31565633\n",
      " 0.35525752 0.41759143 0.46184347 0.48954878 0.54031358 0.53279105\n",
      " 0.5156997  0.48267263 0.43419485 0.39784283 0.40344473 0.43317541\n",
      " 0.46246871 0.48456329 0.54290481 0.53741693 0.52506298 0.50298879\n",
      " 0.47298749 0.4478486  0.44150781 0.45185446 0.46792782 0.48311671\n",
      " 0.54310676 0.53904117 0.52984115 0.51426896 0.4938653  0.47522665\n",
      " 0.46589701 0.46706461 0.47435897 0.48372712]\n",
      "score [0.48892238 0.48642179 0.48495258 0.48645142 0.49232824 0.50262517\n",
      " 0.51520887 0.52754522 0.53794273 0.54585392 0.49675617 0.48996994\n",
      " 0.48266121 0.47782523 0.47972026 0.49035013 0.50677144 0.52360994\n",
      " 0.53741669 0.54760973 0.507136   0.4960224  0.48072224 0.46429729\n",
      " 0.45591002 0.46545095 0.48889924 0.51385424 0.53317429 0.54652424\n",
      " 0.51991575 0.50565404 0.48144224 0.44581631 0.41238773 0.41492166\n",
      " 0.45396674 0.4947593  0.5232155  0.54117117 0.53347155 0.51841025\n",
      " 0.48812513 0.43035265 0.34892396 0.32749829 0.39718814 0.46541131\n",
      " 0.50687539 0.53074267 0.54520167 0.53154336 0.50124574 0.43572742\n",
      " 0.32167278 0.26547797 0.3498707  0.43675489 0.48780962 0.51668858\n",
      " 0.55303474 0.54140605 0.51548216 0.4614994  0.37259079 0.31605709\n",
      " 0.35920692 0.42619701 0.47343739 0.50279981 0.55646743 0.54656145\n",
      " 0.52563633 0.48667501 0.43082333 0.390397   0.39867419 0.43368942\n",
      " 0.46730626 0.49229563 0.55641505 0.54787143 0.53097091 0.50290143\n",
      " 0.46661642 0.43794409 0.43293909 0.44734695 0.46756056 0.48604812\n",
      " 0.55425743 0.54676536 0.53303193 0.51203007 0.48652163 0.4650066\n",
      " 0.45605832 0.45997886 0.47069968 0.48304491]\n",
      "score [0.48718127 0.48634986 0.48678586 0.48987927 0.49656289 0.50636419\n",
      " 0.51737807 0.52743908 0.53541466 0.54106432 0.49237214 0.48702975\n",
      " 0.4814601  0.47831521 0.48110647 0.491176   0.50574495 0.52018089\n",
      " 0.53163745 0.53983446 0.50025119 0.49001804 0.47601648 0.46105551\n",
      " 0.45364225 0.46248763 0.48408806 0.50666592 0.52422084 0.53612749\n",
      " 0.51111846 0.49708002 0.47340843 0.43861757 0.40565186 0.4075408\n",
      " 0.44479157 0.48418864 0.51171932 0.52904985 0.52385395 0.5087126\n",
      " 0.4785279  0.42102385 0.33982283 0.31784    0.38639303 0.45393375\n",
      " 0.49504128 0.51854847 0.53612079 0.52273283 0.49324604 0.42954038\n",
      " 0.31832449 0.26310203 0.34473865 0.42914942 0.47877531 0.50683972\n",
      " 0.54543572 0.5350058  0.51139782 0.46166602 0.37902574 0.32534089\n",
      " 0.36409794 0.42577434 0.46950603 0.49682308 0.55081778 0.54293681\n",
      " 0.52536546 0.49169801 0.44220553 0.40473234 0.40975284 0.43933691\n",
      " 0.46850889 0.49050331 0.55263355 0.54657655 0.53343977 0.51036768\n",
      " 0.47916817 0.45293106 0.44612202 0.45635068 0.4724609  0.48761033\n",
      " 0.55191998 0.54714784 0.53705879 0.52039521 0.49885092 0.47929693\n",
      " 0.46941936 0.4703801  0.47773515 0.48709049]\n",
      "score [0.49051596 0.4902727  0.49031974 0.49166164 0.49531917 0.5015382\n",
      " 0.50930386 0.51711481 0.5239704  0.5294349  0.49646606 0.49246301\n",
      " 0.48724501 0.48260369 0.48176241 0.48698683 0.49709564 0.50870118\n",
      " 0.51914037 0.52728746 0.50481379 0.49689501 0.48446604 0.46888518\n",
      " 0.4572624  0.45912547 0.47441632 0.4936382  0.51024982 0.52256645\n",
      " 0.51548936 0.50469447 0.48420677 0.4508179  0.41384152 0.40536478\n",
      " 0.43358694 0.46916636 0.49629498 0.51460713 0.52707945 0.51569671\n",
      " 0.48998056 0.43656834 0.35323287 0.31718379 0.37325889 0.43728246\n",
      " 0.4789815  0.50416738 0.53757184 0.52759427 0.50246203 0.44335465\n",
      " 0.33187951 0.26264847 0.33157747 0.41312149 0.46366753 0.49347287\n",
      " 0.54478843 0.53701044 0.51648652 0.46960318 0.38608367 0.32367041\n",
      " 0.35384974 0.41290977 0.45708059 0.48569938 0.54819539 0.54219196\n",
      " 0.52652276 0.49422141 0.44380001 0.40218869 0.40285726 0.43034971\n",
      " 0.45947695 0.48206017 0.54844027 0.54375264 0.53186147 0.50957654\n",
      " 0.47809995 0.45023604 0.44149109 0.45055451 0.4664159  0.48189967\n",
      " 0.5466532  0.54292969 0.53379018 0.51783534 0.49653146 0.47666229\n",
      " 0.466238   0.46675904 0.47407101 0.4836402 ]\n",
      "score [0.48078036 0.47849799 0.47664087 0.47665819 0.48012499 0.48752523\n",
      " 0.49756205 0.50799201 0.51730455 0.52474974 0.48798835 0.48160762\n",
      " 0.47397219 0.4673945  0.46613461 0.47312223 0.48643017 0.50140019\n",
      " 0.51445621 0.52461259 0.49734133 0.48684273 0.47125535 0.45281208\n",
      " 0.44043516 0.44497994 0.46498931 0.48858335 0.50813006 0.52219826\n",
      " 0.50873863 0.49502227 0.47065985 0.43287627 0.39401232 0.38991102\n",
      " 0.42575532 0.46705535 0.49704023 0.51659915 0.52044899 0.50584554\n",
      " 0.47535317 0.41538468 0.32748905 0.29829878 0.3670126  0.4380228\n",
      " 0.48217265 0.50804409 0.53035437 0.51686369 0.48642219 0.4194235\n",
      " 0.30089217 0.23955721 0.32482671 0.41461788 0.46764828 0.49803435\n",
      " 0.5364711  0.52503258 0.4992481  0.4452561  0.35637861 0.30031692\n",
      " 0.34437074 0.4122566  0.45974903 0.48927878 0.53861327 0.52907318\n",
      " 0.50875755 0.47121951 0.4180726  0.38089523 0.39103307 0.42631724\n",
      " 0.45938697 0.48369075 0.53768963 0.52974327 0.51397325 0.48805929\n",
      " 0.45526413 0.43054441 0.42825875 0.44338964 0.46344799 0.48109227\n",
      " 0.53493477 0.52827656 0.51603847 0.49757072 0.47559985 0.45804763\n",
      " 0.45208188 0.45752114 0.4684599  0.48034003]\n",
      "score [0.49890174 0.49949885 0.5002854  0.5021963  0.50593825 0.51162436\n",
      " 0.51837815 0.52500241 0.5306245  0.53502746 0.50079014 0.49724885\n",
      " 0.49263882 0.48878192 0.48849376 0.49391759 0.50377184 0.51480701\n",
      " 0.52449344 0.5320117  0.50480438 0.49665625 0.48409503 0.46880168\n",
      " 0.45807943 0.4613009  0.47772132 0.49747517 0.51415771 0.52635435\n",
      " 0.51174492 0.49964472 0.47754132 0.4426832  0.4058187  0.4003777\n",
      " 0.43250456 0.47067704 0.49893051 0.51770586 0.52119086 0.50779508\n",
      " 0.47903957 0.42136622 0.33507938 0.30355426 0.3682203  0.4370467\n",
      " 0.48068715 0.5066643  0.53170566 0.5200014  0.49215467 0.42897443\n",
      " 0.31388485 0.24911219 0.32703645 0.41318494 0.46549601 0.49579038\n",
      " 0.54078692 0.5324403  0.51124727 0.46379919 0.38090139 0.32185309\n",
      " 0.35509721 0.41527738 0.45958307 0.48789692 0.54708162 0.54176408\n",
      " 0.52737543 0.4969591  0.44910708 0.40914871 0.40913517 0.4351608\n",
      " 0.46271717 0.48433829 0.55034523 0.54717267 0.5374194  0.51768174\n",
      " 0.48832113 0.46078124 0.45017274 0.45658895 0.47011573 0.48402631\n",
      " 0.55115836 0.54937078 0.54251404 0.52872719 0.50873259 0.48831931\n",
      " 0.47562246 0.47313777 0.47779573 0.48533484]\n",
      "score [0.48818609 0.48664252 0.4858533  0.48725933 0.49210565 0.50041639\n",
      " 0.51058289 0.52056322 0.5290093  0.53542951 0.49390898 0.48828444\n",
      " 0.48193682 0.47732901 0.47818963 0.48664076 0.50030774 0.51471394\n",
      " 0.5267742  0.53581088 0.50200336 0.49205024 0.47784122 0.46189885\n",
      " 0.45263684 0.45959321 0.48009527 0.50280891 0.52082858 0.5336113\n",
      " 0.51256283 0.49925592 0.47607258 0.44104484 0.40667308 0.40624159\n",
      " 0.44225797 0.48170925 0.50978178 0.5278048  0.52448389 0.51016246\n",
      " 0.48069586 0.42355205 0.34117975 0.31665147 0.38403517 0.45194621\n",
      " 0.49376078 0.51806414 0.53553694 0.52265234 0.49343306 0.42925323\n",
      " 0.31593452 0.25789822 0.33992844 0.42612985 0.47709014 0.50615894\n",
      " 0.54362036 0.53318828 0.50904222 0.45767659 0.3717773  0.31568915\n",
      " 0.35604142 0.42061429 0.46652842 0.49520986 0.54802909 0.53974387\n",
      " 0.5211381  0.48549149 0.4331238  0.39400089 0.40034814 0.43253347\n",
      " 0.46406541 0.48777048 0.54917398 0.54248685 0.52821026 0.50334259\n",
      " 0.47011385 0.44275189 0.43668744 0.44878626 0.46698432 0.48385731\n",
      " 0.54809514 0.5426571  0.5314648  0.5133131  0.49029711 0.4699484\n",
      " 0.46045277 0.46270291 0.47168354 0.48255277]\n",
      "score [0.48476008 0.48367469 0.48347296 0.48555788 0.49111816 0.50019563\n",
      " 0.51108046 0.52166683 0.53053061 0.53729763 0.49115581 0.48589148\n",
      " 0.4799862  0.47577952 0.47714484 0.48607274 0.50021017 0.51498166\n",
      " 0.52737907 0.5366911  0.50023305 0.49069228 0.47681091 0.46091275\n",
      " 0.45152137 0.4582386  0.47867237 0.5014429  0.51984403 0.53286409\n",
      " 0.51216125 0.49934167 0.47645043 0.44117865 0.40540464 0.40293734\n",
      " 0.43796757 0.47747033 0.5060265  0.52465311 0.52549186 0.51189566\n",
      " 0.4829963  0.42532926 0.33948465 0.30909246 0.37433824 0.44316425\n",
      " 0.48644895 0.51208324 0.53767454 0.52570315 0.49716902 0.43220953\n",
      " 0.31333186 0.24530405 0.32446833 0.41277427 0.46630366 0.49744648\n",
      " 0.54636143 0.53674301 0.51291054 0.46020707 0.36852039 0.30299863\n",
      " 0.33943226 0.40545782 0.45375384 0.48467051 0.55084151 0.54303428\n",
      " 0.52433042 0.48687048 0.42978281 0.38390573 0.38630544 0.41831489\n",
      " 0.45131314 0.47660834 0.55161468 0.54512437 0.53031718 0.50366134\n",
      " 0.4667605  0.43478587 0.42546124 0.43660468 0.45520867 0.47324168\n",
      " 0.54997891 0.54445796 0.53256419 0.51277232 0.48699241 0.46343777\n",
      " 0.45144443 0.45259342 0.46148617 0.47287562]\n"
     ]
    },
    {
     "name": "stdout",
     "output_type": "stream",
     "text": [
      "score [0.47747532 0.47441454 0.47198874 0.47224274 0.47691067 0.48622827\n",
      " 0.4983407  0.51065523 0.52135244 0.52961636 0.48372124 0.47611618\n",
      " 0.46748264 0.46083424 0.4607667  0.47010695 0.48617931 0.50336767\n",
      " 0.51809532 0.52906944 0.49293688 0.48073174 0.46366213 0.44442498\n",
      " 0.4328962  0.44037285 0.46382997 0.49026656 0.51132112 0.52609736\n",
      " 0.50500923 0.48988493 0.46373324 0.42426748 0.38545661 0.38472563\n",
      " 0.42469156 0.46864235 0.49988084 0.51982355 0.5189292  0.50360227\n",
      " 0.47219132 0.4111777  0.3231648  0.29664217 0.36796403 0.44014764\n",
      " 0.4843749  0.51015486 0.53161173 0.51886878 0.48945472 0.4244357\n",
      " 0.30879167 0.24798061 0.33024598 0.41711055 0.46932126 0.49878303\n",
      " 0.54097622 0.53125464 0.50813285 0.45814943 0.3732178  0.31564085\n",
      " 0.35297573 0.4153712  0.46045668 0.48876052 0.54579292 0.53838022\n",
      " 0.52109721 0.48693886 0.43575549 0.39580193 0.39972766 0.42941599\n",
      " 0.45935456 0.48213012 0.54667739 0.54079155 0.52749925 0.50370576\n",
      " 0.47111344 0.44329278 0.4356311  0.4461335  0.46291417 0.47876474\n",
      " 0.5449704  0.54006787 0.52950762 0.51197908 0.48927222 0.46863302\n",
      " 0.45837547 0.45957779 0.46752843 0.47761741]\n",
      "score [0.484418   0.48466518 0.48516381 0.4868142  0.4905829  0.49670034\n",
      " 0.50423438 0.5118342  0.51853632 0.52392544 0.49053418 0.48718667\n",
      " 0.48262466 0.47861217 0.47812219 0.48340181 0.49331316 0.50465431\n",
      " 0.51481856 0.52287368 0.49915202 0.49196695 0.4803818  0.46580221\n",
      " 0.45490344 0.45701521 0.47197444 0.49071099 0.50685824 0.51901466\n",
      " 0.51021293 0.50012657 0.48065975 0.44859807 0.41284574 0.40463135\n",
      " 0.43210468 0.46681809 0.49342151 0.51142726 0.52242193 0.51165214\n",
      " 0.48683096 0.43461845 0.35254412 0.31626086 0.37115615 0.43417243\n",
      " 0.47542101 0.5005733  0.53357586 0.52408192 0.49944435 0.4407313\n",
      " 0.32864051 0.25750724 0.32546744 0.40723404 0.4583942  0.48853801\n",
      " 0.54155308 0.5339534  0.51332092 0.46565028 0.37956261 0.31376422\n",
      " 0.34345374 0.40381431 0.44932443 0.47897743 0.54562855 0.53953372\n",
      " 0.52330132 0.4894139  0.43597209 0.39109537 0.39063605 0.41915652\n",
      " 0.4497063  0.47360437 0.54644255 0.54134406 0.52855774 0.50445279\n",
      " 0.47013631 0.43945928 0.42926025 0.43857631 0.4554856  0.47209762\n",
      " 0.54504398 0.54076648 0.5305235  0.51271427 0.48888241 0.46652441\n",
      " 0.45448821 0.45474739 0.4625463  0.47299211]\n"
     ]
    }
   ],
   "source": [
    "# why argmax(1)? split cannot simply handle multidimension y. \n",
    "# ref: https://stackoverflow.com/questions/48508036/sklearn-stratifiedkfold-valueerror-supported-target-types-are-binary-mul\n",
    "for i, (train_index, val_index) in enumerate(k_fold.split(X, y.argmax(1))):\n",
    "    #print(\"TRAIN:\", train_index, \"TEST:\", val_index)\n",
    "    x_train_kf, x_val_kf = X[train_index], X[val_index]\n",
    "    y_train_kf, y_val_kf = y[train_index], y[val_index]\n",
    "    #print(x_train_kf)\n",
    "    #print(y_train_kf)\n",
    "    regr.fit(x_train_kf, y_train_kf) # fit the model\n",
    "    nb_val = regr.predict(x_val_kf) # predict based on current model -> use validation data for evaluation\n",
    "    print('score', r2_score(y_val_kf, nb_val, multioutput='raw_values')) # get r2 score"
   ]
  },
  {
   "cell_type": "markdown",
   "metadata": {},
   "source": [
    "### Linear regression model: "
   ]
  },
  {
   "cell_type": "code",
   "execution_count": 53,
   "metadata": {},
   "outputs": [
    {
     "name": "stdout",
     "output_type": "stream",
     "text": [
      "Intercept:  [ 6.54172080e+11  5.34744256e+11  3.94541137e+11  2.41084764e+11\n",
      "  8.29699550e+10 -7.09293324e+10 -2.12281966e+11 -3.34044392e+11\n",
      " -4.31035853e+11 -5.00279515e+11  6.20739284e+11  4.90914799e+11\n",
      "  3.40638479e+11  1.78013348e+11  1.21730381e+10 -1.47563903e+11\n",
      " -2.92558136e+11 -4.15621001e+11 -5.11597810e+11 -5.77698082e+11\n",
      "  5.68854974e+11  4.30328626e+11  2.72189749e+11  1.03007130e+11\n",
      " -6.76916346e+10 -2.30304664e+11 -3.76047103e+11 -4.97734522e+11\n",
      " -5.90361567e+11 -6.51412127e+11  5.01206099e+11  3.56135561e+11\n",
      "  1.92767813e+11  1.99974602e+10 -1.52420177e+11 -3.14777098e+11\n",
      " -4.58314603e+11 -5.76003072e+11 -6.63103323e+11 -7.17448430e+11\n",
      "  4.21681510e+11  2.72593763e+11  1.06927551e+11 -6.62547769e+10\n",
      " -2.37149295e+11 -3.96125400e+11 -5.34621331e+11 -6.45904894e+11\n",
      " -7.25605761e+11 -7.71962148e+11  3.35006780e+11  1.84670404e+11\n",
      "  1.97789759e+10 -1.50605359e+11 -3.16812349e+11 -4.69468358e+11\n",
      " -6.00368617e+11 -7.03204497e+11 -7.74056565e+11 -8.11601284e+11\n",
      "  2.46282569e+11  9.75562132e+10 -6.35126794e+10 -2.28030761e+11\n",
      " -3.86636861e+11 -5.30380015e+11 -6.51552892e+11 -7.44373077e+11\n",
      " -8.05428861e+11 -8.33843352e+11  1.60488855e+11  1.61594475e+10\n",
      " -1.38232324e+11 -2.94121824e+11 -4.42616033e+11 -5.75329798e+11\n",
      " -6.85166987e+11 -7.66945696e+11 -8.17791319e+11 -8.37257741e+11\n",
      "  8.20218922e+10 -5.53522557e+10 -2.00557247e+11 -3.45499783e+11\n",
      " -4.81889687e+11 -6.02021498e+11 -6.99492617e+11 -7.69765266e+11\n",
      " -8.10504076e+11 -8.21656212e+11  1.43238272e+10 -1.13902640e+11\n",
      " -2.47878503e+11 -3.80100023e+11 -5.02984241e+11 -6.09585796e+11\n",
      " -6.94244468e+11 -7.53079777e+11 -7.84272958e+11 -7.88109725e+11]\n",
      "Coef:  [[-4.59637333e+09  1.66691010e+10 -1.34078634e+11 ...  2.47844511e+10\n",
      "   1.78405508e+10  3.20660968e+10]\n",
      " [-4.85450550e+09  2.46224647e+10 -1.30181679e+11 ...  2.03700847e+10\n",
      "   1.46629647e+10  2.63547941e+10]\n",
      " [-5.02955808e+09  3.20000981e+10 -1.21811049e+11 ...  1.50542152e+10\n",
      "   1.08364510e+10  1.94771277e+10]\n",
      " ...\n",
      " [ 5.76232209e+09  3.95924191e+10  2.30147924e+09 ... -2.17899717e+10\n",
      "  -1.56850396e+10 -2.81918424e+10]\n",
      " [ 5.25564824e+09  4.92452154e+10 -1.82295012e+10 ... -2.28156994e+10\n",
      "  -1.64233875e+10 -2.95189278e+10]\n",
      " [ 4.69569668e+09  5.58212324e+10 -3.52662402e+10 ... -2.30229859e+10\n",
      "  -1.65725982e+10 -2.97871149e+10]]\n"
     ]
    }
   ],
   "source": [
    "print('Intercept: ', regr.intercept_)\n",
    "print('Coef: ', regr.coef_)"
   ]
  },
  {
   "cell_type": "markdown",
   "metadata": {},
   "source": [
    "### evaluate model with test data"
   ]
  },
  {
   "cell_type": "code",
   "execution_count": 54,
   "metadata": {},
   "outputs": [
    {
     "name": "stdout",
     "output_type": "stream",
     "text": [
      "recoding MSE: \n",
      " [0.02093795 0.02009646 0.01905242 0.01817733 0.01777962 0.01803349\n",
      " 0.01892691 0.020261   0.02169623 0.022847   0.0200832  0.01849566\n",
      " 0.01675131 0.01530976 0.01456492 0.01473999 0.01583009 0.01759868\n",
      " 0.01963808 0.02146955 0.0189751  0.01664361 0.01419912 0.01219629\n",
      " 0.01110745 0.01120318 0.01248559 0.01468246 0.01731739 0.0198276\n",
      " 0.01800877 0.01502139 0.0119634  0.0094706  0.00808291 0.00811298\n",
      " 0.00956629 0.01214066 0.01529906 0.0184009  0.01753637 0.01407266\n",
      " 0.01056601 0.00771611 0.00611401 0.00610233 0.00768974 0.01054691\n",
      " 0.01409112 0.01762344 0.01778545 0.01408402 0.01035283 0.00732443\n",
      " 0.00562025 0.00559834 0.00726584 0.01027763 0.01402086 0.01776426\n",
      " 0.01878167 0.01511439 0.01140664 0.00839863 0.00671485 0.00671443\n",
      " 0.00839982 0.01141918 0.01515096 0.01885667 0.02034507 0.01696729\n",
      " 0.01352239 0.01072395 0.00917696 0.00922379 0.01085868 0.01373808\n",
      " 0.01725127 0.02068547 0.02212619 0.0192447  0.01625465 0.01382144\n",
      " 0.01250059 0.0126088  0.0141336  0.01674193 0.01986644 0.02283749\n",
      " 0.02369471 0.02143905 0.01903115 0.01706075 0.01602389 0.01619485\n",
      " 0.0175595  0.01980897 0.02242382 0.02480021]\n",
      "recoding error std:\n",
      " [0.14469928 0.14176187 0.13803038 0.13482323 0.13333928 0.13428805\n",
      " 0.13757358 0.14233735 0.14729455 0.15114846 0.14171521 0.13599867\n",
      " 0.1294267  0.12373234 0.12068479 0.12140779 0.12581722 0.13265919\n",
      " 0.14013267 0.14652399 0.13775012 0.12901006 0.11915997 0.11043672\n",
      " 0.10539132 0.10584504 0.11173839 0.12116974 0.13159531 0.14080941\n",
      " 0.13419538 0.12256177 0.10937733 0.09731698 0.08990485 0.09007195\n",
      " 0.0978073  0.1101844  0.12368928 0.13564991 0.13242497 0.11862813\n",
      " 0.10279101 0.08784139 0.078192   0.0781174  0.0876908  0.10269711\n",
      " 0.11870593 0.13275226 0.13336204 0.11867576 0.10174854 0.08558284\n",
      " 0.07496832 0.07482145 0.08523982 0.10137849 0.1184097  0.13328261\n",
      " 0.13704591 0.1229401  0.10680169 0.09164359 0.08194399 0.08194052\n",
      " 0.09164957 0.10686053 0.12308861 0.13731959 0.14263607 0.13025827\n",
      " 0.11628504 0.10355636 0.09579555 0.09603744 0.10420343 0.11720868\n",
      " 0.13134402 0.14382312 0.14874869 0.13872511 0.12749342 0.11756344\n",
      " 0.11180424 0.11228861 0.11888436 0.12938943 0.14094763 0.15111793\n",
      " 0.15393077 0.14642058 0.1379531  0.13061647 0.12658366 0.12725835\n",
      " 0.13251028 0.1407427  0.14974419 0.15747895]\n",
      "score [0.49734276 0.49662829 0.49626854 0.49717553 0.50053447 0.50661763\n",
      " 0.5144078  0.52231338 0.52924209 0.53468566 0.50200309 0.49756101\n",
      " 0.49193974 0.48707615 0.4862007  0.49170123 0.50227089 0.51424141\n",
      " 0.52482059 0.53307569 0.50850366 0.4998824  0.4868324  0.47105593\n",
      " 0.45980186 0.46275217 0.47923485 0.4993381  0.51628538 0.52865873\n",
      " 0.51687229 0.50486078 0.48303025 0.44866702 0.41230381 0.40648405\n",
      " 0.43762391 0.47487155 0.50258734 0.52088622 0.5264216  0.51304277\n",
      " 0.48468271 0.42822063 0.34436521 0.31410629 0.37639156 0.44297795\n",
      " 0.48518059 0.51028769 0.53536332 0.52315303 0.49463649 0.43095158\n",
      " 0.31722367 0.25662169 0.33449889 0.41885077 0.46985397 0.49931462\n",
      " 0.54205228 0.53226167 0.50898861 0.45883612 0.37457263 0.31929181\n",
      " 0.35705591 0.41860621 0.46296794 0.49111963 0.54573276 0.53842329\n",
      " 0.52129003 0.48788832 0.43847936 0.40139244 0.40669691 0.43599087\n",
      " 0.46512627 0.48717231 0.54675298 0.54144445 0.52919903 0.50715369\n",
      " 0.47727415 0.45227375 0.44609846 0.45625346 0.47193922 0.48673406\n",
      " 0.5458916  0.54216031 0.53335064 0.51825373 0.49849388 0.48055293\n",
      " 0.47151738 0.47251432 0.47947247 0.48830707]\n"
     ]
    }
   ],
   "source": [
    "predic_X_test = regr.predict(X_test)\n",
    "\n",
    "recoding_error = y_test - predic_X_test # true - estimate\n",
    "print('recoding MSE: \\n', np.mean(recoding_error**2, axis=0))\n",
    "print('recoding error std:\\n', np.std(recoding_error, axis=0))      \n",
    "print('score', r2_score(y_test, predic_X_test, multioutput='raw_values'))"
   ]
  },
  {
   "cell_type": "code",
   "execution_count": 55,
   "metadata": {},
   "outputs": [],
   "source": [
    "predic_X_df_test = DataFrame(predic_X_test) "
   ]
  },
  {
   "cell_type": "code",
   "execution_count": 56,
   "metadata": {},
   "outputs": [
    {
     "data": {
      "text/plain": [
       "array([[0.40673828, 0.44506836, 0.4788208 , ..., 0.88769531, 0.85583496,\n",
       "        0.80932617],\n",
       "       [0.48327637, 0.49975586, 0.50811768, ..., 0.78027344, 0.71264648,\n",
       "        0.63806152],\n",
       "       [0.36181641, 0.4017334 , 0.43914795, ..., 0.90930176, 0.88525391,\n",
       "        0.84667969],\n",
       "       ...,\n",
       "       [0.35021973, 0.39544678, 0.43798828, ..., 0.90612793, 0.89355469,\n",
       "        0.8651123 ],\n",
       "       [0.29370117, 0.33776855, 0.38098145, ..., 0.92163086, 0.92077637,\n",
       "        0.9029541 ],\n",
       "       [0.62695312, 0.70794678, 0.7835083 , ..., 0.5682373 , 0.56750488,\n",
       "        0.55529785]])"
      ]
     },
     "execution_count": 56,
     "metadata": {},
     "output_type": "execute_result"
    }
   ],
   "source": [
    "predic_X_test\n"
   ]
  },
  {
   "cell_type": "markdown",
   "metadata": {},
   "source": [
    "### Plot in below is different from 'recoding_KRR.ipynb'. This is RBF(belief) to RBF(belief), and 'recoding_KRR.ipynb' is belief to belief. "
   ]
  },
  {
   "cell_type": "code",
   "execution_count": 57,
   "metadata": {},
   "outputs": [
    {
     "data": {
      "text/plain": [
       "Text(0.5, 1.0, 'Recoding')"
      ]
     },
     "execution_count": 57,
     "metadata": {},
     "output_type": "execute_result"
    },
    {
     "data": {
      "image/png": "[encoded data removed]",
      "text/plain": [
       "<Figure size 432x288 with 1 Axes>"
      ]
     },
     "metadata": {
      "needs_background": "light"
     },
     "output_type": "display_data"
    }
   ],
   "source": [
    "# plot: compare raw data vs prediction\n",
    "plt.scatter(y_test, predic_X_test, s=3, c='blue', marker='o')\n",
    "plt.xlabel('transformed belief (true)')\n",
    "plt.ylabel('transformed belief (prediction)')\n",
    "plt.title('Recoding')"
   ]
  },
  {
   "cell_type": "markdown",
   "metadata": {},
   "source": [
    "### build csv file"
   ]
  },
  {
   "cell_type": "code",
   "execution_count": 43,
   "metadata": {},
   "outputs": [
    {
     "data": {
      "text/plain": [
       "\"\\n#neural estimate of belief using current linear regression model\\nnb= regr.predict(r_df) \\nnb_df = DataFrame(nb, columns = bb_df.columns)\\n#save neural estimate belief\\nnb_df.to_csv(path_or_buf='./data/nb_df.csv',index=False)\\n\""
      ]
     },
     "execution_count": 43,
     "metadata": {},
     "output_type": "execute_result"
    }
   ],
   "source": [
    "\"\"\"\n",
    "#neural estimate of belief using current linear regression model\n",
    "nb= regr.predict(r_df) \n",
    "nb_df = DataFrame(nb, columns = bb_df.columns)\n",
    "#save neural estimate belief\n",
    "nb_df.to_csv(path_or_buf='./data/nb_df.csv',index=False)\n",
    "\"\"\""
   ]
  },
  {
   "cell_type": "code",
   "execution_count": null,
   "metadata": {},
   "outputs": [],
   "source": []
  }
 ],
 "metadata": {
  "kernelspec": {
   "display_name": "Python 3",
   "language": "python",
   "name": "python3"
  },
  "language_info": {
   "codemirror_mode": {
    "name": "ipython",
    "version": 3
   },
   "file_extension": ".py",
   "mimetype": "text/x-python",
   "name": "python",
   "nbconvert_exporter": "python",
   "pygments_lexer": "ipython3",
   "version": "3.7.1"
  }
 },
 "nbformat": 4,
 "nbformat_minor": 1
}
