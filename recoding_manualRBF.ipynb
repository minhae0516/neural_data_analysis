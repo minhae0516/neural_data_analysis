{
 "cells": [
  {
   "cell_type": "code",
   "execution_count": 1,
   "metadata": {},
   "outputs": [],
   "source": [
    "\"\"\"\n",
    "updated 2019-08-08 \n",
    "written by Minhae Kwon\n",
    "\n",
    "- `recoding`: Estimate the next belief from current belief and observations\n",
    "    - input:\n",
    "        - if you use POMDP data (for now): `recoding_pomdp_all_prev_df.csv` and `recoding_pomdp_all_now_df.csv`\n",
    "        - ideally with neural data: `recoding_neural_all_prev_df.csv` and `recoding_neural_all_now_df.csv`\n",
    "    - output: `recoding_belief_results_df.csv` (estimated future belief)\n",
    "    - method: Autoregression - this is linear regression between two time steps. \n",
    "    - there are two versions in codes:\n",
    "        -`recoding_wo_RBF.ipynb`: no RBF is used. \n",
    "        - `recoding_KRR.ipynb`: RBF is used using sklearn built-in function: [Kernel Ridge Regression (kernel ='rbf')](https://scikit-learn.org/stable/modules/generated/sklearn.kernel_ridge.KernelRidge.html). \n",
    "        (Warning: this code runs pretty slow compared to others. So if you need to handle big data size, plan in advance!)\n",
    "        - `recoding_manualRBF.ipynb`: RBF is manually coded by me. So we can customize center locations for nonlinear transform. \n",
    "        Everything is the same as `recoding_wo_RBF.ipynb` but RBF.\n",
    "        - `recoding_KRR.ipynb` works the best, and pretty good!\n",
    "\n",
    "ref: https://towardsdatascience.com/ridge-and-lasso-regression-a-complete-guide-with-python-scikit-learn-e20e34bcbf0b\n",
    "https://scikit-learn.org/stable/modules/generated/sklearn.kernel_ridge.KernelRidge.html\n",
    "https://scikit-learn.org/stable/modules/linear_model.html#ridge-regression\n",
    "https://scikit-learn.org/stable/auto_examples/plot_kernel_ridge_regression.html#sphx-glr-auto-examples-plot-kernel-ridge-regression-py\n",
    "\n",
    "ref: https://chrisalbon.com/machine_learning/linear_regression/linear_regression_using_scikit-learn/\n",
    "     https://datatofish.com/multiple-linear-regression-python/\n",
    "\n",
    "cross validate score: Coefficient of determination\n",
    "https://en.wikipedia.org/wiki/Coefficient_of_determination\n",
    "\"\"\"\n",
    "\n",
    "from pandas import DataFrame, read_csv\n",
    "#from sklearn.preprocessing import StandardScaler\n",
    "from sklearn.linear_model import LinearRegression\n",
    "from sklearn.model_selection import train_test_split\n",
    "from sklearn.model_selection import cross_val_score, StratifiedKFold\n",
    "from sklearn.model_selection import StratifiedKFold\n",
    "from sklearn.metrics import r2_score\n",
    "#from sklearn.pipeline import Pipeline\n",
    "from sklearn.kernel_ridge import KernelRidge\n",
    "import numpy as np\n",
    "import matplotlib.pyplot as plt\n",
    "import itertools\n",
    "\n",
    "#bb_df = read_csv('./data/bb_df.csv') #behavior belief =[belief for box1, beleif for box2]\n",
    "bb_df_prev = read_csv('./data/recoding_pomdp_all_prev_df.csv') #behavior belief =[belief for box1, beleif for box2]\n",
    "bb_df_now = read_csv('./data/recoding_pomdp_all_now_df.csv') #behavior belief =[belief for box1, beleif for box2]\n",
    "\n",
    "\n",
    "TEST_SIZE = 0.2  # ratio of test data set \n",
    "N_SPLITS = 10 # \"K\" in K-fold cross validation "
   ]
  },
  {
   "cell_type": "code",
   "execution_count": 2,
   "metadata": {},
   "outputs": [],
   "source": [
    "data = bb_df_prev #.to_numpy()\n",
    "y_raw = bb_df_now[['behavior_belief1', 'behavior_belief2']].to_numpy()\n"
   ]
  },
  {
   "cell_type": "code",
   "execution_count": 3,
   "metadata": {},
   "outputs": [],
   "source": [
    "def RBF(X_set, centers, gamma):\n",
    "    \"\"\"\n",
    "    gamma = 0.01: hard indicator\n",
    "    gamma = 0.1: soft indicator\n",
    "    \"\"\"\n",
    "    X_RBF_set = np.ones((X_set.shape[0], centers.shape[0])) # number of data set * number of center ponts\n",
    "    for i in range(X_set.shape[0]):\n",
    "        X = X_set[i] #i-th data\n",
    "        X_RBF = np.exp(-1*1/gamma/2*np.linalg.norm(X-centers,2, axis = 1)**2)        \n",
    "        X_RBF_set[i] = X_RBF/np.sum(X_RBF)# divided by total sum -> make total sum 1\n",
    "        #print(X_RBF/np.sum(X_RBF))\n",
    "    return X_RBF_set\n",
    "    "
   ]
  },
  {
   "cell_type": "code",
   "execution_count": 4,
   "metadata": {},
   "outputs": [],
   "source": [
    "nb_raw = data[['behavior_belief1', 'behavior_belief2']].to_numpy()#[:1000] # for time constraint, I tested only 1000 data points\n",
    "\n",
    "a_raw = data['action'].to_numpy()#[:1000]\n",
    "loc_raw = data['location'].to_numpy()#[:1000]\n",
    "rwd_raw = data['reward'].to_numpy()\n",
    "clr_raw = data[['color 1', 'color 2']].to_numpy()\n",
    "\n",
    "\n",
    "\n",
    "b_center = np.linspace(0.05,1.05,11)[:10]\n",
    "a_center = np.array([0,1,2,3,4])\n",
    "loc_center = np.array([0, 1, 2])\n",
    "rwd_center = np.array([0, 1])\n",
    "clr_center = np.array([0, 1, 2, 3, 4])\n",
    "\n",
    "# make distance =1 for belief\n",
    "nb_raw = nb_raw*10\n",
    "b_center = b_center*10\n",
    "y_raw = y_raw*10\n",
    "\n",
    "centers_a = []\n",
    "centers_b = []\n",
    "centers_loc =[]\n",
    "centers_rwd = []\n",
    "centers_clr =[]\n",
    "\n",
    "\n",
    "for i in itertools.product(b_center,b_center):\n",
    "    centers_b.append(i)\n",
    "for j in itertools.product(loc_center):\n",
    "    centers_loc.append(j)\n",
    "for k in itertools.product(rwd_center):\n",
    "    centers_rwd.append(k)\n",
    "for c in itertools.product(clr_center, clr_center):\n",
    "    centers_clr.append(c)\n",
    "for l in itertools.product(a_center):\n",
    "    centers_a.append(l)\n",
    "    \n",
    "centers_b = np.array(centers_b)\n",
    "centers_loc = np.array(centers_loc)\n",
    "centers_rwd = np.array(centers_rwd)\n",
    "centers_clr = np.array(centers_clr)\n",
    "centers_a = np.array(centers_a)\n",
    "\n",
    "# nonlinear transform using RBF: belief and location are transformed individually\n",
    "# gamma in here is the variance term in gaussian equation\n",
    "nb = RBF(nb_raw, centers_b, gamma=0.1) \n",
    "loc = RBF(loc_raw, centers_loc, gamma=0.01) # very small gamma to act as a spike (hard indicator)\n",
    "rwd = RBF(rwd_raw, centers_rwd, gamma=0.01) # very small gamma to act as a spike (hard indicator)\n",
    "clr = RBF(clr_raw, centers_clr, gamma=0.01)# I'm not sure color cue needs hard or soft indicator\n",
    "a = RBF(a_raw, centers_a, gamma=0.01)# very small gamma to act as a spike (hard indicator)\n",
    "#y = RBF(y_raw, centers_b, gamma=0.1) \n",
    "\n",
    "\n",
    "nb_all = np.concatenate((nb, a, loc, rwd, clr),axis=1)    "
   ]
  },
  {
   "cell_type": "code",
   "execution_count": 5,
   "metadata": {},
   "outputs": [],
   "source": [
    "X = nb_all\n",
    "y = y_raw"
   ]
  },
  {
   "cell_type": "markdown",
   "metadata": {},
   "source": [
    "### there are 3 types of data: test data, train data, validation data"
   ]
  },
  {
   "cell_type": "code",
   "execution_count": 6,
   "metadata": {},
   "outputs": [],
   "source": [
    "# separate test data set\n",
    "X_train, X_test, y_train, y_test = train_test_split(X, y, test_size=TEST_SIZE, random_state = 1)"
   ]
  },
  {
   "cell_type": "code",
   "execution_count": 7,
   "metadata": {},
   "outputs": [],
   "source": [
    "regr = LinearRegression(n_jobs = -1) # linear regression is used for encoding process\n",
    "#regr = KernelRidge(alpha=0.01, gamma=0.1, kernel='rbf') # linear regression(small gamma) with RBF kernel"
   ]
  },
  {
   "cell_type": "code",
   "execution_count": 8,
   "metadata": {},
   "outputs": [],
   "source": [
    "# now we use only train data \n",
    "# why use StratifiedKFold?: The folds are made by preserving the percentage of samples for each class.\n",
    "k_fold = StratifiedKFold(n_splits=N_SPLITS) # seperate train data and validation data"
   ]
  },
  {
   "cell_type": "code",
   "execution_count": 9,
   "metadata": {},
   "outputs": [
    {
     "name": "stdout",
     "output_type": "stream",
     "text": [
      "score [0.57258545 0.59685986]\n",
      "score [0.57393074 0.60808183]\n",
      "score [0.56787644 0.60982612]\n",
      "score [0.56644626 0.59106227]\n",
      "score [0.56168232 0.60331949]\n",
      "score [0.57687906 0.59683233]\n",
      "score [0.57031682 0.59159871]\n",
      "score [0.563544  0.6052849]\n",
      "score [0.5584939  0.59724967]\n",
      "score [0.55647222 0.59429861]\n"
     ]
    }
   ],
   "source": [
    "# why argmax(1)? split cannot simply handle multidimension y. \n",
    "# ref: https://stackoverflow.com/questions/48508036/sklearn-stratifiedkfold-valueerror-supported-target-types-are-binary-mul\n",
    "for i, (train_index, val_index) in enumerate(k_fold.split(X, y.argmax(1))):\n",
    "    #print(\"TRAIN:\", train_index, \"TEST:\", val_index)\n",
    "    x_train_kf, x_val_kf = X[train_index], X[val_index]\n",
    "    y_train_kf, y_val_kf = y[train_index], y[val_index]\n",
    "    #print(x_train_kf)\n",
    "    #print(y_train_kf)\n",
    "    regr.fit(x_train_kf, y_train_kf) # fit the model\n",
    "    nb_val = regr.predict(x_val_kf) # predict based on current model -> use validation data for evaluation\n",
    "    print('score', r2_score(y_val_kf, nb_val, multioutput='raw_values')) # get r2 score"
   ]
  },
  {
   "cell_type": "markdown",
   "metadata": {},
   "source": [
    "### Linear regression model: "
   ]
  },
  {
   "cell_type": "code",
   "execution_count": 10,
   "metadata": {},
   "outputs": [
    {
     "data": {
      "text/plain": [
       "(2, 135)"
      ]
     },
     "execution_count": 10,
     "metadata": {},
     "output_type": "execute_result"
    }
   ],
   "source": [
    "regr.coef_.shape"
   ]
  },
  {
   "cell_type": "code",
   "execution_count": 11,
   "metadata": {},
   "outputs": [
    {
     "name": "stdout",
     "output_type": "stream",
     "text": [
      "Intercept:  [ 1.67276387e+14 -2.60753779e+14]\n",
      "Coef:  [[ 1.84484603e+11  1.84484603e+11  1.84484603e+11  1.84484603e+11\n",
      "   1.84484603e+11  1.84484603e+11  1.84484603e+11  1.84484603e+11\n",
      "   1.84484603e+11  1.84484603e+11  1.84484603e+11  1.84484603e+11\n",
      "   1.84484603e+11  1.84484603e+11  1.84484603e+11  1.84484603e+11\n",
      "   1.84484603e+11  1.84484603e+11  1.84484603e+11  1.84484603e+11\n",
      "   1.84484603e+11  1.84484603e+11  1.84484603e+11  1.84484603e+11\n",
      "   1.84484603e+11  1.84484603e+11  1.84484603e+11  1.84484603e+11\n",
      "   1.84484603e+11  1.84484603e+11  1.84484603e+11  1.84484603e+11\n",
      "   1.84484603e+11  1.84484603e+11  1.84484603e+11  1.84484603e+11\n",
      "   1.84484603e+11  1.84484603e+11  1.84484603e+11  1.84484603e+11\n",
      "   1.84484603e+11  1.84484603e+11  1.84484603e+11  1.84484603e+11\n",
      "   1.84484603e+11  1.84484603e+11  1.84484603e+11  1.84484603e+11\n",
      "   1.84484603e+11  1.84484603e+11  1.84484603e+11  1.84484603e+11\n",
      "   1.84484603e+11  1.84484603e+11  1.84484603e+11  1.84484603e+11\n",
      "   1.84484603e+11  1.84484603e+11  1.84484603e+11  1.84484603e+11\n",
      "   1.84484603e+11  1.84484603e+11  1.84484603e+11  1.84484603e+11\n",
      "   1.84484603e+11  1.84484603e+11  1.84484603e+11  1.84484603e+11\n",
      "   1.84484603e+11  1.84484603e+11  1.84484603e+11  1.84484603e+11\n",
      "   1.84484603e+11  1.84484603e+11  1.84484603e+11  1.84484603e+11\n",
      "   1.84484603e+11  1.84484603e+11  1.84484603e+11  1.84484603e+11\n",
      "   1.84484603e+11  1.84484603e+11  1.84484603e+11  1.84484603e+11\n",
      "   1.84484603e+11  1.84484603e+11  1.84484603e+11  1.84484603e+11\n",
      "   1.84484603e+11  1.84484603e+11  1.84484603e+11  1.84484603e+11\n",
      "   1.84484603e+11  1.84484603e+11  1.84484603e+11  1.84484603e+11\n",
      "   1.84484603e+11  1.84484603e+11  1.84484603e+11  1.84484603e+11\n",
      "  -2.00064950e+13 -2.00064950e+13 -2.00064950e+13 -2.00064950e+13\n",
      "  -2.00064950e+13 -7.83507532e+13 -7.83507532e+13 -7.83507532e+13\n",
      "  -7.13402361e+13 -7.13402361e+13  2.23661239e+12  2.23661239e+12\n",
      "   2.23661239e+12  2.23661239e+12  2.23661239e+12  2.23661239e+12\n",
      "   2.23661239e+12  2.23661239e+12  2.23661239e+12  2.23661239e+12\n",
      "   2.23661239e+12  2.23661239e+12  2.23661239e+12  2.23661239e+12\n",
      "   2.23661239e+12  2.23661239e+12  2.23661239e+12  2.23661239e+12\n",
      "   2.23661239e+12  2.23661239e+12  2.23661239e+12  2.23661239e+12\n",
      "   2.23661239e+12  2.23661239e+12  2.23661239e+12]\n",
      " [-3.64773071e+10 -3.64773071e+10 -3.64773071e+10 -3.64773071e+10\n",
      "  -3.64773071e+10 -3.64773071e+10 -3.64773071e+10 -3.64773071e+10\n",
      "  -3.64773071e+10 -3.64773071e+10 -3.64773071e+10 -3.64773071e+10\n",
      "  -3.64773071e+10 -3.64773071e+10 -3.64773071e+10 -3.64773071e+10\n",
      "  -3.64773071e+10 -3.64773071e+10 -3.64773071e+10 -3.64773071e+10\n",
      "  -3.64773071e+10 -3.64773071e+10 -3.64773071e+10 -3.64773071e+10\n",
      "  -3.64773071e+10 -3.64773071e+10 -3.64773071e+10 -3.64773071e+10\n",
      "  -3.64773071e+10 -3.64773071e+10 -3.64773071e+10 -3.64773071e+10\n",
      "  -3.64773071e+10 -3.64773071e+10 -3.64773071e+10 -3.64773071e+10\n",
      "  -3.64773071e+10 -3.64773071e+10 -3.64773071e+10 -3.64773071e+10\n",
      "  -3.64773071e+10 -3.64773071e+10 -3.64773071e+10 -3.64773071e+10\n",
      "  -3.64773071e+10 -3.64773071e+10 -3.64773071e+10 -3.64773071e+10\n",
      "  -3.64773071e+10 -3.64773071e+10 -3.64773071e+10 -3.64773071e+10\n",
      "  -3.64773071e+10 -3.64773071e+10 -3.64773071e+10 -3.64773071e+10\n",
      "  -3.64773071e+10 -3.64773071e+10 -3.64773071e+10 -3.64773071e+10\n",
      "  -3.64773071e+10 -3.64773071e+10 -3.64773071e+10 -3.64773071e+10\n",
      "  -3.64773071e+10 -3.64773071e+10 -3.64773071e+10 -3.64773071e+10\n",
      "  -3.64773071e+10 -3.64773071e+10 -3.64773071e+10 -3.64773071e+10\n",
      "  -3.64773071e+10 -3.64773071e+10 -3.64773071e+10 -3.64773071e+10\n",
      "  -3.64773071e+10 -3.64773071e+10 -3.64773071e+10 -3.64773071e+10\n",
      "  -3.64773071e+10 -3.64773071e+10 -3.64773071e+10 -3.64773071e+10\n",
      "  -3.64773071e+10 -3.64773071e+10 -3.64773071e+10 -3.64773071e+10\n",
      "  -3.64773071e+10 -3.64773071e+10 -3.64773071e+10 -3.64773071e+10\n",
      "  -3.64773071e+10 -3.64773071e+10 -3.64773071e+10 -3.64773071e+10\n",
      "  -3.64773071e+10 -3.64773071e+10 -3.64773071e+10 -3.64773071e+10\n",
      "   3.04089948e+13  3.04089948e+13  3.04089948e+13  3.04089948e+13\n",
      "   3.04089948e+13  1.21310559e+14  1.21310559e+14  1.21310559e+14\n",
      "   1.12703193e+14  1.12703193e+14 -3.63248974e+12 -3.63248974e+12\n",
      "  -3.63248974e+12 -3.63248974e+12 -3.63248974e+12 -3.63248974e+12\n",
      "  -3.63248974e+12 -3.63248974e+12 -3.63248974e+12 -3.63248974e+12\n",
      "  -3.63248974e+12 -3.63248974e+12 -3.63248974e+12 -3.63248974e+12\n",
      "  -3.63248974e+12 -3.63248974e+12 -3.63248974e+12 -3.63248974e+12\n",
      "  -3.63248974e+12 -3.63248974e+12 -3.63248974e+12 -3.63248974e+12\n",
      "  -3.63248974e+12 -3.63248974e+12 -3.63248974e+12]]\n"
     ]
    }
   ],
   "source": [
    "print('Intercept: ', regr.intercept_)\n",
    "print('Coef: ', regr.coef_)"
   ]
  },
  {
   "cell_type": "markdown",
   "metadata": {},
   "source": [
    "### evaluate model with test data"
   ]
  },
  {
   "cell_type": "code",
   "execution_count": 12,
   "metadata": {},
   "outputs": [
    {
     "name": "stdout",
     "output_type": "stream",
     "text": [
      "recoding MSE: \n",
      " [3.64543755 3.77355213]\n",
      "recoding error std:\n",
      " [1.90924087 1.94255531]\n",
      "score [0.57729401 0.60252079]\n"
     ]
    }
   ],
   "source": [
    "predic_X_test = regr.predict(X_test)\n",
    "\n",
    "recoding_error = y_test - predic_X_test # true - estimate\n",
    "print('recoding MSE: \\n', np.mean(recoding_error**2, axis=0))\n",
    "print('recoding error std:\\n', np.std(recoding_error, axis=0))      \n",
    "print('score', r2_score(y_test, predic_X_test, multioutput='raw_values'))"
   ]
  },
  {
   "cell_type": "code",
   "execution_count": 13,
   "metadata": {},
   "outputs": [],
   "source": [
    "predic_X_df_test = DataFrame(predic_X_test) "
   ]
  },
  {
   "cell_type": "code",
   "execution_count": 14,
   "metadata": {},
   "outputs": [
    {
     "data": {
      "image/png": "[encoded data removed]",
      "text/plain": [
       "<Figure size 432x288 with 2 Axes>"
      ]
     },
     "metadata": {
      "needs_background": "light"
     },
     "output_type": "display_data"
    },
    {
     "data": {
      "image/png": "[encoded data removed]",
      "text/plain": [
       "<Figure size 432x288 with 2 Axes>"
      ]
     },
     "metadata": {
      "needs_background": "light"
     },
     "output_type": "display_data"
    }
   ],
   "source": [
    "# plot: compare raw data vs prediction\n",
    "plt.hist2d(y_test[:,0]/10, predic_X_test[:,0]/10, bins=(10, 10), cmap=plt.cm.Greys)\n",
    "plt.colorbar()\n",
    "plt.xlabel('true belief')\n",
    "plt.ylabel('estimated belief')\n",
    "plt.title('Recoding(manual RBF): test data BOX1')\n",
    "plt.savefig('./figures/recoding_manualRBF_box1.eps', format = 'eps')\n",
    "\n",
    "# plot: compare raw data vs prediction\n",
    "plt.figure()\n",
    "plt.hist2d(y_test[:,1]/10, predic_X_test[:,1]/10, bins=(10, 10), cmap=plt.cm.Greys)\n",
    "plt.colorbar()\n",
    "plt.xlabel('true belief')\n",
    "plt.ylabel('estimated belief')\n",
    "plt.title('Recoding(manual RBF): test data BOX2')\n",
    "plt.savefig('./figures/recoding_manualRBF_box1.eps', format = 'eps')"
   ]
  },
  {
   "cell_type": "code",
   "execution_count": 15,
   "metadata": {
    "scrolled": true
   },
   "outputs": [
    {
     "data": {
      "text/plain": [
       "Text(0.5, 1.0, 'Recoding: BOX 2')"
      ]
     },
     "execution_count": 15,
     "metadata": {},
     "output_type": "execute_result"
    },
    {
     "data": {
      "image/png": "[encoded data removed]",
      "text/plain": [
       "<Figure size 432x288 with 1 Axes>"
      ]
     },
     "metadata": {
      "needs_background": "light"
     },
     "output_type": "display_data"
    },
    {
     "data": {
      "image/png": "[encoded data removed]",
      "text/plain": [
       "<Figure size 432x288 with 1 Axes>"
      ]
     },
     "metadata": {
      "needs_background": "light"
     },
     "output_type": "display_data"
    }
   ],
   "source": [
    "line_x = np.linspace(0,1,num=11)\n",
    "line_y = np.linspace(0,1,num=11)\n",
    "S = 3\n",
    "\n",
    "\n",
    "# plot: compare raw data vs prediction\n",
    "plt.scatter(y_test[:,0]/10, predic_X_test[:,0]/10, s=S, c='blue', marker='o')\n",
    "plt.plot(line_x, line_y,c='k')\n",
    "plt.xlabel('ture belief')\n",
    "plt.ylabel('predicted belief')\n",
    "plt.title('Recoding: BOX 1')\n",
    "\n",
    "# plot: compare raw data vs prediction\n",
    "plt.figure()\n",
    "plt.scatter(y_test[:,1]/10, predic_X_test[:,1]/10, s=S, c='red', marker='o')\n",
    "plt.plot(line_x, line_y,c='k')\n",
    "plt.xlabel('ture belief')\n",
    "plt.ylabel('predicted belief')\n",
    "plt.title('Recoding: BOX 2')"
   ]
  },
  {
   "cell_type": "code",
   "execution_count": 16,
   "metadata": {},
   "outputs": [
    {
     "data": {
      "text/plain": [
       "array([[3.5, 8.5],\n",
       "       [7.5, 6.5],\n",
       "       [5.5, 6.5],\n",
       "       ...,\n",
       "       [0.5, 2.5],\n",
       "       [0.5, 1.5],\n",
       "       [1.5, 5.5]])"
      ]
     },
     "execution_count": 16,
     "metadata": {},
     "output_type": "execute_result"
    }
   ],
   "source": [
    "y_raw"
   ]
  },
  {
   "cell_type": "code",
   "execution_count": null,
   "metadata": {},
   "outputs": [],
   "source": []
  },
  {
   "cell_type": "code",
   "execution_count": 20,
   "metadata": {},
   "outputs": [
    {
     "data": {
      "text/plain": [
       "Text(0.5, 1.0, 'BOX2')"
      ]
     },
     "execution_count": 20,
     "metadata": {},
     "output_type": "execute_result"
    },
    {
     "data": {
      "image/png": "[encoded data removed]",
      "text/plain": [
       "<Figure size 432x288 with 1 Axes>"
      ]
     },
     "metadata": {
      "needs_background": "light"
     },
     "output_type": "display_data"
    },
    {
     "data": {
      "image/png": "[encoded data removed]",
      "text/plain": [
       "<Figure size 432x288 with 1 Axes>"
      ]
     },
     "metadata": {
      "needs_background": "light"
     },
     "output_type": "display_data"
    }
   ],
   "source": [
    "# plot changes\n",
    "\n",
    "line_x = np.linspace(-.8,.8,num=11)\n",
    "line_y = np.linspace(-.8,.8,num=11)\n",
    "\n",
    "true_change = (y_raw - nb_raw)/10\n",
    "predic_X = regr.predict(X) # all data\n",
    "predicted_change = (predic_X - nb_raw)/10\n",
    "\n",
    "plt.scatter(true_change[:,0], predicted_change[:,0])\n",
    "plt.plot(line_x, line_y,c='k')\n",
    "plt.title('BOX1')\n",
    "\n",
    "\n",
    "plt.figure()\n",
    "plt.scatter(true_change[:,1], predicted_change[:,1])\n",
    "plt.plot(line_x, line_y,c='k')\n",
    "plt.title('BOX2')"
   ]
  },
  {
   "cell_type": "markdown",
   "metadata": {},
   "source": [
    "### build csv file"
   ]
  },
  {
   "cell_type": "code",
   "execution_count": 261,
   "metadata": {},
   "outputs": [
    {
     "data": {
      "text/plain": [
       "\"\\n#neural estimate of belief using current linear regression model\\nnb= regr.predict(r_df) \\nnb_df = DataFrame(nb, columns = bb_df.columns)\\n#save neural estimate belief\\nnb_df.to_csv(path_or_buf='./data/nb_df.csv',index=False)\\n\""
      ]
     },
     "execution_count": 261,
     "metadata": {},
     "output_type": "execute_result"
    }
   ],
   "source": [
    "\"\"\"\n",
    "#neural estimate of belief using current linear regression model\n",
    "nb= regr.predict(r_df) \n",
    "nb_df = DataFrame(nb, columns = bb_df.columns)\n",
    "#save neural estimate belief\n",
    "nb_df.to_csv(path_or_buf='./data/nb_df.csv',index=False)\n",
    "\"\"\""
   ]
  },
  {
   "cell_type": "code",
   "execution_count": null,
   "metadata": {},
   "outputs": [],
   "source": []
  },
  {
   "cell_type": "code",
   "execution_count": null,
   "metadata": {},
   "outputs": [],
   "source": []
  }
 ],
 "metadata": {
  "@webio": {
   "lastCommId": null,
   "lastKernelId": null
  },
  "kernelspec": {
   "display_name": "Python 3",
   "language": "python",
   "name": "python3"
  },
  "language_info": {
   "codemirror_mode": {
    "name": "ipython",
    "version": 3
   },
   "file_extension": ".py",
   "mimetype": "text/x-python",
   "name": "python",
   "nbconvert_exporter": "python",
   "pygments_lexer": "ipython3",
   "version": "3.7.1"
  }
 },
 "nbformat": 4,
 "nbformat_minor": 1
}
